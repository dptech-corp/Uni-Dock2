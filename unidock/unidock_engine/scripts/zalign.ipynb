{
 "cells": [
  {
   "cell_type": "markdown",
   "id": "85de9005",
   "metadata": {},
   "source": [
    "# ZAlign"
   ]
  },
  {
   "cell_type": "markdown",
   "id": "ae99df1c",
   "metadata": {},
   "source": [
    "## 生产添加 bias 的输入JSON"
   ]
  },
  {
   "cell_type": "code",
   "execution_count": 1,
   "id": "63433992",
   "metadata": {},
   "outputs": [],
   "source": [
    "from zalign import ZScore\n",
    "from rdkit import Chem\n",
    "import json\n",
    "import os\n",
    "import numpy as np\n",
    "def show_similarity_matrix(matrix):\n",
    "    # 用plotly绘制相似性得分矩阵的热力图，可以交互式查看横纵坐标\n",
    "    import plotly.graph_objs as go\n",
    "    import numpy as np\n",
    "\n",
    "    # 构造x轴和y轴标签（原子索引从1开始）\n",
    "    x_labels = [str(i+1) for i in range(matrix.shape[1])]\n",
    "    y_labels = [str(i+1) for i in range(matrix.shape[0])]\n",
    "\n",
    "    heatmap = go.Heatmap(\n",
    "        z=matrix,\n",
    "        x=x_labels,\n",
    "        y=y_labels,\n",
    "        colorscale='Hot',\n",
    "        colorbar=dict(title='Score'),\n",
    "        hoverongaps=False,\n",
    "        hovertemplate='Query Atom: %{y}<br>Template Atom: %{x}<br>Score: %{z:.1f}<extra></extra>'\n",
    "    )\n",
    "\n",
    "    layout = go.Layout(\n",
    "        title='Similarity Score Matrix',\n",
    "        xaxis=dict(title='Template Molecule Atom Index'),\n",
    "        yaxis=dict(title='Query Molecule Atom Index'),\n",
    "        width=900,\n",
    "        height=900\n",
    "    )\n",
    "\n",
    "    fig = go.Figure(data=[heatmap], layout=layout)\n",
    "    fig.show()\n",
    "\n",
    "\n",
    "def generate_zalign_input(fp_sdf_q, fp_sdf_t, fp_json_ori, fp_json_align):\n",
    "    mol_q = Chem.SDMolSupplier(fp_sdf_q, removeHs=False)[0]\n",
    "    mol_t = Chem.SDMolSupplier(fp_sdf_t, removeHs=False)[0]\n",
    "\n",
    "    matrix = ZScore(mol_q, mol_t).score()\n",
    "\n",
    "    #------- 准备输入JSON\n",
    "    with open(fp_json_ori, \"r\") as f:\n",
    "        data = json.load(f)\n",
    "\n",
    "    k = list(set(data.keys()) - {\"score\", \"receptor\"})[0]\n",
    "\n",
    "    # 得到所有原子的坐标\n",
    "    coords_t = mol_t.GetConformer().GetPositions().tolist()\n",
    "    coords_q = mol_q.GetConformer().GetPositions().tolist()\n",
    "    center_t = np.mean(coords_t, axis=0)\n",
    "    center_q = np.mean(coords_q, axis=0)\n",
    "    translation = center_t - center_q\n",
    "    \n",
    "    natom_t = mol_t.GetNumAtoms()\n",
    "    natom_q = mol_q.GetNumAtoms()\n",
    "\n",
    "    for i in range(natom_q):\n",
    "\n",
    "        biases = []\n",
    "        for j in range(natom_t): # each template atom\n",
    "            biases.append([*coords_t[j], float(matrix[i][j]), 0.])\n",
    "        \n",
    "        # add biases to this\n",
    "        data[k][\"atoms\"][i].append(biases)\n",
    "\n",
    "        # Align two centers\n",
    "        data[k][\"atoms\"][i][0] += translation[0]\n",
    "        data[k][\"atoms\"][i][1] += translation[1]\n",
    "        data[k][\"atoms\"][i][2] += translation[2]\n",
    "\n",
    "    data[\"score\"] = [\"vina\", \"gaff2\"] # `unidock2`-dumped json losts this key \n",
    "    with open(fp_json_align, \"w\") as f:\n",
    "        json.dump(data, f)\n",
    "    \n",
    "    return mol_q, mol_t, matrix"
   ]
  },
  {
   "cell_type": "code",
   "execution_count": null,
   "id": "ddd6e063",
   "metadata": {},
   "outputs": [],
   "source": [
    "# cmet\n",
    "# mol_q, mol_t, matrix = generate_zalign_input(\n",
    "#     fp_sdf_q=\"/home/lccdp/Projects/clion/Uni-Dock2/unidock/unidock_engine/examples/align_HNE/HNE_Ref.sdf\",\n",
    "#     fp_sdf_t=\"/home/lccdp/Projects/clion/Uni-Dock2/unidock/unidock_engine/examples/align_HNE/HNE_29.sdf\",\n",
    "#     fp_json_ori=\"/home/lccdp/Projects/clion/Uni-Dock2/unidock/unidock_engine/examples/align_HNE/tmp/docking_lccdp-S1_30087_20250825_190851_196850_omk3fehp/ud2_engine_inputs.json\",\n",
    "#     fp_json_align=\"/home/lccdp/Projects/clion/Uni-Dock2/unidock/unidock_engine/examples/align_HNE/ud2_align.json\"\n",
    "# )\n"
   ]
  },
  {
   "cell_type": "code",
   "execution_count": null,
   "id": "1b560267",
   "metadata": {},
   "outputs": [],
   "source": [
    "# dp = \"/home/lccdp/Projects/clion/Uni-Dock2/unidock/unidock_engine/examples/align_Bace/\"\n",
    "# fp = os.path.join(dp, \"tmp\", os.listdir(os.path.join(dp, \"tmp\"))[0], \"ud2_engine_inputs.json\")\n",
    "# fp_align = os.path.join(dp, \"ud2_align.json\")\n",
    "\n",
    "# fp_sdf_q = \"/home/lccdp/Projects/clion/Uni-Dock2/unidock/unidock_engine/examples/align_Bace/dock_with_bias/CAT-13g_rand.sdf\"\n",
    "# fp_sdf_t = \"/home/lccdp/Projects/clion/Uni-Dock2/unidock/unidock_engine/examples/align_Bace/dock_with_bias/CAT-24.sdf\"\n",
    "# fp = \"/home/lccdp/Projects/clion/Uni-Dock2/unidock/unidock_engine/examples/align_Bace/dock_with_bias/ud2_input.json\"\n",
    "# fp_align = \"/home/lccdp/Projects/clion/Uni-Dock2/unidock/unidock_engine/examples/align_Bace/dock_with_bias/ud2_align.json\"\n",
    "\n",
    "# generate_zalign_input(fp_sdf_q, fp_sdf_t, fp_json_ori, fp_json_align)\n"
   ]
  },
  {
   "cell_type": "code",
   "execution_count": null,
   "id": "8066813f",
   "metadata": {},
   "outputs": [],
   "source": [
    "# fp_sdf_q = \"/home/lccdp/Projects/clion/Uni-Dock2/unidock/unidock_engine/examples/align_Bace_Chiral/0.sdf\"\n",
    "# fp_sdf_t = \"/home/lccdp/Projects/clion/Uni-Dock2/unidock/unidock_engine/examples/align_Bace_Chiral/1.sdf\"\n",
    "# dp = \"/home/lccdp/Projects/clion/Uni-Dock2/unidock/unidock_engine/examples/align_Bace_Chiral/tmp/\"\n",
    "# fp_json_ori = os.path.join(dp, sorted(os.listdir(dp))[-1], \"ud2_engine_inputs.json\")\n",
    "# fp_json_align = \"/home/lccdp/Projects/clion/Uni-Dock2/unidock/unidock_engine/examples/align_Bace_Chiral/ud2_align.json\"\n",
    "\n",
    "# mol_q, mol_t, matrix = generate_zalign_input(fp_sdf_q, fp_sdf_t, fp_json_ori, fp_json_align)\n"
   ]
  },
  {
   "cell_type": "code",
   "execution_count": 36,
   "id": "382724ba",
   "metadata": {},
   "outputs": [],
   "source": [
    "dp = \"/home/lccdp/Projects/clion/Uni-Dock2/unidock/unidock_engine/examples/align_4IEH_diff_ring/\"\n",
    "fp_sdf_q = os.path.join(dp, \"CHEMBL376408_0.6_nM_3d_dock.sdf\")\n",
    "fp_sdf_t = os.path.join(dp, \"CHEMBL2322026_8.0_nM_3d_dock.sdf\")\n",
    "dp_tmp = os.path.join(dp, \"tmp/\")\n",
    "fp_json_ori = os.path.join(dp_tmp, sorted(os.listdir(dp_tmp))[-1], \"ud2_engine_inputs.json\")\n",
    "fp_json_align = os.path.join(dp, \"ud2_align.json\")\n",
    "\n",
    "mol_q, mol_t, matrix = generate_zalign_input(fp_sdf_q, fp_sdf_t, fp_json_ori, fp_json_align)"
   ]
  },
  {
   "cell_type": "code",
   "execution_count": 35,
   "id": "68aa030b",
   "metadata": {},
   "outputs": [],
   "source": [
    "dp = \"/home/lccdp/Projects/clion/Uni-Dock2/unidock/unidock_engine/examples/align_4IEH_ref/\"\n",
    "fp_sdf_q = os.path.join(dp, \"CHEMBL376408_prepared.sdf\")\n",
    "fp_sdf_t = os.path.join(dp, \"1E9_ref.sdf\")\n",
    "dp_tmp = os.path.join(dp, \"tmp/\")\n",
    "fp_json_ori = os.path.join(dp_tmp, sorted(os.listdir(dp_tmp))[-1], \"ud2_engine_inputs.json\")\n",
    "fp_json_align = os.path.join(dp, \"ud2_align.json\")\n",
    "\n",
    "mol_q, mol_t, matrix = generate_zalign_input(fp_sdf_q, fp_sdf_t, fp_json_ori, fp_json_align)"
   ]
  },
  {
   "cell_type": "code",
   "execution_count": null,
   "id": "eca10cb0",
   "metadata": {},
   "outputs": [],
   "source": [
    "mol_q = Chem.SDMolSupplier(fp_sdf_q, removeHs=False)[0]\n",
    "mol_t = Chem.SDMolSupplier(fp_sdf_t, removeHs=False)[0]\n",
    "print(mol_q.GetNumAtoms())\n",
    "print(mol_t.GetNumAtoms())"
   ]
  },
  {
   "cell_type": "code",
   "execution_count": null,
   "id": "e3a3d6c9",
   "metadata": {},
   "outputs": [],
   "source": []
  },
  {
   "cell_type": "code",
   "execution_count": null,
   "id": "dbf0ef82",
   "metadata": {},
   "outputs": [],
   "source": []
  },
  {
   "cell_type": "markdown",
   "id": "6cb99ee2",
   "metadata": {},
   "source": [
    "## 检查每个原子上的bias reward"
   ]
  },
  {
   "cell_type": "code",
   "execution_count": null,
   "id": "ada2401b",
   "metadata": {},
   "outputs": [],
   "source": [
    "a_5 = \"\"\"  [Total] Bias on 0 is 434.837860\n",
    "  [Total] Bias on 1 is 437.883270\n",
    "  [Total] Bias on 2 is 454.205658\n",
    "  [Total] Bias on 3 is 513.717163\n",
    "  [Total] Bias on 4 is 433.839905\n",
    "  [Total] Bias on 5 is 687.286499\n",
    "  [Total] Bias on 6 is 694.015259\n",
    "  [Total] Bias on 7 is 497.401917\n",
    "  [Total] Bias on 8 is 492.694153\n",
    "  [Total] Bias on 9 is 477.865295\n",
    "  [Total] Bias on 10 is 466.190033\n",
    "  [Total] Bias on 11 is 510.029724\n",
    "  [Total] Bias on 12 is 390.892303\n",
    "  [Total] Bias on 13 is 407.088562\n",
    "  [Total] Bias on 14 is 406.983887\n",
    "  [Total] Bias on 15 is 440.428406\n",
    "  [Total] Bias on 16 is 768.050476\n",
    "  [Total] Bias on 17 is 383.888672\n",
    "  [Total] Bias on 18 is 502.142487\n",
    "  [Total] Bias on 19 is 454.030273\n",
    "  [Total] Bias on 20 is 467.322479\n",
    "  [Total] Bias on 21 is 529.877869\n",
    "  [Total] Bias on 22 is 256.904388\n",
    "  [Total] Bias on 23 is 539.857300\n",
    "  [Total] Bias on 24 is 523.212036\n",
    "  [Total] Bias on 25 is 276.073395\n",
    "  [Total] Bias on 26 is 668.550659\n",
    "  [Total] Bias on 27 is 516.761353\n",
    "  [Total] Bias on 28 is 446.399628\n",
    "  [Total] Bias on 29 is 437.192841\n",
    "  [Total] Bias on 30 is 438.738556\n",
    "  [Total] Bias on 31 is 447.144531\n",
    "  [Total] Bias on 32 is 495.780396\n",
    "  [Total] Bias on 33 is 487.285248\n",
    "  [Total] Bias on 34 is 447.613831\n",
    "  [Total] Bias on 35 is 459.363373\n",
    "  [Total] Bias on 36 is 530.082092\n",
    "  [Total] Bias on 37 is 452.512909\n",
    "  [Total] Bias on 38 is 459.059784\n",
    "  [Total] Bias on 39 is 447.555084\n",
    "  [Total] Bias on 40 is 523.844543\n",
    "  [Total] Bias on 41 is 540.435608\n",
    "  [Total] Bias on 42 is 469.693268\n",
    "  [Total] Bias on 43 is 455.076965\n",
    "  [Total] Bias on 44 is 530.074341\n",
    "  [Total] Bias on 45 is 337.214386\n",
    "  [Total] Bias on 46 is 693.269165\n",
    "  [Total] Bias on 47 is 415.706390\n",
    "  [Total] Bias on 48 is 412.766052\n",
    "  [Total] Bias on 49 is 682.466980\n",
    "  [Total] Bias on 50 is 686.112366\n",
    "  [Total] Bias on 51 is 428.412537\n",
    "  [Total] Bias on 52 is 694.880859\n",
    "  [Total] Bias on 53 is 689.878052\n",
    "  [Total] Bias on 54 is 452.058167\n",
    "  [Total] Bias on 55 is 436.113495\n",
    "  [Total] Bias on 56 is 2.341205\n",
    "  [Total] Bias on 57 is 2.344645\n",
    "  [Total] Bias on 58 is 2.339919\n",
    "  [Total] Bias on 59 is 2.310529\n",
    "  [Total] Bias on 60 is 2.328649\n",
    "  [Total] Bias on 61 is 2.321392\n",
    "  [Total] Bias on 62 is 1.997979\n",
    "  [Total] Bias on 63 is 2.337433\n",
    "  [Total] Bias on 64 is 2.330834\n",
    "  [Total] Bias on 65 is 2.367126\n",
    "  [Total] Bias on 66 is 2.332510\n",
    "  [Total] Bias on 67 is 2.331291\n",
    "  [Total] Bias on 68 is 2.330812\n",
    "  [Total] Bias on 69 is 2.266410\n",
    "  [Total] Bias on 70 is 2.266515\n",
    "  [Total] Bias on 71 is 1.672162\n",
    "  [Total] Bias on 72 is 2.243036\n",
    "  [Total] Bias on 73 is 2.252204\n",
    "  [Total] Bias on 74 is 2.335458\n",
    "  [Total] Bias on 75 is 2.337729\n",
    "  [Total] Bias on 76 is 2.338017\n",
    "  [Total] Bias on 77 is 2.335671\n",
    "  [Total] Bias on 78 is 2.334428\n",
    "  [Total] Bias on 79 is 2.333882\n",
    "  [Total] Bias on 80 is 2.332246\n",
    "  [Total] Bias on 81 is 2.335143\n",
    "  [Total] Bias on 82 is 2.274140\n",
    "  [Total] Bias on 83 is 2.261748\n",
    "  [Total] Bias on 84 is 2.329131\n",
    "  [Total] Bias on 85 is 2.334845\n",
    "  [Total] Bias on 86 is 2.331738\n",
    "  [Total] Bias on 87 is 2.372009\n",
    "  [Total] Bias on 88 is 2.324117\n",
    "  [Total] Bias on 89 is 2.307616\n",
    "  [Total] Bias on 90 is 2.315824\n",
    "  [Total] Bias on 91 is 2.264395\n",
    "  [Total] Bias on 92 is 2.273753\n",
    "  [Total] Bias on 93 is 1.681142\n",
    "  [Total] Bias on 94 is 2.296904\n",
    "  [Total] Bias on 95 is 2.276802\n",
    "  [Total] Bias on 96 is 2.266453\n",
    "  [Total] Bias on 97 is 2.267425\n",
    "  [Total] Bias on 98 is 2.280829\n",
    "  [Total] Bias on 99 is 2.268176\n",
    "  [Total] Bias on 100 is 2.337898\"\"\".strip()"
   ]
  },
  {
   "cell_type": "code",
   "execution_count": null,
   "id": "d100e70a",
   "metadata": {},
   "outputs": [],
   "source": [
    "a_1 = \"\"\"  [Total] Bias on 0 is 439.055939\n",
    "  [Total] Bias on 1 is 438.695770\n",
    "  [Total] Bias on 2 is 451.660797\n",
    "  [Total] Bias on 3 is 511.726044\n",
    "  [Total] Bias on 4 is 432.177582\n",
    "  [Total] Bias on 5 is 700.866211\n",
    "  [Total] Bias on 6 is 694.197205\n",
    "  [Total] Bias on 7 is 502.762909\n",
    "  [Total] Bias on 8 is 494.992096\n",
    "  [Total] Bias on 9 is 478.340118\n",
    "  [Total] Bias on 10 is 465.944946\n",
    "  [Total] Bias on 11 is 509.305664\n",
    "  [Total] Bias on 12 is 391.718323\n",
    "  [Total] Bias on 13 is 407.479797\n",
    "  [Total] Bias on 14 is 406.717682\n",
    "  [Total] Bias on 15 is 441.354950\n",
    "  [Total] Bias on 16 is 767.982910\n",
    "  [Total] Bias on 17 is 383.859344\n",
    "  [Total] Bias on 18 is 502.184357\n",
    "  [Total] Bias on 19 is 454.782349\n",
    "  [Total] Bias on 20 is 467.561157\n",
    "  [Total] Bias on 21 is 529.477356\n",
    "  [Total] Bias on 22 is 256.794281\n",
    "  [Total] Bias on 23 is 540.043335\n",
    "  [Total] Bias on 24 is 523.219788\n",
    "  [Total] Bias on 25 is 275.408325\n",
    "  [Total] Bias on 26 is 667.262268\n",
    "  [Total] Bias on 27 is 517.092224\n",
    "  [Total] Bias on 28 is 446.564575\n",
    "  [Total] Bias on 29 is 435.991425\n",
    "  [Total] Bias on 30 is 437.471954\n",
    "  [Total] Bias on 31 is 447.133209\n",
    "  [Total] Bias on 32 is 495.868958\n",
    "  [Total] Bias on 33 is 486.947723\n",
    "  [Total] Bias on 34 is 446.884644\n",
    "  [Total] Bias on 35 is 459.721191\n",
    "  [Total] Bias on 36 is 531.010498\n",
    "  [Total] Bias on 37 is 452.461090\n",
    "  [Total] Bias on 38 is 459.761566\n",
    "  [Total] Bias on 39 is 446.889862\n",
    "  [Total] Bias on 40 is 523.346558\n",
    "  [Total] Bias on 41 is 540.599243\n",
    "  [Total] Bias on 42 is 469.026886\n",
    "  [Total] Bias on 43 is 455.063446\n",
    "  [Total] Bias on 44 is 529.133667\n",
    "  [Total] Bias on 45 is 333.590485\n",
    "  [Total] Bias on 46 is 689.104004\n",
    "  [Total] Bias on 47 is 401.843262\n",
    "  [Total] Bias on 48 is 406.287476\n",
    "  [Total] Bias on 49 is 683.739014\n",
    "  [Total] Bias on 50 is 686.934021\n",
    "  [Total] Bias on 51 is 424.693146\n",
    "  [Total] Bias on 52 is 689.569641\n",
    "  [Total] Bias on 53 is 690.755981\n",
    "  [Total] Bias on 54 is 452.370819\n",
    "  [Total] Bias on 55 is 439.349518\n",
    "  [Total] Bias on 56 is 2.340793\n",
    "  [Total] Bias on 57 is 2.341590\n",
    "  [Total] Bias on 58 is 2.340202\n",
    "  [Total] Bias on 59 is 2.356138\n",
    "  [Total] Bias on 60 is 2.353007\n",
    "  [Total] Bias on 61 is 2.316595\n",
    "  [Total] Bias on 62 is 2.032474\n",
    "  [Total] Bias on 63 is 2.339180\n",
    "  [Total] Bias on 64 is 2.334437\n",
    "  [Total] Bias on 65 is 2.367949\n",
    "  [Total] Bias on 66 is 2.332810\n",
    "  [Total] Bias on 67 is 2.328818\n",
    "  [Total] Bias on 68 is 2.334094\n",
    "  [Total] Bias on 69 is 2.268683\n",
    "  [Total] Bias on 70 is 2.264889\n",
    "  [Total] Bias on 71 is 1.671653\n",
    "  [Total] Bias on 72 is 2.246397\n",
    "  [Total] Bias on 73 is 2.247418\n",
    "  [Total] Bias on 74 is 2.333455\n",
    "  [Total] Bias on 75 is 2.335336\n",
    "  [Total] Bias on 76 is 2.336870\n",
    "  [Total] Bias on 77 is 2.335640\n",
    "  [Total] Bias on 78 is 2.333032\n",
    "  [Total] Bias on 79 is 2.333005\n",
    "  [Total] Bias on 80 is 2.333049\n",
    "  [Total] Bias on 81 is 2.333217\n",
    "  [Total] Bias on 82 is 2.273136\n",
    "  [Total] Bias on 83 is 2.261105\n",
    "  [Total] Bias on 84 is 2.327353\n",
    "  [Total] Bias on 85 is 2.337104\n",
    "  [Total] Bias on 86 is 2.329123\n",
    "  [Total] Bias on 87 is 2.372011\n",
    "  [Total] Bias on 88 is 2.325926\n",
    "  [Total] Bias on 89 is 2.338611\n",
    "  [Total] Bias on 90 is 2.315101\n",
    "  [Total] Bias on 91 is 2.278872\n",
    "  [Total] Bias on 92 is 2.258702\n",
    "  [Total] Bias on 93 is 1.664706\n",
    "  [Total] Bias on 94 is 2.272196\n",
    "  [Total] Bias on 95 is 2.272880\n",
    "  [Total] Bias on 96 is 2.264847\n",
    "  [Total] Bias on 97 is 2.275809\n",
    "  [Total] Bias on 98 is 2.267298\n",
    "  [Total] Bias on 99 is 2.285192\n",
    "  [Total] Bias on 100 is 2.337141\"\"\".strip()"
   ]
  },
  {
   "cell_type": "code",
   "execution_count": null,
   "id": "201b5269",
   "metadata": {},
   "outputs": [],
   "source": [
    "bias_1 = np.array([float(i.strip().split(\" \")[-1]) for i in a_1.split(\"\\n\")])\n",
    "bias_5 = np.array([float(i.strip().split(\" \")[-1]) for i in a_5.split(\"\\n\")])"
   ]
  },
  {
   "cell_type": "code",
   "execution_count": null,
   "id": "ecb068b9",
   "metadata": {},
   "outputs": [
    {
     "name": "stdout",
     "output_type": "stream",
     "text": [
      "[ 4.  1. -3. -2. -2. 14.  0.  5.  2.  0.]\n",
      "[-0. -1.  1.  0. -0.  1. -0. -0.  0.  1.]\n",
      "[ 0. -0. -0.  0.  0. -1. -1.  0.  0. -1.]\n",
      "[-1. -0.  0. -0. -1.  0.  1. -0.  1. -1.]\n",
      "[ -0.   0.  -1.  -0.  -1.  -4.  -4. -14.  -6.   1.]\n",
      "[ 1. -4. -5.  1.  0.  3. -0. -0.  0.  0.]\n",
      "[ 0. -0.  0.  0.  0.  0.  0. -0.  0.  0.]\n",
      "[-0. -0.  0. -0. -0. -0. -0. -0. -0. -0.]\n",
      "[ 0. -0. -0. -0. -0.  0. -0.  0.  0.  0.]\n",
      "[-0.  0. -0. -0. -0. -0. -0.  0. -0.  0.]\n",
      "[-0.]\n"
     ]
    }
   ],
   "source": [
    "arr = np.round(bias_1 - bias_5, 0)\n",
    "for i in range(0, len(arr), 10):\n",
    "    print(arr[i:i+10]) \n",
    "# 正值说明1更差，负值说明5更差"
   ]
  },
  {
   "cell_type": "code",
   "execution_count": null,
   "id": "22554d90",
   "metadata": {},
   "outputs": [
    {
     "data": {
      "application/vnd.plotly.v1+json": {
       "config": {
        "plotlyServerURL": "https://plot.ly"
       },
       "data": [
        {
         "colorbar": {
          "title": {
           "text": "Score"
          }
         },
         "colorscale": [
          [
           0,
           "rgb(0,0,0)"
          ],
          [
           0.3333333333333333,
           "rgb(230,0,0)"
          ],
          [
           0.6666666666666666,
           "rgb(255,210,0)"
          ],
          [
           1,
           "rgb(255,255,255)"
          ]
         ],
         "hoverongaps": false,
         "hovertemplate": "Query Atom: %{y}<br>Template Atom: %{x}<br>Score: %{z:.1f}<extra></extra>",
         "type": "heatmap",
         "x": [
          "1",
          "2",
          "3",
          "4",
          "5",
          "6",
          "7",
          "8",
          "9",
          "10",
          "11",
          "12",
          "13",
          "14",
          "15",
          "16",
          "17",
          "18",
          "19",
          "20",
          "21",
          "22",
          "23",
          "24",
          "25",
          "26",
          "27",
          "28",
          "29",
          "30",
          "31",
          "32",
          "33",
          "34",
          "35",
          "36",
          "37",
          "38",
          "39",
          "40",
          "41",
          "42",
          "43",
          "44",
          "45",
          "46",
          "47",
          "48",
          "49",
          "50",
          "51",
          "52",
          "53",
          "54",
          "55",
          "56",
          "57",
          "58",
          "59",
          "60",
          "61",
          "62",
          "63",
          "64",
          "65",
          "66",
          "67",
          "68",
          "69",
          "70",
          "71",
          "72",
          "73",
          "74",
          "75",
          "76",
          "77",
          "78",
          "79",
          "80",
          "81",
          "82",
          "83",
          "84",
          "85",
          "86",
          "87",
          "88",
          "89",
          "90",
          "91",
          "92",
          "93",
          "94",
          "95",
          "96",
          "97",
          "98",
          "99",
          "100",
          "101",
          "102",
          "103",
          "104"
         ],
         "y": [
          "1",
          "2",
          "3",
          "4",
          "5",
          "6",
          "7",
          "8",
          "9",
          "10",
          "11",
          "12",
          "13",
          "14",
          "15",
          "16",
          "17",
          "18",
          "19",
          "20",
          "21",
          "22",
          "23",
          "24",
          "25",
          "26",
          "27",
          "28",
          "29",
          "30",
          "31",
          "32",
          "33",
          "34",
          "35",
          "36",
          "37",
          "38",
          "39",
          "40",
          "41",
          "42",
          "43",
          "44",
          "45",
          "46",
          "47",
          "48",
          "49",
          "50",
          "51",
          "52",
          "53",
          "54",
          "55",
          "56",
          "57",
          "58",
          "59",
          "60",
          "61",
          "62",
          "63",
          "64",
          "65",
          "66",
          "67",
          "68",
          "69",
          "70",
          "71",
          "72",
          "73",
          "74",
          "75",
          "76",
          "77",
          "78",
          "79",
          "80",
          "81",
          "82",
          "83",
          "84",
          "85",
          "86",
          "87",
          "88",
          "89",
          "90",
          "91",
          "92",
          "93",
          "94",
          "95",
          "96",
          "97",
          "98",
          "99",
          "100",
          "101",
          "102"
         ],
         "z": {
          "bdata": "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",
          "dtype": "f8",
          "shape": "102, 104"
         }
        }
       ],
       "layout": {
        "height": 900,
        "template": {
         "data": {
          "bar": [
           {
            "error_x": {
             "color": "#2a3f5f"
            },
            "error_y": {
             "color": "#2a3f5f"
            },
            "marker": {
             "line": {
              "color": "#E5ECF6",
              "width": 0.5
             },
             "pattern": {
              "fillmode": "overlay",
              "size": 10,
              "solidity": 0.2
             }
            },
            "type": "bar"
           }
          ],
          "barpolar": [
           {
            "marker": {
             "line": {
              "color": "#E5ECF6",
              "width": 0.5
             },
             "pattern": {
              "fillmode": "overlay",
              "size": 10,
              "solidity": 0.2
             }
            },
            "type": "barpolar"
           }
          ],
          "carpet": [
           {
            "aaxis": {
             "endlinecolor": "#2a3f5f",
             "gridcolor": "white",
             "linecolor": "white",
             "minorgridcolor": "white",
             "startlinecolor": "#2a3f5f"
            },
            "baxis": {
             "endlinecolor": "#2a3f5f",
             "gridcolor": "white",
             "linecolor": "white",
             "minorgridcolor": "white",
             "startlinecolor": "#2a3f5f"
            },
            "type": "carpet"
           }
          ],
          "choropleth": [
           {
            "colorbar": {
             "outlinewidth": 0,
             "ticks": ""
            },
            "type": "choropleth"
           }
          ],
          "contour": [
           {
            "colorbar": {
             "outlinewidth": 0,
             "ticks": ""
            },
            "colorscale": [
             [
              0,
              "#0d0887"
             ],
             [
              0.1111111111111111,
              "#46039f"
             ],
             [
              0.2222222222222222,
              "#7201a8"
             ],
             [
              0.3333333333333333,
              "#9c179e"
             ],
             [
              0.4444444444444444,
              "#bd3786"
             ],
             [
              0.5555555555555556,
              "#d8576b"
             ],
             [
              0.6666666666666666,
              "#ed7953"
             ],
             [
              0.7777777777777778,
              "#fb9f3a"
             ],
             [
              0.8888888888888888,
              "#fdca26"
             ],
             [
              1,
              "#f0f921"
             ]
            ],
            "type": "contour"
           }
          ],
          "contourcarpet": [
           {
            "colorbar": {
             "outlinewidth": 0,
             "ticks": ""
            },
            "type": "contourcarpet"
           }
          ],
          "heatmap": [
           {
            "colorbar": {
             "outlinewidth": 0,
             "ticks": ""
            },
            "colorscale": [
             [
              0,
              "#0d0887"
             ],
             [
              0.1111111111111111,
              "#46039f"
             ],
             [
              0.2222222222222222,
              "#7201a8"
             ],
             [
              0.3333333333333333,
              "#9c179e"
             ],
             [
              0.4444444444444444,
              "#bd3786"
             ],
             [
              0.5555555555555556,
              "#d8576b"
             ],
             [
              0.6666666666666666,
              "#ed7953"
             ],
             [
              0.7777777777777778,
              "#fb9f3a"
             ],
             [
              0.8888888888888888,
              "#fdca26"
             ],
             [
              1,
              "#f0f921"
             ]
            ],
            "type": "heatmap"
           }
          ],
          "histogram": [
           {
            "marker": {
             "pattern": {
              "fillmode": "overlay",
              "size": 10,
              "solidity": 0.2
             }
            },
            "type": "histogram"
           }
          ],
          "histogram2d": [
           {
            "colorbar": {
             "outlinewidth": 0,
             "ticks": ""
            },
            "colorscale": [
             [
              0,
              "#0d0887"
             ],
             [
              0.1111111111111111,
              "#46039f"
             ],
             [
              0.2222222222222222,
              "#7201a8"
             ],
             [
              0.3333333333333333,
              "#9c179e"
             ],
             [
              0.4444444444444444,
              "#bd3786"
             ],
             [
              0.5555555555555556,
              "#d8576b"
             ],
             [
              0.6666666666666666,
              "#ed7953"
             ],
             [
              0.7777777777777778,
              "#fb9f3a"
             ],
             [
              0.8888888888888888,
              "#fdca26"
             ],
             [
              1,
              "#f0f921"
             ]
            ],
            "type": "histogram2d"
           }
          ],
          "histogram2dcontour": [
           {
            "colorbar": {
             "outlinewidth": 0,
             "ticks": ""
            },
            "colorscale": [
             [
              0,
              "#0d0887"
             ],
             [
              0.1111111111111111,
              "#46039f"
             ],
             [
              0.2222222222222222,
              "#7201a8"
             ],
             [
              0.3333333333333333,
              "#9c179e"
             ],
             [
              0.4444444444444444,
              "#bd3786"
             ],
             [
              0.5555555555555556,
              "#d8576b"
             ],
             [
              0.6666666666666666,
              "#ed7953"
             ],
             [
              0.7777777777777778,
              "#fb9f3a"
             ],
             [
              0.8888888888888888,
              "#fdca26"
             ],
             [
              1,
              "#f0f921"
             ]
            ],
            "type": "histogram2dcontour"
           }
          ],
          "mesh3d": [
           {
            "colorbar": {
             "outlinewidth": 0,
             "ticks": ""
            },
            "type": "mesh3d"
           }
          ],
          "parcoords": [
           {
            "line": {
             "colorbar": {
              "outlinewidth": 0,
              "ticks": ""
             }
            },
            "type": "parcoords"
           }
          ],
          "pie": [
           {
            "automargin": true,
            "type": "pie"
           }
          ],
          "scatter": [
           {
            "fillpattern": {
             "fillmode": "overlay",
             "size": 10,
             "solidity": 0.2
            },
            "type": "scatter"
           }
          ],
          "scatter3d": [
           {
            "line": {
             "colorbar": {
              "outlinewidth": 0,
              "ticks": ""
             }
            },
            "marker": {
             "colorbar": {
              "outlinewidth": 0,
              "ticks": ""
             }
            },
            "type": "scatter3d"
           }
          ],
          "scattercarpet": [
           {
            "marker": {
             "colorbar": {
              "outlinewidth": 0,
              "ticks": ""
             }
            },
            "type": "scattercarpet"
           }
          ],
          "scattergeo": [
           {
            "marker": {
             "colorbar": {
              "outlinewidth": 0,
              "ticks": ""
             }
            },
            "type": "scattergeo"
           }
          ],
          "scattergl": [
           {
            "marker": {
             "colorbar": {
              "outlinewidth": 0,
              "ticks": ""
             }
            },
            "type": "scattergl"
           }
          ],
          "scattermap": [
           {
            "marker": {
             "colorbar": {
              "outlinewidth": 0,
              "ticks": ""
             }
            },
            "type": "scattermap"
           }
          ],
          "scattermapbox": [
           {
            "marker": {
             "colorbar": {
              "outlinewidth": 0,
              "ticks": ""
             }
            },
            "type": "scattermapbox"
           }
          ],
          "scatterpolar": [
           {
            "marker": {
             "colorbar": {
              "outlinewidth": 0,
              "ticks": ""
             }
            },
            "type": "scatterpolar"
           }
          ],
          "scatterpolargl": [
           {
            "marker": {
             "colorbar": {
              "outlinewidth": 0,
              "ticks": ""
             }
            },
            "type": "scatterpolargl"
           }
          ],
          "scatterternary": [
           {
            "marker": {
             "colorbar": {
              "outlinewidth": 0,
              "ticks": ""
             }
            },
            "type": "scatterternary"
           }
          ],
          "surface": [
           {
            "colorbar": {
             "outlinewidth": 0,
             "ticks": ""
            },
            "colorscale": [
             [
              0,
              "#0d0887"
             ],
             [
              0.1111111111111111,
              "#46039f"
             ],
             [
              0.2222222222222222,
              "#7201a8"
             ],
             [
              0.3333333333333333,
              "#9c179e"
             ],
             [
              0.4444444444444444,
              "#bd3786"
             ],
             [
              0.5555555555555556,
              "#d8576b"
             ],
             [
              0.6666666666666666,
              "#ed7953"
             ],
             [
              0.7777777777777778,
              "#fb9f3a"
             ],
             [
              0.8888888888888888,
              "#fdca26"
             ],
             [
              1,
              "#f0f921"
             ]
            ],
            "type": "surface"
           }
          ],
          "table": [
           {
            "cells": {
             "fill": {
              "color": "#EBF0F8"
             },
             "line": {
              "color": "white"
             }
            },
            "header": {
             "fill": {
              "color": "#C8D4E3"
             },
             "line": {
              "color": "white"
             }
            },
            "type": "table"
           }
          ]
         },
         "layout": {
          "annotationdefaults": {
           "arrowcolor": "#2a3f5f",
           "arrowhead": 0,
           "arrowwidth": 1
          },
          "autotypenumbers": "strict",
          "coloraxis": {
           "colorbar": {
            "outlinewidth": 0,
            "ticks": ""
           }
          },
          "colorscale": {
           "diverging": [
            [
             0,
             "#8e0152"
            ],
            [
             0.1,
             "#c51b7d"
            ],
            [
             0.2,
             "#de77ae"
            ],
            [
             0.3,
             "#f1b6da"
            ],
            [
             0.4,
             "#fde0ef"
            ],
            [
             0.5,
             "#f7f7f7"
            ],
            [
             0.6,
             "#e6f5d0"
            ],
            [
             0.7,
             "#b8e186"
            ],
            [
             0.8,
             "#7fbc41"
            ],
            [
             0.9,
             "#4d9221"
            ],
            [
             1,
             "#276419"
            ]
           ],
           "sequential": [
            [
             0,
             "#0d0887"
            ],
            [
             0.1111111111111111,
             "#46039f"
            ],
            [
             0.2222222222222222,
             "#7201a8"
            ],
            [
             0.3333333333333333,
             "#9c179e"
            ],
            [
             0.4444444444444444,
             "#bd3786"
            ],
            [
             0.5555555555555556,
             "#d8576b"
            ],
            [
             0.6666666666666666,
             "#ed7953"
            ],
            [
             0.7777777777777778,
             "#fb9f3a"
            ],
            [
             0.8888888888888888,
             "#fdca26"
            ],
            [
             1,
             "#f0f921"
            ]
           ],
           "sequentialminus": [
            [
             0,
             "#0d0887"
            ],
            [
             0.1111111111111111,
             "#46039f"
            ],
            [
             0.2222222222222222,
             "#7201a8"
            ],
            [
             0.3333333333333333,
             "#9c179e"
            ],
            [
             0.4444444444444444,
             "#bd3786"
            ],
            [
             0.5555555555555556,
             "#d8576b"
            ],
            [
             0.6666666666666666,
             "#ed7953"
            ],
            [
             0.7777777777777778,
             "#fb9f3a"
            ],
            [
             0.8888888888888888,
             "#fdca26"
            ],
            [
             1,
             "#f0f921"
            ]
           ]
          },
          "colorway": [
           "#636efa",
           "#EF553B",
           "#00cc96",
           "#ab63fa",
           "#FFA15A",
           "#19d3f3",
           "#FF6692",
           "#B6E880",
           "#FF97FF",
           "#FECB52"
          ],
          "font": {
           "color": "#2a3f5f"
          },
          "geo": {
           "bgcolor": "white",
           "lakecolor": "white",
           "landcolor": "#E5ECF6",
           "showlakes": true,
           "showland": true,
           "subunitcolor": "white"
          },
          "hoverlabel": {
           "align": "left"
          },
          "hovermode": "closest",
          "mapbox": {
           "style": "light"
          },
          "paper_bgcolor": "white",
          "plot_bgcolor": "#E5ECF6",
          "polar": {
           "angularaxis": {
            "gridcolor": "white",
            "linecolor": "white",
            "ticks": ""
           },
           "bgcolor": "#E5ECF6",
           "radialaxis": {
            "gridcolor": "white",
            "linecolor": "white",
            "ticks": ""
           }
          },
          "scene": {
           "xaxis": {
            "backgroundcolor": "#E5ECF6",
            "gridcolor": "white",
            "gridwidth": 2,
            "linecolor": "white",
            "showbackground": true,
            "ticks": "",
            "zerolinecolor": "white"
           },
           "yaxis": {
            "backgroundcolor": "#E5ECF6",
            "gridcolor": "white",
            "gridwidth": 2,
            "linecolor": "white",
            "showbackground": true,
            "ticks": "",
            "zerolinecolor": "white"
           },
           "zaxis": {
            "backgroundcolor": "#E5ECF6",
            "gridcolor": "white",
            "gridwidth": 2,
            "linecolor": "white",
            "showbackground": true,
            "ticks": "",
            "zerolinecolor": "white"
           }
          },
          "shapedefaults": {
           "line": {
            "color": "#2a3f5f"
           }
          },
          "ternary": {
           "aaxis": {
            "gridcolor": "white",
            "linecolor": "white",
            "ticks": ""
           },
           "baxis": {
            "gridcolor": "white",
            "linecolor": "white",
            "ticks": ""
           },
           "bgcolor": "#E5ECF6",
           "caxis": {
            "gridcolor": "white",
            "linecolor": "white",
            "ticks": ""
           }
          },
          "title": {
           "x": 0.05
          },
          "xaxis": {
           "automargin": true,
           "gridcolor": "white",
           "linecolor": "white",
           "ticks": "",
           "title": {
            "standoff": 15
           },
           "zerolinecolor": "white",
           "zerolinewidth": 2
          },
          "yaxis": {
           "automargin": true,
           "gridcolor": "white",
           "linecolor": "white",
           "ticks": "",
           "title": {
            "standoff": 15
           },
           "zerolinecolor": "white",
           "zerolinewidth": 2
          }
         }
        },
        "title": {
         "text": "Similarity Score Matrix"
        },
        "width": 900,
        "xaxis": {
         "title": {
          "text": "Template Molecule Atom Index"
         }
        },
        "yaxis": {
         "title": {
          "text": "Query Molecule Atom Index"
         }
        }
       }
      }
     },
     "metadata": {},
     "output_type": "display_data"
    }
   ],
   "source": [
    "show_similarity_matrix(matrix)"
   ]
  },
  {
   "cell_type": "code",
   "execution_count": null,
   "id": "aeabc118",
   "metadata": {},
   "outputs": [],
   "source": []
  },
  {
   "cell_type": "markdown",
   "id": "cd48d950",
   "metadata": {},
   "source": [
    "## 自动执行 align docking 的流程"
   ]
  },
  {
   "cell_type": "code",
   "execution_count": null,
   "id": "743a5f30",
   "metadata": {},
   "outputs": [],
   "source": [
    "import subprocess as sp\n",
    "import yaml\n",
    "import os\n",
    "import time\n",
    "\n",
    "# ------------- Configurations\n",
    "fp_ud2 = \"/home/lccdp/Projects/clion/Uni-Dock2/unidock/unidock_engine/cmake-build-release/bin/ud2\"\n",
    "fp_json2sdf = \"/home/lccdp/Projects/clion/Uni-Dock2/unidock/unidock_engine/scripts/json2sdf.py\"\n",
    "dp_config = \"/home/lccdp/Projects/clion/Uni-Dock2/unidock/unidock_engine/examples/align_template\"\n",
    "with open(os.path.join(dp_config, \"unidock2_free.yaml\"), \"r\") as f: \n",
    "    config_free = yaml.safe_load(f)\n",
    "\n",
    "with open(os.path.join(dp_config, \"unidock2_mcs.yaml\"), \"r\") as f:\n",
    "    config_mcs = yaml.safe_load(f)\n",
    "\n",
    "with open(os.path.join(dp_config, \"ud2.yaml\"), \"r\") as f:\n",
    "    config_ud2 = yaml.safe_load(f)\n",
    "\n",
    "\n",
    "\n",
    "def generate_rand(dp:str, fn_pdb:str, fn_sdf_q:str, center:list):\n",
    "\n",
    "    time_start = time.time()\n",
    "\n",
    "    # ------------- 执行 unidock2 MCS docking\n",
    "    fp_config_unidock2 = os.path.join(dp, \"unidock2_rand.yaml\")\n",
    "    with open(os.path.join(dp_config, \"unidock2_free.yaml\"), \"r\") as f:     \n",
    "        config_rand = yaml.safe_load(f)\n",
    "\n",
    "    config_rand[\"Advanced\"][\"exhaustiveness\"] = 10\n",
    "    config_rand[\"Advanced\"][\"mc_steps\"] = 1\n",
    "    config_rand[\"Advanced\"][\"num_pose\"] = 1\n",
    "    config_rand[\"Advanced\"][\"opt_steps\"] = 1\n",
    "    config_rand[\"Preprocessing\"][\"output_docking_pose_sdf_file_name\"] = fn_sdf_q[:-4] + \"_rand.sdf\"\n",
    "    config_rand[\"Settings\"][\"task\"] = \"screen\"\n",
    "\n",
    "    with open(fp_config_unidock2, \"w\") as f:\n",
    "        yaml.dump(config_rand, f)\n",
    "\n",
    "    sp.run(f\"unidock2 docking -r {fn_pdb} -l {fn_sdf_q} -cf {fp_config_unidock2} -c {center[0]} {center[1]} {center[2]}\", shell=True, cwd=dp)\n",
    "\n",
    "\n",
    "    time_end = time.time()\n",
    "    print(f\"\\n\\nGenerate random pose time: {time_end - time_start} seconds\\n\\n\")\n",
    "    return mol_q, mol_t, matrix\n",
    "\n",
    "\n",
    "def perform_align_docking(dp:str, fn_pdb:str, fn_sdf_q:str, fn_sdf_t:str, center:list, \n",
    "    exhaustiveness:int=512, bias_k:float=0.3):\n",
    "\n",
    "    time_start = time.time()\n",
    "\n",
    "    # ------------- 执行 unidock2 MCS docking\n",
    "    fp_config_unidock2 = os.path.join(dp, \"unidock2_mcs.yaml\")\n",
    "    config_mcs[\"Preprocessing\"][\"reference_sdf_file_name\"] = fn_sdf_t\n",
    "    with open(fp_config_unidock2, \"w\") as f:\n",
    "        yaml.dump(config_mcs, f)\n",
    "\n",
    "    sp.run(f\"unidock2 docking -r {fn_pdb} -l {fn_sdf_q} -cf {fp_config_unidock2} -c {center[0]} {center[1]} {center[2]}\", shell=True, cwd=dp)\n",
    "\n",
    "\n",
    "    # ------------- 执行 unidock2, 生产 JSON 输入文件\n",
    "    dp_tmp = os.path.join(dp, \"tmp/\")\n",
    "    os.makedirs(dp_tmp, exist_ok=True)\n",
    "    fp_config_unidock2 = os.path.join(dp, \"unidock2_free.yaml\")\n",
    "    config_free[\"Preprocessing\"][\"temp_dir_name\"] = \"./tmp\"\n",
    "    with open(fp_config_unidock2, \"w\") as f:\n",
    "        yaml.dump(config_free, f)\n",
    "\n",
    "    sp.run(f\"unidock2 docking -r {fn_pdb} -l {fn_sdf_q} -cf {fp_config_unidock2} -c {center[0]} {center[1]} {center[2]}\", shell=True, cwd=dp)\n",
    "\n",
    "\n",
    "    # ------------- 加工输入 JSON，添加bias\n",
    "    fp_sdf_q = os.path.join(dp, fn_sdf_q)\n",
    "    fp_sdf_t = os.path.join(dp, fn_sdf_t)\n",
    "    fp_json_ori = os.path.join(dp_tmp, sorted(os.listdir(dp_tmp))[-1], \"ud2_engine_inputs.json\")\n",
    "    fp_json_align = os.path.join(dp, \"ud2_align.json\")\n",
    "\n",
    "    mol_q, mol_t, matrix = generate_zalign_input(fp_sdf_q, fp_sdf_t, fp_json_ori, fp_json_align)\n",
    "\n",
    "    # ------------- 执行 ud2, 生产json输出文件\n",
    "    fp_config_ud2 = os.path.join(dp, \"ud2.yaml\")\n",
    "    config_ud2[\"Settings\"][\"center_x\"] = center[0]\n",
    "    config_ud2[\"Settings\"][\"center_y\"] = center[1]\n",
    "    config_ud2[\"Settings\"][\"center_z\"] = center[2]\n",
    "    config_ud2[\"Advanced\"][\"bias_k\"] = bias_k\n",
    "    config_ud2[\"Advanced\"][\"exhaustiveness\"] = exhaustiveness\n",
    "    with open(fp_config_ud2, \"w\") as f:\n",
    "        yaml.dump(config_ud2, f)\n",
    "    sp.run(f\"{fp_ud2} {fp_config_ud2}\", shell=True, cwd=dp)\n",
    "\n",
    "    # ------------- 将输出 JSON 文件转换为 SDF 文件\n",
    "    dp_res_ud2 = os.path.join(dp, \"res2\")\n",
    "    fp_res_ud2 = os.path.join(dp_res_ud2, os.listdir(dp_res_ud2)[0])\n",
    "\n",
    "    sp.run(f\"python {fp_json2sdf} {fp_res_ud2} {fp_sdf_q} ud2_out_bias.sdf\", shell=True, cwd=dp)\n",
    "\n",
    "    time_end = time.time()\n",
    "    print(f\"\\n\\nAlign docking time: {time_end - time_start} seconds\\n\\n\")\n",
    "    return mol_q, mol_t, matrix"
   ]
  },
  {
   "cell_type": "code",
   "execution_count": null,
   "id": "516a65b0",
   "metadata": {},
   "outputs": [],
   "source": []
  },
  {
   "cell_type": "markdown",
   "id": "c3afbaf4",
   "metadata": {},
   "source": [
    "### 4IEH"
   ]
  },
  {
   "cell_type": "code",
   "execution_count": null,
   "id": "11e3063a",
   "metadata": {},
   "outputs": [],
   "source": [
    "# ------------- User Input\n",
    "dp = \"/home/lccdp/Projects/clion/Uni-Dock2/unidock/unidock_engine/examples/align_4IEH/diff_ring/\"\n",
    "fn_pdb = \"4IEH.pdb\"\n",
    "fn_sdf_q = \"CHEMBL376408_0.6_nM_3d_dock.sdf\"\n",
    "fn_sdf_t = \"CHEMBL2322026_8.0_nM_3d_dock.sdf\"\n",
    "center = [12, 25, 11]\n",
    "\n",
    "mol_q, mol_t, matrix = perform_align_docking(dp, fn_pdb, fn_sdf_q, fn_sdf_t, center, 2048, 0.3)\n"
   ]
  },
  {
   "cell_type": "code",
   "execution_count": 11,
   "id": "d32ced3c",
   "metadata": {},
   "outputs": [
    {
     "name": "stdout",
     "output_type": "stream",
     "text": [
      "\n",
      "\n",
      "    ██╗   ██╗██████╗ ██████╗\n",
      "    ██║   ██║██╔══██╗╚════██╗\n",
      "    ██║   ██║██║  ██║ █████╔╝\n",
      "    ██║   ██║██║  ██║██╔═══╝\n",
      "    ╚██████╔╝██████╔╝███████╗\n",
      "     ╚═════╝ ╚═════╝ ╚══════╝\n",
      "\n",
      "    DP Technology Docking Toolkit\n",
      "\n",
      "\n",
      "{'receptor': 'xx.pdb', 'ligand': 'xx.sdf', 'ligand_batch': None, 'center': [12.0, 25.0, 11.0], 'exhaustiveness': 512, 'randomize': True, 'mc_steps': 40, 'opt_steps': -1, 'refine_steps': 5, 'num_pose': 1, 'rmsd_limit': 1.0, 'energy_range': 3.0, 'seed': 12345, 'use_tor_lib': False, 'n_cpu': None, 'gpu_device_id': 0, 'box_size': [30.0, 30.0, 30.0], 'task': 'screen', 'search_mode': 'free', 'template_docking': True, 'reference_sdf_file_name': 'CHEMBL2322026_8.0_nM_3d_dock.sdf', 'compute_center': True, 'core_atom_mapping_dict_list': None, 'covalent_ligand': False, 'covalent_residue_atom_info_list': None, 'preserve_receptor_hydrogen': False, 'temp_dir_name': '/tmp', 'output_receptor_dms_file_name': 'receptor_parameterized.dms', 'output_docking_pose_sdf_file_name': 'unidock2_out_mcs.sdf'}\n",
      "Target Center for Current Docking: (12.264339310515464, 25.112438695409868, 11.313387198967472)\n"
     ]
    },
    {
     "name": "stderr",
     "output_type": "stream",
     "text": [
      "/home/lccdp/Softs/miniconda3/envs/ud2pub/lib/python3.10/site-packages/MDAnalysis/topology/PDBParser.py:442: UserWarning: PDB file contained CONECT record to TER entry. These are not included in bonds.\n",
      "  warnings.warn(\n",
      "/home/lccdp/Softs/miniconda3/envs/ud2pub/lib/python3.10/site-packages/MDAnalysis/coordinates/PDB.py:1154: UserWarning: Found no information for attr: 'formalcharges' Using default value of '0'\n",
      "  warnings.warn(\"Found no information for attr: '{}'\"\n"
     ]
    },
    {
     "name": "stdout",
     "output_type": "stream",
     "text": [
      "[2025-08-28 16:21:45.315] [info] ----------------------- RUN Screening -----------------------\n",
      "[2025-08-28 16:21:45.315] [info] Receptor loaded: 1101 atoms in box\n",
      "[2025-08-28 16:21:45.316] [info] Ligands loaded. Total count: 1\n",
      "[2025-08-28 16:21:45.379] [info] ----------------------- RUN Screening -----------------------\n",
      "[2025-08-28 16:21:45.379] [info] DockParam: seed=12345, search_score=0, opt_score=0, \n",
      "box: x_lo=-2.7356606 Angstrom, x_hi=27.26434 Angstrom, y_lo=10.112438 Angstrom, y_hi=40.11244 Angstrom, z_lo=-3.686613 Angstrom, z_hi=26.313387 Angstrom, \n",
      "constraint_docking=true, exhaustiveness=512, \n",
      "mc_steps=40, opt_steps=-1, refine_steps=5, \n",
      "num_pose=1, rmsd_limit=1 Angstrom, \n",
      "\n",
      "[2025-08-28 16:21:45.379] [info] Group small size: 0\n",
      "[2025-08-28 16:21:45.379] [info] Group medium size: 0\n",
      "[2025-08-28 16:21:45.379] [info] Group large size: 1\n",
      "[2025-08-28 16:21:45.379] [info] Group extra size: 0\n",
      "[2025-08-28 16:21:45.379] [info] Group overflow size: 0\n",
      "[2025-08-28 16:21:45.379] [info] @@@@@@@@@@@@@@ Tackling Group: small @@@@@@@@@@@@@@\n",
      "[2025-08-28 16:21:45.379] [info] @@@@@@@@@@@@@@ Tackling Group: medium @@@@@@@@@@@@@@\n",
      "[2025-08-28 16:21:45.379] [info] @@@@@@@@@@@@@@ Tackling Group: large @@@@@@@@@@@@@@\n",
      "[2025-08-28 16:21:45.379] [info] Batch 1 size: 1\n",
      "[2025-08-28 16:21:45.379] [info] Perform the Task...\n",
      "[2025-08-28 16:21:45.379] [info] Memory Allocation on GPU...\n",
      "[2025-08-28 16:21:45.387] [info] Memory allocation on GPU is done.\n",
      "[2025-08-28 16:21:45.387] [info] Global Search (MC)...\n",
      "[2025-08-28 16:21:55.328] [warning] [Line Search Steps Count]: 137022848\n",
      "[2025-08-28 16:21:55.328] [info] Global Search (MC) is done.\n",
      "[2025-08-28 16:21:55.328] [info] Clustering 1 * 512 = 512 poses ...\n",
      "[2025-08-28 16:21:55.329] [info] Clustering is done. 7 poses are left.\n",
      "[2025-08-28 16:21:55.329] [info] Run Refinement (BFGS) for 5 steps...\n",
      "[2025-08-28 16:21:55.372] [warning] [Refinement Line Search Steps Count]: 137028672\n",
      "[2025-08-28 16:21:55.372] [info] Refinement (BFGS) is done.\n",
      "[2025-08-28 16:21:55.372] [info] Filtering by num_pose & energy_range...\n",
      "[2025-08-28 16:21:55.373] [info] Filtering is done.\n",
      "[2025-08-28 16:21:55.373] [info] Scoring...\n",
      "[2025-08-28 16:21:55.373] [info] -------------------------------------------\n",
      "[2025-08-28 16:21:55.373] [info] Rank      Affinity (kcal/mol) \n",
      "[2025-08-28 16:21:55.373] [info] -------------------------------------------\n",
      "[2025-08-28 16:21:55.373] [info] 1         -11.463455          \n",
      "[2025-08-28 16:21:55.373] [info] -------------------------------------------\n",
      "[2025-08-28 16:21:55.373] [info] Scoring is done.\n",
      "[2025-08-28 16:21:55.373] [info] Dumping the poses to /tmp/docking_lccdp-S1_859246_20250828_162140_386978_nnmgqiel/unidock2_output/from_python_obj_1.json...\n",
      "[2025-08-28 16:21:55.373] [info] Dumping is done.\n",
      "[2025-08-28 16:21:55.373] [info] Memory free on GPU...\n",
      "[2025-08-28 16:21:55.373] [info] Memory free on GPU is done.\n",
      "[2025-08-28 16:21:55.373] [info] Memory free on CPU...\n",
      "[2025-08-28 16:21:55.374] [info] Memory free on CPU is done.\n",
      "[2025-08-28 16:21:55.374] [info] Task is done.\n",
      "[2025-08-28 16:21:55.374] [info] Batch 1 running time: 9994.7 ms\n",
      "[2025-08-28 16:21:55.374] [info] @@@@@@@@@@@@@@ Tackling Group: extra @@@@@@@@@@@@@@\n",
      "[2025-08-28 16:21:55.374] [info] @@@@@@@@@@@@@@ Tackling Group: overflow @@@@@@@@@@@@@@\n",
      "[2025-08-28 16:21:55.374] [info] UD2 Total Cost: 10057.8 ms\n",
      "\n",
      "\n",
      "    ██╗   ██╗██████╗ ██████╗\n",
      "    ██║   ██║██╔══██╗╚════██╗\n",
      "    ██║   ██║██║  ██║ █████╔╝\n",
      "    ██║   ██║██║  ██║██╔═══╝\n",
      "    ╚██████╔╝██████╔╝███████╗\n",
      "     ╚═════╝ ╚═════╝ ╚══════╝\n",
      "\n",
      "    DP Technology Docking Toolkit\n",
      "\n",
      "\n",
      "{'receptor': 'xx.pdb', 'ligand': 'xx.sdf', 'ligand_batch': None, 'center': [0.0, 0.0, 0.0], 'exhaustiveness': 512, 'randomize': True, 'mc_steps': 0, 'opt_steps': 0, 'refine_steps': 0, 'num_pose': 1, 'rmsd_limit': 1.0, 'energy_range': 3.0, 'seed': 12345, 'use_tor_lib': False, 'n_cpu': None, 'gpu_device_id': 0, 'box_size': [30.0, 30.0, 30.0], 'task': 'score', 'search_mode': 'free', 'template_docking': False, 'reference_sdf_file_name': None, 'compute_center': True, 'core_atom_mapping_dict_list': None, 'covalent_ligand': False, 'covalent_residue_atom_info_list': None, 'preserve_receptor_hydrogen': False, 'temp_dir_name': './tmp', 'output_receptor_dms_file_name': 'receptor_parameterized.dms', 'output_docking_pose_sdf_file_name': 'unidock2_out.sdf'}\n",
      "Target Center for Current Docking: (12.0, 25.0, 11.0)\n"
     ]
    },
    {
     "name": "stderr",
     "output_type": "stream",
     "text": [
      "/home/lccdp/Softs/miniconda3/envs/ud2pub/lib/python3.10/site-packages/MDAnalysis/topology/PDBParser.py:442: UserWarning: PDB file contained CONECT record to TER entry. These are not included in bonds.\n",
      "  warnings.warn(\n",
      "/home/lccdp/Softs/miniconda3/envs/ud2pub/lib/python3.10/site-packages/MDAnalysis/coordinates/PDB.py:1154: UserWarning: Found no information for attr: 'formalcharges' Using default value of '0'\n",
      "  warnings.warn(\"Found no information for attr: '{}'\"\n"
     ]
    },
    {
     "name": "stdout",
     "output_type": "stream",
     "text": [
      "[2025-08-28 16:21:59.039] [info] ----------------------- RUN Only Scoring -----------------------\n",
      "[2025-08-28 16:21:59.039] [info] Receptor loaded: 1100 atoms in box\n",
      "[2025-08-28 16:21:59.040] [info] Ligands loaded. Total count: 1\n",
      "[2025-08-28 16:21:59.102] [info] ----------------------- RUN Screening -----------------------\n",
      "[2025-08-28 16:21:59.102] [info] DockParam: seed=12345, search_score=0, opt_score=0, \n",
      "box: x_lo=-3 Angstrom, x_hi=27 Angstrom, y_lo=10 Angstrom, y_hi=40 Angstrom, z_lo=-4 Angstrom, z_hi=26 Angstrom, \n",
      "constraint_docking=false, exhaustiveness=1, \n",
      "mc_steps=0, opt_steps=0, refine_steps=0, \n",
      "num_pose=1, rmsd_limit=999 Angstrom, \n",
      "\n",
      "[2025-08-28 16:21:59.102] [info] Group small size: 0\n",
      "[2025-08-28 16:21:59.102] [info] Group medium size: 0\n",
      "[2025-08-28 16:21:59.102] [info] Group large size: 1\n",
      "[2025-08-28 16:21:59.102] [info] Group extra size: 0\n",
      "[2025-08-28 16:21:59.102] [info] Group overflow size: 0\n",
      "[2025-08-28 16:21:59.102] [info] @@@@@@@@@@@@@@ Tackling Group: small @@@@@@@@@@@@@@\n",
      "[2025-08-28 16:21:59.102] [info] @@@@@@@@@@@@@@ Tackling Group: medium @@@@@@@@@@@@@@\n",
      "[2025-08-28 16:21:59.102] [info] @@@@@@@@@@@@@@ Tackling Group: large @@@@@@@@@@@@@@\n",
      "[2025-08-28 16:21:59.102] [info] Batch 1 size: 1\n",
      "[2025-08-28 16:21:59.102] [info] Perform the Task...\n",
      "[2025-08-28 16:21:59.102] [info] Memory Allocation on GPU...\n",
      "[2025-08-28 16:21:59.106] [info] Memory allocation on GPU is done.\n",
      "[2025-08-28 16:21:59.106] [info] Global Search (MC)...\n",
      "[2025-08-28 16:21:59.107] [warning] [Line Search Steps Count]: 0\n",
      "[2025-08-28 16:21:59.107] [info] Global Search (MC) is done.\n",
      "[2025-08-28 16:21:59.107] [info] Clustering 1 * 1 = 1 poses ...\n",
      "[2025-08-28 16:21:59.107] [info] Clustering is done. 1 poses are left.\n",
      "[2025-08-28 16:21:59.107] [info] Filtering by num_pose & energy_range...\n",
      "[2025-08-28 16:21:59.107] [info] Filtering is done.\n",
      "[2025-08-28 16:21:59.107] [info] Scoring...\n",
      "[2025-08-28 16:21:59.107] [info] -------------------------------------------\n",
      "[2025-08-28 16:21:59.107] [info] Rank      Affinity (kcal/mol) \n",
      "[2025-08-28 16:21:59.107] [info] -------------------------------------------\n",
      "[2025-08-28 16:21:59.108] [info] 1         1.037481e+08        \n",
      "[2025-08-28 16:21:59.108] [info] -------------------------------------------\n",
      "[2025-08-28 16:21:59.108] [info] Scoring is done.\n",
      "[2025-08-28 16:21:59.108] [info] Dumping the poses to /home/lccdp/Projects/clion/Uni-Dock2/unidock/unidock_engine/examples/align_4IEH/same_ring/tmp/docking_lccdp-S1_859450_20250828_162155_850566_w5_ecldb/unidock2_output/from_python_obj_1.json...\n",
      "[2025-08-28 16:21:59.108] [info] Dumping is done.\n",
      "[2025-08-28 16:21:59.108] [info] Memory free on GPU...\n",
      "[2025-08-28 16:21:59.108] [info] Memory free on GPU is done.\n",
      "[2025-08-28 16:21:59.108] [info] Memory free on CPU...\n",
      "[2025-08-28 16:21:59.108] [info] Memory free on CPU is done.\n",
      "[2025-08-28 16:21:59.108] [info] Task is done.\n",
      "[2025-08-28 16:21:59.108] [info] Batch 1 running time: 6.2 ms\n",
      "[2025-08-28 16:21:59.108] [info] @@@@@@@@@@@@@@ Tackling Group: extra @@@@@@@@@@@@@@\n",
      "[2025-08-28 16:21:59.108] [info] @@@@@@@@@@@@@@ Tackling Group: overflow @@@@@@@@@@@@@@\n",
      "[2025-08-28 16:21:59.108] [info] UD2 Total Cost: 68.1 ms\n",
      "[2025-08-28 16:21:59.271] [info] [::] Using config file: /home/lccdp/Projects/clion/Uni-Dock2/unidock/unidock_engine/examples/align_4IEH/same_ring/ud2.yaml\n",
      "\n",
      "    ██╗ccc██╗██████╗c██████╗c\n",
      "    ██║ccc██║██╔══██╗╚════██╗\n",
      "    ██║ccc██║██║cc██║c█████╔╝\n",
      "    ██║ccc██║██║cc██║██╔═══╝c\n",
      "    ╚██████╔╝██████╔╝███████╗\n",
      "    c╚═════╝c╚═════╝c╚══════╝\n",
      "    \n",
      "UD2 C++ Engine Version: 0.4.3\n",
      "[2025-08-28 16:21:59.271] [info] [::] ==================== UD2 Starts! ======================\n",
      "\n",
      "[2025-08-28 16:21:59.271] [info] [::] Use heuristic method to decide opt_steps\n",
      "[2025-08-28 16:21:59.271] [warning] [::] Config item Advanced.tor_lib doesn't exist, using default value\n",
      "[2025-08-28 16:21:59.274] [info] [::] Json is successfully parsed\n",
      "[2025-08-28 16:21:59.276] [info] [::] Receptor has 1100 atoms in box\n",
      "[2025-08-28 16:21:59.276] [info] [::] Flexible molecules count: 1\n",
      "[2025-08-28 16:21:59.323] [info] [::] Set GPU device id to 0\n",
      "[2025-08-28 16:21:59.323] [info] [::] Available Memory = 7636 MB   Total Memory = 7973 MB\n",
      "[2025-08-28 16:21:59.324] [info] [::] ----------------------- RUN Screening -----------------------\n",
      "[2025-08-28 16:21:59.324] [info] [::] DockParam: seed=9996, search_score=0, opt_score=0, \n",
      "box: x_lo=-3 Angstrom, x_hi=27 Angstrom, y_lo=10 Angstrom, y_hi=40 Angstrom, z_lo=-4 Angstrom, z_hi=26 Angstrom, \n",
      "constraint_docking=false, exhaustiveness=2048, \n",
      "mc_steps=40, opt_steps=-1, refine_steps=5, \n",
      "num_pose=5, rmsd_limit=1 Angstrom, \n",
      "bias_type=2, bias_k=0.3\n",
      "\n",
      "[2025-08-28 16:21:59.324] [info] [::] Group small size: 0\n",
      "[2025-08-28 16:21:59.324] [info] [::] Group medium size: 0\n",
      "[2025-08-28 16:21:59.324] [info] [::] Group large size: 1\n",
      "[2025-08-28 16:21:59.324] [info] [::] Group extra size: 0\n",
      "[2025-08-28 16:21:59.324] [info] [::] Group overflow size: 0\n",
      "[2025-08-28 16:21:59.324] [info] [::] @@@@@@@@@@@@@@ Tackling Group: small @@@@@@@@@@@@@@\n",
      "[2025-08-28 16:21:59.324] [info] [::] @@@@@@@@@@@@@@ Tackling Group: medium @@@@@@@@@@@@@@\n",
      "[2025-08-28 16:21:59.324] [info] [::] @@@@@@@@@@@@@@ Tackling Group: large @@@@@@@@@@@@@@\n",
      "[2025-08-28 16:21:59.324] [info] [::] Batch 1 size: 1\n",
      "[2025-08-28 16:21:59.324] [info] [::] Perform the Task...\n",
      "[2025-08-28 16:21:59.324] [info] [::] Memory Allocation on GPU...\n",
      "[2025-08-28 16:21:59.355] [info] [::] Memory allocation on GPU is done.\n",
      "[2025-08-28 16:21:59.356] [info] [::] Global Search (MC)...\n",
      "[2025-08-28 16:21:59.356] [info] [::] Randomization...\n",
      "[2025-08-28 16:22:31.364] [warning] [::] [Line Search Steps Count]: 603361568\n",
      "[2025-08-28 16:22:31.364] [info] [::] Global Search (MC) is done.\n",
      "[2025-08-28 16:22:31.364] [info] [::] Clustering 1 * 2048 = 2048 poses ...\n",
      "[2025-08-28 16:22:31.368] [info] [::] Clustering is done. 2019 poses are left.\n",
      "[2025-08-28 16:22:31.368] [info] [::] Run Refinement (BFGS) for 5 steps...\n",
      "[2025-08-28 16:22:31.479] [warning] [::] [Refinement Line Search Steps Count]: 604535776\n",
      "[2025-08-28 16:22:31.479] [info] [::] Refinement (BFGS) is done.\n",
      "[2025-08-28 16:22:31.479] [info] [::] Filtering by num_pose & energy_range...\n",
      "[2025-08-28 16:22:31.481] [info] [::] Filtering is done.\n",
      "[2025-08-28 16:22:31.481] [info] [::] Scoring...\n",
      "[2025-08-28 16:22:31.481] [info] [::] -------------------------------------------\n",
      "[2025-08-28 16:22:31.481] [info] [::] Rank      Affinity (kcal/mol) Bias (kcal/mol)     RBias (kcal/mol)    \n",
      "[2025-08-28 16:22:31.481] [info] [::] -------------------------------------------\n",
      "[2025-08-28 16:22:31.482] [info] [::] 1         -8.734261           83142.41            0                   \n",
      "[2025-08-28 16:22:31.482] [info] [::] 2         -6.133598           83194.88            52.476562           \n",
      "[2025-08-28 16:22:31.482] [info] [::] 3         -5.088764           83206.125           63.71875            \n",
      "[2025-08-28 16:22:31.482] [info] [::] 4         -8.407077           83219.33            76.921875           \n",
      "[2025-08-28 16:22:31.483] [info] [::] 5         -7.943356           83241.82            99.41406            \n",
      "[2025-08-28 16:22:31.483] [info] [::] -------------------------------------------\n",
      "[2025-08-28 16:22:31.483] [info] [::] Scoring is done.\n",
      "[2025-08-28 16:22:31.483] [info] [::] Dumping the poses to ./res2/ud2_align_1.json...\n",
      "[2025-08-28 16:22:31.483] [info] [::] Dumping is done.\n",
      "[2025-08-28 16:22:31.483] [info] [::] Memory free on GPU...\n",
      "[2025-08-28 16:22:31.484] [info] [::] Memory free on GPU is done.\n",
      "[2025-08-28 16:22:31.484] [info] [::] Memory free on CPU...\n",
      "[2025-08-28 16:22:31.484] [info] [::] Memory free on CPU is done.\n",
      "[2025-08-28 16:22:31.484] [info] [::] Task is done.\n",
      "[2025-08-28 16:22:31.484] [info] [::] Batch 1 running time: 32160.6 ms\n",
      "[2025-08-28 16:22:31.484] [info] [::] @@@@@@@@@@@@@@ Tackling Group: extra @@@@@@@@@@@@@@\n",
      "[2025-08-28 16:22:31.484] [info] [::] @@@@@@@@@@@@@@ Tackling Group: overflow @@@@@@@@@@@@@@\n",
      "[2025-08-28 16:22:31.484] [info] [::] UD2 Total Cost: 32213.8 ms\n",
      "The sdf file ud2_out_bias.sdf has been generated.\n",
      "\n",
      "\n",
      "Align docking time: 51.63478994369507 seconds\n",
      "\n",
      "\n"
     ]
    }
   ],
   "source": [
    "dp = \"/home/lccdp/Projects/clion/Uni-Dock2/unidock/unidock_engine/examples/align_4IEH/same_ring/\"\n",
    "fn_pdb = \"4IEH.pdb\"\n",
    "fn_sdf_q = \"CHEMBL376408_prepared.sdf\"\n",
    "fn_sdf_t = \"CHEMBL2322026_8.0_nM_3d_dock.sdf\"\n",
    "center = [12, 25, 11]\n",
    "\n",
    "mol_q, mol_t, matrix = perform_align_docking(dp, fn_pdb, fn_sdf_q, fn_sdf_t, center, 2048, 0.3)"
   ]
  },
  {
   "cell_type": "code",
   "execution_count": null,
   "id": "58109152",
   "metadata": {},
   "outputs": [],
   "source": [
    "dp = \"/home/lccdp/Projects/clion/Uni-Dock2/unidock/unidock_engine/examples/align_4IEH/diff_ring/\"\n",
    "fn_pdb = \"4IEH.pdb\"\n",
    "fn_sdf_q = \"CHEMBL376408_0.6_nM_3d_dock.sdf\"\n",
    "fn_sdf_t = \"CHEMBL2322026_8.0_nM_3d_dock.sdf\"\n",
    "center = [12, 25, 11]\n",
    "\n",
    "mol_q, mol_t, matrix = perform_align_docking(dp, fn_pdb, fn_sdf_q, fn_sdf_t, center, 2048, 0.3)"
   ]
  },
  {
   "cell_type": "markdown",
   "id": "1738e3d8",
   "metadata": {},
   "source": [
    "### Bace"
   ]
  },
  {
   "cell_type": "code",
   "execution_count": 12,
   "id": "d4b22c05",
   "metadata": {},
   "outputs": [
    {
     "name": "stdout",
     "output_type": "stream",
     "text": [
      "\n",
      "\n",
      "    ██╗   ██╗██████╗ ██████╗\n",
      "    ██║   ██║██╔══██╗╚════██╗\n",
      "    ██║   ██║██║  ██║ █████╔╝\n",
      "    ██║   ██║██║  ██║██╔═══╝\n",
      "    ╚██████╔╝██████╔╝███████╗\n",
      "     ╚═════╝ ╚═════╝ ╚══════╝\n",
      "\n",
      "    DP Technology Docking Toolkit\n",
      "\n",
      "\n",
      "{'receptor': 'xx.pdb', 'ligand': 'xx.sdf', 'ligand_batch': None, 'center': [12.0, 25.0, 11.0], 'exhaustiveness': 512, 'randomize': True, 'mc_steps': 40, 'opt_steps': -1, 'refine_steps': 5, 'num_pose': 1, 'rmsd_limit': 1.0, 'energy_range': 3.0, 'seed': 12345, 'use_tor_lib': False, 'n_cpu': None, 'gpu_device_id': 0, 'box_size': [30.0, 30.0, 30.0], 'task': 'screen', 'search_mode': 'free', 'template_docking': True, 'reference_sdf_file_name': '1.sdf', 'compute_center': True, 'core_atom_mapping_dict_list': None, 'covalent_ligand': False, 'covalent_residue_atom_info_list': None, 'preserve_receptor_hydrogen': False, 'temp_dir_name': '/tmp', 'output_receptor_dms_file_name': 'receptor_parameterized.dms', 'output_docking_pose_sdf_file_name': 'unidock2_out_mcs.sdf'}\n",
      "Target Center for Current Docking: (15.004455961965736, -1.5131663016673162, -0.8133936301640768)\n"
     ]
    },
    {
     "name": "stderr",
     "output_type": "stream",
     "text": [
      "/home/lccdp/Softs/miniconda3/envs/ud2pub/lib/python3.10/site-packages/MDAnalysis/coordinates/PDB.py:777: UserWarning: Unit cell dimensions not found. CRYST1 record set to unitary values.\n",
      "  warnings.warn(\"Unit cell dimensions not found. \"\n",
      "/home/lccdp/Softs/miniconda3/envs/ud2pub/lib/python3.10/site-packages/MDAnalysis/coordinates/PDB.py:1154: UserWarning: Found no information for attr: 'formalcharges' Using default value of '0'\n",
      "  warnings.warn(\"Found no information for attr: '{}'\"\n",
      "/home/lccdp/Softs/miniconda3/envs/ud2pub/lib/python3.10/site-packages/MDAnalysis/coordinates/PDB.py:453: UserWarning: 1 A^3 CRYST1 record, this is usually a placeholder. Unit cell dimensions will be set to None.\n",
      "  warnings.warn(\"1 A^3 CRYST1 record,\"\n"
     ]
    },
    {
     "name": "stdout",
     "output_type": "stream",
     "text": [
      "[2025-08-28 16:27:26.084] [info] ----------------------- RUN Screening -----------------------\n",
      "[2025-08-28 16:27:26.085] [info] Receptor loaded: 2390 atoms in box\n",
      "[2025-08-28 16:27:26.085] [info] Ligands loaded. Total count: 1\n",
      "[2025-08-28 16:27:26.144] [info] ----------------------- RUN Screening -----------------------\n",
      "[2025-08-28 16:27:26.144] [info] DockParam: seed=12345, search_score=0, opt_score=0, \n",
      "box: x_lo=0.0044555664 Angstrom, x_hi=30.004456 Angstrom, y_lo=-16.513166 Angstrom, y_hi=13.486834 Angstrom, z_lo=-15.813394 Angstrom, z_hi=14.186606 Angstrom, \n",
      "constraint_docking=true, exhaustiveness=512, \n",
      "mc_steps=40, opt_steps=-1, refine_steps=5, \n",
      "num_pose=1, rmsd_limit=1 Angstrom, \n",
      "\n",
      "[2025-08-28 16:27:26.144] [info] Group small size: 0\n",
      "[2025-08-28 16:27:26.144] [info] Group medium size: 1\n",
      "[2025-08-28 16:27:26.144] [info] Group large size: 0\n",
      "[2025-08-28 16:27:26.144] [info] Group extra size: 0\n",
      "[2025-08-28 16:27:26.144] [info] Group overflow size: 0\n",
      "[2025-08-28 16:27:26.144] [info] @@@@@@@@@@@@@@ Tackling Group: small @@@@@@@@@@@@@@\n",
      "[2025-08-28 16:27:26.144] [info] @@@@@@@@@@@@@@ Tackling Group: medium @@@@@@@@@@@@@@\n",
      "[2025-08-28 16:27:26.144] [info] Batch 1 size: 1\n",
      "[2025-08-28 16:27:26.144] [info] Perform the Task...\n",
      "[2025-08-28 16:27:26.145] [info] Memory Allocation on GPU...\n",
      "[2025-08-28 16:27:26.151] [info] Memory allocation on GPU is done.\n",
      "[2025-08-28 16:27:26.151] [info] Global Search (MC)...\n",
      "[2025-08-28 16:27:26.605] [warning] [Line Search Steps Count]: 6553600\n",
      "[2025-08-28 16:27:26.605] [info] Global Search (MC) is done.\n",
      "[2025-08-28 16:27:26.605] [info] Clustering 1 * 512 = 512 poses ...\n",
      "[2025-08-28 16:27:26.606] [info] Clustering is done. 1 poses are left.\n",
      "[2025-08-28 16:27:26.606] [info] Run Refinement (BFGS) for 5 steps...\n",
      "[2025-08-28 16:27:26.616] [warning] [Refinement Line Search Steps Count]: 6553920\n",
      "[2025-08-28 16:27:26.616] [info] Refinement (BFGS) is done.\n",
      "[2025-08-28 16:27:26.616] [info] Filtering by num_pose & energy_range...\n",
      "[2025-08-28 16:27:26.616] [info] Filtering is done.\n",
      "[2025-08-28 16:27:26.616] [info] Scoring...\n",
      "[2025-08-28 16:27:26.616] [info] -------------------------------------------\n",
      "[2025-08-28 16:27:26.616] [info] Rank      Affinity (kcal/mol) \n",
      "[2025-08-28 16:27:26.616] [info] -------------------------------------------\n",
      "[2025-08-28 16:27:26.616] [info] 1         -8.042921           \n",
      "[2025-08-28 16:27:26.616] [info] -------------------------------------------\n",
      "[2025-08-28 16:27:26.617] [info] Scoring is done.\n",
      "[2025-08-28 16:27:26.617] [info] Dumping the poses to /tmp/docking_lccdp-S1_860983_20250828_162656_317521_z4j4tip5/unidock2_output/from_python_obj_1.json...\n",
      "[2025-08-28 16:27:26.617] [info] Dumping is done.\n",
      "[2025-08-28 16:27:26.617] [info] Memory free on GPU...\n",
      "[2025-08-28 16:27:26.617] [info] Memory free on GPU is done.\n",
      "[2025-08-28 16:27:26.617] [info] Memory free on CPU...\n",
      "[2025-08-28 16:27:26.617] [info] Memory free on CPU is done.\n",
      "[2025-08-28 16:27:26.617] [info] Task is done.\n",
      "[2025-08-28 16:27:26.617] [info] Batch 1 running time: 472.6 ms\n",
      "[2025-08-28 16:27:26.617] [info] @@@@@@@@@@@@@@ Tackling Group: large @@@@@@@@@@@@@@\n",
      "[2025-08-28 16:27:26.617] [info] @@@@@@@@@@@@@@ Tackling Group: extra @@@@@@@@@@@@@@\n",
      "[2025-08-28 16:27:26.617] [info] @@@@@@@@@@@@@@ Tackling Group: overflow @@@@@@@@@@@@@@\n",
      "[2025-08-28 16:27:26.617] [info] UD2 Total Cost: 531.7 ms\n",
      "\n",
      "\n",
      "    ██╗   ██╗██████╗ ██████╗\n",
      "    ██║   ██║██╔══██╗╚════██╗\n",
      "    ██║   ██║██║  ██║ █████╔╝\n",
      "    ██║   ██║██║  ██║██╔═══╝\n",
      "    ╚██████╔╝██████╔╝███████╗\n",
      "     ╚═════╝ ╚═════╝ ╚══════╝\n",
      "\n",
      "    DP Technology Docking Toolkit\n",
      "\n",
      "\n",
      "{'receptor': 'xx.pdb', 'ligand': 'xx.sdf', 'ligand_batch': None, 'center': [0.0, 0.0, 0.0], 'exhaustiveness': 512, 'randomize': True, 'mc_steps': 0, 'opt_steps': 0, 'refine_steps': 0, 'num_pose': 1, 'rmsd_limit': 1.0, 'energy_range': 3.0, 'seed': 12345, 'use_tor_lib': False, 'n_cpu': None, 'gpu_device_id': 0, 'box_size': [30.0, 30.0, 30.0], 'task': 'score', 'search_mode': 'free', 'template_docking': False, 'reference_sdf_file_name': None, 'compute_center': True, 'core_atom_mapping_dict_list': None, 'covalent_ligand': False, 'covalent_residue_atom_info_list': None, 'preserve_receptor_hydrogen': False, 'temp_dir_name': './tmp', 'output_receptor_dms_file_name': 'receptor_parameterized.dms', 'output_docking_pose_sdf_file_name': 'unidock2_out.sdf'}\n",
      "Target Center for Current Docking: (15.0, -1.0, -1.0)\n"
     ]
    },
    {
     "name": "stderr",
     "output_type": "stream",
     "text": [
      "/home/lccdp/Softs/miniconda3/envs/ud2pub/lib/python3.10/site-packages/MDAnalysis/coordinates/PDB.py:777: UserWarning: Unit cell dimensions not found. CRYST1 record set to unitary values.\n",
      "  warnings.warn(\"Unit cell dimensions not found. \"\n",
      "/home/lccdp/Softs/miniconda3/envs/ud2pub/lib/python3.10/site-packages/MDAnalysis/coordinates/PDB.py:1154: UserWarning: Found no information for attr: 'formalcharges' Using default value of '0'\n",
      "  warnings.warn(\"Found no information for attr: '{}'\"\n",
      "/home/lccdp/Softs/miniconda3/envs/ud2pub/lib/python3.10/site-packages/MDAnalysis/coordinates/PDB.py:453: UserWarning: 1 A^3 CRYST1 record, this is usually a placeholder. Unit cell dimensions will be set to None.\n",
      "  warnings.warn(\"1 A^3 CRYST1 record,\"\n"
     ]
    },
    {
     "name": "stdout",
     "output_type": "stream",
     "text": [
      "[2025-08-28 16:27:56.895] [info] ----------------------- RUN Only Scoring -----------------------\n",
      "[2025-08-28 16:27:56.896] [info] Receptor loaded: 2393 atoms in box\n",
      "[2025-08-28 16:27:56.896] [info] Ligands loaded. Total count: 1\n",
      "[2025-08-28 16:27:56.956] [info] ----------------------- RUN Screening -----------------------\n",
      "[2025-08-28 16:27:56.956] [info] DockParam: seed=12345, search_score=0, opt_score=0, \n",
      "box: x_lo=0 Angstrom, x_hi=30 Angstrom, y_lo=-16 Angstrom, y_hi=14 Angstrom, z_lo=-16 Angstrom, z_hi=14 Angstrom, \n",
      "constraint_docking=false, exhaustiveness=1, \n",
      "mc_steps=0, opt_steps=0, refine_steps=0, \n",
      "num_pose=1, rmsd_limit=999 Angstrom, \n",
      "\n",
      "[2025-08-28 16:27:56.956] [info] Group small size: 0\n",
      "[2025-08-28 16:27:56.956] [info] Group medium size: 1\n",
      "[2025-08-28 16:27:56.956] [info] Group large size: 0\n",
      "[2025-08-28 16:27:56.956] [info] Group extra size: 0\n",
      "[2025-08-28 16:27:56.956] [info] Group overflow size: 0\n",
      "[2025-08-28 16:27:56.956] [info] @@@@@@@@@@@@@@ Tackling Group: small @@@@@@@@@@@@@@\n",
      "[2025-08-28 16:27:56.956] [info] @@@@@@@@@@@@@@ Tackling Group: medium @@@@@@@@@@@@@@\n",
      "[2025-08-28 16:27:56.956] [info] Batch 1 size: 1\n",
      "[2025-08-28 16:27:56.956] [info] Perform the Task...\n",
      "[2025-08-28 16:27:56.956] [info] Memory Allocation on GPU...\n",
      "[2025-08-28 16:27:56.961] [info] Memory allocation on GPU is done.\n",
      "[2025-08-28 16:27:56.961] [info] Global Search (MC)...\n",
      "[2025-08-28 16:27:56.961] [warning] [Line Search Steps Count]: 0\n",
      "[2025-08-28 16:27:56.961] [info] Global Search (MC) is done.\n",
      "[2025-08-28 16:27:56.961] [info] Clustering 1 * 1 = 1 poses ...\n",
      "[2025-08-28 16:27:56.961] [info] Clustering is done. 1 poses are left.\n",
      "[2025-08-28 16:27:56.961] [info] Filtering by num_pose & energy_range...\n",
      "[2025-08-28 16:27:56.962] [info] Filtering is done.\n",
      "[2025-08-28 16:27:56.962] [info] Scoring...\n",
      "[2025-08-28 16:27:56.962] [info] -------------------------------------------\n",
      "[2025-08-28 16:27:56.962] [info] Rank      Affinity (kcal/mol) \n",
      "[2025-08-28 16:27:56.962] [info] -------------------------------------------\n",
      "[2025-08-28 16:27:56.962] [info] 1         -7.669677           \n",
      "[2025-08-28 16:27:56.962] [info] -------------------------------------------\n",
      "[2025-08-28 16:27:56.962] [info] Scoring is done.\n",
      "[2025-08-28 16:27:56.962] [info] Dumping the poses to /home/lccdp/Projects/clion/Uni-Dock2/unidock/unidock_engine/examples/align_Bace_Chiral/1_0/tmp/docking_lccdp-S1_861237_20250828_162727_094671_n6kp9j3l/unidock2_output/from_python_obj_1.json...\n",
      "[2025-08-28 16:27:56.962] [info] Dumping is done.\n",
      "[2025-08-28 16:27:56.962] [info] Memory free on GPU...\n",
      "[2025-08-28 16:27:56.962] [info] Memory free on GPU is done.\n",
      "[2025-08-28 16:27:56.962] [info] Memory free on CPU...\n",
      "[2025-08-28 16:27:56.963] [info] Memory free on CPU is done.\n",
      "[2025-08-28 16:27:56.963] [info] Task is done.\n",
      "[2025-08-28 16:27:56.963] [info] Batch 1 running time: 6.6 ms\n",
      "[2025-08-28 16:27:56.963] [info] @@@@@@@@@@@@@@ Tackling Group: large @@@@@@@@@@@@@@\n",
      "[2025-08-28 16:27:56.963] [info] @@@@@@@@@@@@@@ Tackling Group: extra @@@@@@@@@@@@@@\n",
      "[2025-08-28 16:27:56.963] [info] @@@@@@@@@@@@@@ Tackling Group: overflow @@@@@@@@@@@@@@\n",
      "[2025-08-28 16:27:56.963] [info] UD2 Total Cost: 66.3 ms\n",
      "[2025-08-28 16:27:57.105] [info] [::] Using config file: /home/lccdp/Projects/clion/Uni-Dock2/unidock/unidock_engine/examples/align_Bace_Chiral/1_0/ud2.yaml\n",
      "\n",
      "    ██╗ccc██╗██████╗c██████╗c\n",
      "    ██║ccc██║██╔══██╗╚════██╗\n",
      "    ██║ccc██║██║cc██║c█████╔╝\n",
      "    ██║ccc██║██║cc██║██╔═══╝c\n",
      "    ╚██████╔╝██████╔╝███████╗\n",
      "    c╚═════╝c╚═════╝c╚══════╝\n",
      "    \n",
      "UD2 C++ Engine Version: 0.4.3\n",
      "[2025-08-28 16:27:57.105] [info] [::] ==================== UD2 Starts! ======================\n",
      "\n",
      "[2025-08-28 16:27:57.105] [info] [::] Use heuristic method to decide opt_steps\n",
      "[2025-08-28 16:27:57.105] [warning] [::] Config item Advanced.tor_lib doesn't exist, using default value\n",
      "[2025-08-28 16:27:57.107] [info] [::] Json is successfully parsed\n",
      "[2025-08-28 16:27:57.108] [info] [::] Receptor has 2393 atoms in box\n",
      "[2025-08-28 16:27:57.108] [info] [::] Flexible molecules count: 1\n",
      "[2025-08-28 16:27:57.155] [info] [::] Set GPU device id to 0\n",
      "[2025-08-28 16:27:57.155] [info] [::] Available Memory = 7636 MB   Total Memory = 7973 MB\n",
      "[2025-08-28 16:27:57.155] [info] [::] ----------------------- RUN Screening -----------------------\n",
      "[2025-08-28 16:27:57.155] [info] [::] DockParam: seed=9996, search_score=0, opt_score=0, \n",
      "box: x_lo=0 Angstrom, x_hi=30 Angstrom, y_lo=-16 Angstrom, y_hi=14 Angstrom, z_lo=-16 Angstrom, z_hi=14 Angstrom, \n",
      "constraint_docking=false, exhaustiveness=512, \n",
      "mc_steps=40, opt_steps=-1, refine_steps=5, \n",
      "num_pose=5, rmsd_limit=1 Angstrom, \n",
      "bias_type=2, bias_k=0.3\n",
      "\n",
      "[2025-08-28 16:27:57.155] [info] [::] Group small size: 0\n",
      "[2025-08-28 16:27:57.155] [info] [::] Group medium size: 1\n",
      "[2025-08-28 16:27:57.155] [info] [::] Group large size: 0\n",
      "[2025-08-28 16:27:57.155] [info] [::] Group extra size: 0\n",
      "[2025-08-28 16:27:57.155] [info] [::] Group overflow size: 0\n",
      "[2025-08-28 16:27:57.155] [info] [::] @@@@@@@@@@@@@@ Tackling Group: small @@@@@@@@@@@@@@\n",
      "[2025-08-28 16:27:57.155] [info] [::] @@@@@@@@@@@@@@ Tackling Group: medium @@@@@@@@@@@@@@\n",
      "[2025-08-28 16:27:57.156] [info] [::] Batch 1 size: 1\n",
      "[2025-08-28 16:27:57.156] [info] [::] Perform the Task...\n",
      "[2025-08-28 16:27:57.156] [info] [::] Memory Allocation on GPU...\n",
      "[2025-08-28 16:27:57.165] [info] [::] Memory allocation on GPU is done.\n",
      "[2025-08-28 16:27:57.165] [info] [::] Global Search (MC)...\n",
      "[2025-08-28 16:27:57.165] [info] [::] Randomization...\n",
      "[2025-08-28 16:28:05.651] [warning] [::] [Line Search Steps Count]: 91187296\n",
      "[2025-08-28 16:28:05.651] [info] [::] Global Search (MC) is done.\n",
      "[2025-08-28 16:28:05.651] [info] [::] Clustering 1 * 512 = 512 poses ...\n",
      "[2025-08-28 16:28:05.652] [info] [::] Clustering is done. 15 poses are left.\n",
      "[2025-08-28 16:28:05.652] [info] [::] Run Refinement (BFGS) for 5 steps...\n",
      "[2025-08-28 16:28:05.698] [warning] [::] [Refinement Line Search Steps Count]: 91197984\n",
      "[2025-08-28 16:28:05.698] [info] [::] Refinement (BFGS) is done.\n",
      "[2025-08-28 16:28:05.698] [info] [::] Filtering by num_pose & energy_range...\n",
      "[2025-08-28 16:28:05.699] [info] [::] Filtering is done.\n",
      "[2025-08-28 16:28:05.699] [info] [::] Scoring...\n",
      "[2025-08-28 16:28:05.699] [info] [::] -------------------------------------------\n",
      "[2025-08-28 16:28:05.699] [info] [::] Rank      Affinity (kcal/mol) Bias (kcal/mol)     RBias (kcal/mol)    \n",
      "[2025-08-28 16:28:05.699] [info] [::] -------------------------------------------\n",
      "[2025-08-28 16:28:05.700] [info] [::] 1         -6.873041           19039.625           0                   \n",
      "[2025-08-28 16:28:05.700] [info] [::] 2         -3.678684           19075.867           36.242188           \n",
      "[2025-08-28 16:28:05.700] [info] [::] 3         -4.7773924          19090.988           51.36328            \n",
      "[2025-08-28 16:28:05.700] [info] [::] 4         -1.1854477          19123.246           83.62109            \n",
      "[2025-08-28 16:28:05.700] [info] [::] 5         -4.46687            19138.934           99.30859            \n",
      "[2025-08-28 16:28:05.700] [info] [::] -------------------------------------------\n",
      "[2025-08-28 16:28:05.700] [info] [::] Scoring is done.\n",
      "[2025-08-28 16:28:05.700] [info] [::] Dumping the poses to ./res2/ud2_align_1.json...\n",
      "[2025-08-28 16:28:05.700] [info] [::] Dumping is done.\n",
      "[2025-08-28 16:28:05.700] [info] [::] Memory free on GPU...\n",
      "[2025-08-28 16:28:05.700] [info] [::] Memory free on GPU is done.\n",
      "[2025-08-28 16:28:05.700] [info] [::] Memory free on CPU...\n",
      "[2025-08-28 16:28:05.701] [info] [::] Memory free on CPU is done.\n",
      "[2025-08-28 16:28:05.701] [info] [::] Task is done.\n",
      "[2025-08-28 16:28:05.701] [info] [::] Batch 1 running time: 8545.0 ms\n",
      "[2025-08-28 16:28:05.701] [info] [::] @@@@@@@@@@@@@@ Tackling Group: large @@@@@@@@@@@@@@\n",
      "[2025-08-28 16:28:05.701] [info] [::] @@@@@@@@@@@@@@ Tackling Group: extra @@@@@@@@@@@@@@\n",
      "[2025-08-28 16:28:05.701] [info] [::] @@@@@@@@@@@@@@ Tackling Group: overflow @@@@@@@@@@@@@@\n",
      "[2025-08-28 16:28:05.701] [info] [::] UD2 Total Cost: 8595.4 ms\n",
      "The sdf file ud2_out_bias.sdf has been generated.\n",
      "\n",
      "\n",
      "Align docking time: 69.89280676841736 seconds\n",
      "\n",
      "\n",
      "\n",
      "\n",
      "    ██╗   ██╗██████╗ ██████╗\n",
      "    ██║   ██║██╔══██╗╚════██╗\n",
      "    ██║   ██║██║  ██║ █████╔╝\n",
      "    ██║   ██║██║  ██║██╔═══╝\n",
      "    ╚██████╔╝██████╔╝███████╗\n",
      "     ╚═════╝ ╚═════╝ ╚══════╝\n",
      "\n",
      "    DP Technology Docking Toolkit\n",
      "\n",
      "\n",
      "{'receptor': 'xx.pdb', 'ligand': 'xx.sdf', 'ligand_batch': None, 'center': [12.0, 25.0, 11.0], 'exhaustiveness': 512, 'randomize': True, 'mc_steps': 40, 'opt_steps': -1, 'refine_steps': 5, 'num_pose': 1, 'rmsd_limit': 1.0, 'energy_range': 3.0, 'seed': 12345, 'use_tor_lib': False, 'n_cpu': None, 'gpu_device_id': 0, 'box_size': [30.0, 30.0, 30.0], 'task': 'screen', 'search_mode': 'free', 'template_docking': True, 'reference_sdf_file_name': '1.sdf', 'compute_center': True, 'core_atom_mapping_dict_list': None, 'covalent_ligand': False, 'covalent_residue_atom_info_list': None, 'preserve_receptor_hydrogen': False, 'temp_dir_name': '/tmp', 'output_receptor_dms_file_name': 'receptor_parameterized.dms', 'output_docking_pose_sdf_file_name': 'unidock2_out_mcs.sdf'}\n",
      "Target Center for Current Docking: (15.004455961965736, -1.5131663016673162, -0.8133936301640768)\n"
     ]
    },
    {
     "name": "stderr",
     "output_type": "stream",
     "text": [
      "/home/lccdp/Softs/miniconda3/envs/ud2pub/lib/python3.10/site-packages/MDAnalysis/coordinates/PDB.py:777: UserWarning: Unit cell dimensions not found. CRYST1 record set to unitary values.\n",
      "  warnings.warn(\"Unit cell dimensions not found. \"\n",
      "/home/lccdp/Softs/miniconda3/envs/ud2pub/lib/python3.10/site-packages/MDAnalysis/coordinates/PDB.py:1154: UserWarning: Found no information for attr: 'formalcharges' Using default value of '0'\n",
      "  warnings.warn(\"Found no information for attr: '{}'\"\n",
      "/home/lccdp/Softs/miniconda3/envs/ud2pub/lib/python3.10/site-packages/MDAnalysis/coordinates/PDB.py:453: UserWarning: 1 A^3 CRYST1 record, this is usually a placeholder. Unit cell dimensions will be set to None.\n",
      "  warnings.warn(\"1 A^3 CRYST1 record,\"\n"
     ]
    },
    {
     "name": "stdout",
     "output_type": "stream",
     "text": [
      "[2025-08-28 16:28:36.106] [info] ----------------------- RUN Screening -----------------------\n",
      "[2025-08-28 16:28:36.106] [info] Receptor loaded: 2390 atoms in box\n",
      "[2025-08-28 16:28:36.107] [info] Ligands loaded. Total count: 1\n",
      "[2025-08-28 16:28:36.165] [info] ----------------------- RUN Screening -----------------------\n",
      "[2025-08-28 16:28:36.165] [info] DockParam: seed=12345, search_score=0, opt_score=0, \n",
      "box: x_lo=0.0044555664 Angstrom, x_hi=30.004456 Angstrom, y_lo=-16.513166 Angstrom, y_hi=13.486834 Angstrom, z_lo=-15.813394 Angstrom, z_hi=14.186606 Angstrom, \n",
      "constraint_docking=true, exhaustiveness=512, \n",
      "mc_steps=40, opt_steps=-1, refine_steps=5, \n",
      "num_pose=1, rmsd_limit=1 Angstrom, \n",
      "\n",
      "[2025-08-28 16:28:36.165] [info] Group small size: 0\n",
      "[2025-08-28 16:28:36.165] [info] Group medium size: 1\n",
      "[2025-08-28 16:28:36.165] [info] Group large size: 0\n",
      "[2025-08-28 16:28:36.165] [info] Group extra size: 0\n",
      "[2025-08-28 16:28:36.165] [info] Group overflow size: 0\n",
      "[2025-08-28 16:28:36.165] [info] @@@@@@@@@@@@@@ Tackling Group: small @@@@@@@@@@@@@@\n",
      "[2025-08-28 16:28:36.165] [info] @@@@@@@@@@@@@@ Tackling Group: medium @@@@@@@@@@@@@@\n",
      "[2025-08-28 16:28:36.165] [info] Batch 1 size: 1\n",
      "[2025-08-28 16:28:36.165] [info] Perform the Task...\n",
      "[2025-08-28 16:28:36.165] [info] Memory Allocation on GPU...\n",
      "[2025-08-28 16:28:36.172] [info] Memory allocation on GPU is done.\n",
      "[2025-08-28 16:28:36.172] [info] Global Search (MC)...\n",
      "[2025-08-28 16:28:36.621] [warning] [Line Search Steps Count]: 6553600\n",
      "[2025-08-28 16:28:36.621] [info] Global Search (MC) is done.\n",
      "[2025-08-28 16:28:36.621] [info] Clustering 1 * 512 = 512 poses ...\n",
      "[2025-08-28 16:28:36.622] [info] Clustering is done. 1 poses are left.\n",
      "[2025-08-28 16:28:36.622] [info] Run Refinement (BFGS) for 5 steps...\n",
      "[2025-08-28 16:28:36.631] [warning] [Refinement Line Search Steps Count]: 6553920\n",
      "[2025-08-28 16:28:36.631] [info] Refinement (BFGS) is done.\n",
      "[2025-08-28 16:28:36.631] [info] Filtering by num_pose & energy_range...\n",
      "[2025-08-28 16:28:36.632] [info] Filtering is done.\n",
      "[2025-08-28 16:28:36.632] [info] Scoring...\n",
      "[2025-08-28 16:28:36.632] [info] -------------------------------------------\n",
      "[2025-08-28 16:28:36.632] [info] Rank      Affinity (kcal/mol) \n",
      "[2025-08-28 16:28:36.632] [info] -------------------------------------------\n",
      "[2025-08-28 16:28:36.632] [info] 1         -8.042921           \n",
      "[2025-08-28 16:28:36.632] [info] -------------------------------------------\n",
      "[2025-08-28 16:28:36.632] [info] Scoring is done.\n",
      "[2025-08-28 16:28:36.632] [info] Dumping the poses to /tmp/docking_lccdp-S1_861578_20250828_162806_188443_8fi7ryg7/unidock2_output/from_python_obj_1.json...\n",
      "[2025-08-28 16:28:36.633] [info] Dumping is done.\n",
      "[2025-08-28 16:28:36.633] [info] Memory free on GPU...\n",
      "[2025-08-28 16:28:36.633] [info] Memory free on GPU is done.\n",
      "[2025-08-28 16:28:36.633] [info] Memory free on CPU...\n",
      "[2025-08-28 16:28:36.633] [info] Memory free on CPU is done.\n",
      "[2025-08-28 16:28:36.633] [info] Task is done.\n",
      "[2025-08-28 16:28:36.633] [info] Batch 1 running time: 467.9 ms\n",
      "[2025-08-28 16:28:36.633] [info] @@@@@@@@@@@@@@ Tackling Group: large @@@@@@@@@@@@@@\n",
      "[2025-08-28 16:28:36.633] [info] @@@@@@@@@@@@@@ Tackling Group: extra @@@@@@@@@@@@@@\n",
      "[2025-08-28 16:28:36.633] [info] @@@@@@@@@@@@@@ Tackling Group: overflow @@@@@@@@@@@@@@\n",
      "[2025-08-28 16:28:36.633] [info] UD2 Total Cost: 526.0 ms\n",
      "\n",
      "\n",
      "    ██╗   ██╗██████╗ ██████╗\n",
      "    ██║   ██║██╔══██╗╚════██╗\n",
      "    ██║   ██║██║  ██║ █████╔╝\n",
      "    ██║   ██║██║  ██║██╔═══╝\n",
      "    ╚██████╔╝██████╔╝███████╗\n",
      "     ╚═════╝ ╚═════╝ ╚══════╝\n",
      "\n",
      "    DP Technology Docking Toolkit\n",
      "\n",
      "\n",
      "{'receptor': 'xx.pdb', 'ligand': 'xx.sdf', 'ligand_batch': None, 'center': [0.0, 0.0, 0.0], 'exhaustiveness': 512, 'randomize': True, 'mc_steps': 0, 'opt_steps': 0, 'refine_steps': 0, 'num_pose': 1, 'rmsd_limit': 1.0, 'energy_range': 3.0, 'seed': 12345, 'use_tor_lib': False, 'n_cpu': None, 'gpu_device_id': 0, 'box_size': [30.0, 30.0, 30.0], 'task': 'score', 'search_mode': 'free', 'template_docking': False, 'reference_sdf_file_name': None, 'compute_center': True, 'core_atom_mapping_dict_list': None, 'covalent_ligand': False, 'covalent_residue_atom_info_list': None, 'preserve_receptor_hydrogen': False, 'temp_dir_name': './tmp', 'output_receptor_dms_file_name': 'receptor_parameterized.dms', 'output_docking_pose_sdf_file_name': 'unidock2_out.sdf'}\n",
      "Target Center for Current Docking: (15.0, -1.0, -1.0)\n"
     ]
    },
    {
     "name": "stderr",
     "output_type": "stream",
     "text": [
      "/home/lccdp/Softs/miniconda3/envs/ud2pub/lib/python3.10/site-packages/MDAnalysis/coordinates/PDB.py:777: UserWarning: Unit cell dimensions not found. CRYST1 record set to unitary values.\n",
      "  warnings.warn(\"Unit cell dimensions not found. \"\n",
      "/home/lccdp/Softs/miniconda3/envs/ud2pub/lib/python3.10/site-packages/MDAnalysis/coordinates/PDB.py:1154: UserWarning: Found no information for attr: 'formalcharges' Using default value of '0'\n",
      "  warnings.warn(\"Found no information for attr: '{}'\"\n",
      "/home/lccdp/Softs/miniconda3/envs/ud2pub/lib/python3.10/site-packages/MDAnalysis/coordinates/PDB.py:453: UserWarning: 1 A^3 CRYST1 record, this is usually a placeholder. Unit cell dimensions will be set to None.\n",
      "  warnings.warn(\"1 A^3 CRYST1 record,\"\n"
     ]
    },
    {
     "name": "stdout",
     "output_type": "stream",
     "text": [
      "[2025-08-28 16:29:07.039] [info] ----------------------- RUN Only Scoring -----------------------\n",
      "[2025-08-28 16:29:07.039] [info] Receptor loaded: 2393 atoms in box\n",
      "[2025-08-28 16:29:07.040] [info] Ligands loaded. Total count: 1\n",
      "[2025-08-28 16:29:07.105] [info] ----------------------- RUN Screening -----------------------\n",
      "[2025-08-28 16:29:07.105] [info] DockParam: seed=12345, search_score=0, opt_score=0, \n",
      "box: x_lo=0 Angstrom, x_hi=30 Angstrom, y_lo=-16 Angstrom, y_hi=14 Angstrom, z_lo=-16 Angstrom, z_hi=14 Angstrom, \n",
      "constraint_docking=false, exhaustiveness=1, \n",
      "mc_steps=0, opt_steps=0, refine_steps=0, \n",
      "num_pose=1, rmsd_limit=999 Angstrom, \n",
      "\n",
      "[2025-08-28 16:29:07.105] [info] Group small size: 0\n",
      "[2025-08-28 16:29:07.105] [info] Group medium size: 1\n",
      "[2025-08-28 16:29:07.105] [info] Group large size: 0\n",
      "[2025-08-28 16:29:07.105] [info] Group extra size: 0\n",
      "[2025-08-28 16:29:07.105] [info] Group overflow size: 0\n",
      "[2025-08-28 16:29:07.105] [info] @@@@@@@@@@@@@@ Tackling Group: small @@@@@@@@@@@@@@\n",
      "[2025-08-28 16:29:07.105] [info] @@@@@@@@@@@@@@ Tackling Group: medium @@@@@@@@@@@@@@\n",
      "[2025-08-28 16:29:07.106] [info] Batch 1 size: 1\n",
      "[2025-08-28 16:29:07.106] [info] Perform the Task...\n",
      "[2025-08-28 16:29:07.106] [info] Memory Allocation on GPU...\n",
      "[2025-08-28 16:29:07.110] [info] Memory allocation on GPU is done.\n",
      "[2025-08-28 16:29:07.110] [info] Global Search (MC)...\n",
      "[2025-08-28 16:29:07.110] [warning] [Line Search Steps Count]: 0\n",
      "[2025-08-28 16:29:07.110] [info] Global Search (MC) is done.\n",
      "[2025-08-28 16:29:07.110] [info] Clustering 1 * 1 = 1 poses ...\n",
      "[2025-08-28 16:29:07.110] [info] Clustering is done. 1 poses are left.\n",
      "[2025-08-28 16:29:07.110] [info] Filtering by num_pose & energy_range...\n",
      "[2025-08-28 16:29:07.111] [info] Filtering is done.\n",
      "[2025-08-28 16:29:07.111] [info] Scoring...\n",
      "[2025-08-28 16:29:07.111] [info] -------------------------------------------\n",
      "[2025-08-28 16:29:07.111] [info] Rank      Affinity (kcal/mol) \n",
      "[2025-08-28 16:29:07.111] [info] -------------------------------------------\n",
      "[2025-08-28 16:29:07.111] [info] 1         -7.2205353          \n",
      "[2025-08-28 16:29:07.111] [info] -------------------------------------------\n",
      "[2025-08-28 16:29:07.111] [info] Scoring is done.\n",
      "[2025-08-28 16:29:07.111] [info] Dumping the poses to /home/lccdp/Projects/clion/Uni-Dock2/unidock/unidock_engine/examples/align_Bace_Chiral/1_2/tmp/docking_lccdp-S1_861781_20250828_162837_129764_chorneir/unidock2_output/from_python_obj_1.json...\n",
      "[2025-08-28 16:29:07.111] [info] Dumping is done.\n",
      "[2025-08-28 16:29:07.111] [info] Memory free on GPU...\n",
      "[2025-08-28 16:29:07.111] [info] Memory free on GPU is done.\n",
      "[2025-08-28 16:29:07.111] [info] Memory free on CPU...\n",
      "[2025-08-28 16:29:07.111] [info] Memory free on CPU is done.\n",
      "[2025-08-28 16:29:07.111] [info] Task is done.\n",
      "[2025-08-28 16:29:07.111] [info] Batch 1 running time: 5.9 ms\n",
      "[2025-08-28 16:29:07.111] [info] @@@@@@@@@@@@@@ Tackling Group: large @@@@@@@@@@@@@@\n",
      "[2025-08-28 16:29:07.111] [info] @@@@@@@@@@@@@@ Tackling Group: extra @@@@@@@@@@@@@@\n",
      "[2025-08-28 16:29:07.111] [info] @@@@@@@@@@@@@@ Tackling Group: overflow @@@@@@@@@@@@@@\n",
      "[2025-08-28 16:29:07.111] [info] UD2 Total Cost: 71.8 ms\n",
      "[2025-08-28 16:29:07.257] [info] [::] Using config file: /home/lccdp/Projects/clion/Uni-Dock2/unidock/unidock_engine/examples/align_Bace_Chiral/1_2/ud2.yaml\n",
      "\n",
      "    ██╗ccc██╗██████╗c██████╗c\n",
      "    ██║ccc██║██╔══██╗╚════██╗\n",
      "    ██║ccc██║██║cc██║c█████╔╝\n",
      "    ██║ccc██║██║cc██║██╔═══╝c\n",
      "    ╚██████╔╝██████╔╝███████╗\n",
      "    c╚═════╝c╚═════╝c╚══════╝\n",
      "    \n",
      "UD2 C++ Engine Version: 0.4.3\n",
      "[2025-08-28 16:29:07.257] [info] [::] ==================== UD2 Starts! ======================\n",
      "\n",
      "[2025-08-28 16:29:07.257] [info] [::] Use heuristic method to decide opt_steps\n",
      "[2025-08-28 16:29:07.257] [warning] [::] Config item Advanced.tor_lib doesn't exist, using default value\n",
      "[2025-08-28 16:29:07.258] [info] [::] Json is successfully parsed\n",
      "[2025-08-28 16:29:07.259] [info] [::] Receptor has 2393 atoms in box\n",
      "[2025-08-28 16:29:07.259] [info] [::] Flexible molecules count: 1\n",
      "[2025-08-28 16:29:07.301] [info] [::] Set GPU device id to 0\n",
      "[2025-08-28 16:29:07.301] [info] [::] Available Memory = 7636 MB   Total Memory = 7973 MB\n",
      "[2025-08-28 16:29:07.302] [info] [::] ----------------------- RUN Screening -----------------------\n",
      "[2025-08-28 16:29:07.302] [info] [::] DockParam: seed=9996, search_score=0, opt_score=0, \n",
      "box: x_lo=0 Angstrom, x_hi=30 Angstrom, y_lo=-16 Angstrom, y_hi=14 Angstrom, z_lo=-16 Angstrom, z_hi=14 Angstrom, \n",
      "constraint_docking=false, exhaustiveness=512, \n",
      "mc_steps=40, opt_steps=-1, refine_steps=5, \n",
      "num_pose=5, rmsd_limit=1 Angstrom, \n",
      "bias_type=2, bias_k=0.3\n",
      "\n",
      "[2025-08-28 16:29:07.302] [info] [::] Group small size: 0\n",
      "[2025-08-28 16:29:07.302] [info] [::] Group medium size: 1\n",
      "[2025-08-28 16:29:07.302] [info] [::] Group large size: 0\n",
      "[2025-08-28 16:29:07.302] [info] [::] Group extra size: 0\n",
      "[2025-08-28 16:29:07.302] [info] [::] Group overflow size: 0\n",
      "[2025-08-28 16:29:07.302] [info] [::] @@@@@@@@@@@@@@ Tackling Group: small @@@@@@@@@@@@@@\n",
      "[2025-08-28 16:29:07.302] [info] [::] @@@@@@@@@@@@@@ Tackling Group: medium @@@@@@@@@@@@@@\n",
      "[2025-08-28 16:29:07.302] [info] [::] Batch 1 size: 1\n",
      "[2025-08-28 16:29:07.302] [info] [::] Perform the Task...\n",
      "[2025-08-28 16:29:07.302] [info] [::] Memory Allocation on GPU...\n",
      "[2025-08-28 16:29:07.311] [info] [::] Memory allocation on GPU is done.\n",
      "[2025-08-28 16:29:07.311] [info] [::] Global Search (MC)...\n",
      "[2025-08-28 16:29:07.311] [info] [::] Randomization...\n",
      "[2025-08-28 16:29:16.114] [warning] [::] [Line Search Steps Count]: 90442528\n",
      "[2025-08-28 16:29:16.114] [info] [::] Global Search (MC) is done.\n",
      "[2025-08-28 16:29:16.114] [info] [::] Clustering 1 * 512 = 512 poses ...\n",
      "[2025-08-28 16:29:16.115] [info] [::] Clustering is done. 16 poses are left.\n",
      "[2025-08-28 16:29:16.115] [info] [::] Run Refinement (BFGS) for 5 steps...\n",
      "[2025-08-28 16:29:16.152] [warning] [::] [Refinement Line Search Steps Count]: 90453056\n",
      "[2025-08-28 16:29:16.152] [info] [::] Refinement (BFGS) is done.\n",
      "[2025-08-28 16:29:16.152] [info] [::] Filtering by num_pose & energy_range...\n",
      "[2025-08-28 16:29:16.152] [info] [::] Filtering is done.\n",
      "[2025-08-28 16:29:16.152] [info] [::] Scoring...\n",
      "[2025-08-28 16:29:16.152] [info] [::] -------------------------------------------\n",
      "[2025-08-28 16:29:16.152] [info] [::] Rank      Affinity (kcal/mol) Bias (kcal/mol)     RBias (kcal/mol)    \n",
      "[2025-08-28 16:29:16.152] [info] [::] -------------------------------------------\n",
      "[2025-08-28 16:29:16.153] [info] [::] 1         -6.812962           19003.29            0                   \n",
      "[2025-08-28 16:29:16.153] [info] [::] 2         -3.570294           19039.521           36.23242            \n",
      "[2025-08-28 16:29:16.153] [info] [::] 3         -5.5836535          19104.846           101.55664           \n",
      "[2025-08-28 16:29:16.153] [info] [::] 4         -2.251406           19137.064           133.77539           \n",
      "[2025-08-28 16:29:16.153] [info] [::] 5         -6.841279           19142.672           139.38281           \n",
      "[2025-08-28 16:29:16.153] [info] [::] -------------------------------------------\n",
      "[2025-08-28 16:29:16.153] [info] [::] Scoring is done.\n",
      "[2025-08-28 16:29:16.153] [info] [::] Dumping the poses to ./res2/ud2_align_1.json...\n",
      "[2025-08-28 16:29:16.153] [info] [::] Dumping is done.\n",
      "[2025-08-28 16:29:16.153] [info] [::] Memory free on GPU...\n",
      "[2025-08-28 16:29:16.154] [info] [::] Memory free on GPU is done.\n",
      "[2025-08-28 16:29:16.154] [info] [::] Memory free on CPU...\n",
      "[2025-08-28 16:29:16.154] [info] [::] Memory free on CPU is done.\n",
      "[2025-08-28 16:29:16.154] [info] [::] Task is done.\n",
      "[2025-08-28 16:29:16.154] [info] [::] Batch 1 running time: 8851.9 ms\n",
      "[2025-08-28 16:29:16.154] [info] [::] @@@@@@@@@@@@@@ Tackling Group: large @@@@@@@@@@@@@@\n",
      "[2025-08-28 16:29:16.154] [info] [::] @@@@@@@@@@@@@@ Tackling Group: extra @@@@@@@@@@@@@@\n",
      "[2025-08-28 16:29:16.154] [info] [::] @@@@@@@@@@@@@@ Tackling Group: overflow @@@@@@@@@@@@@@\n",
      "[2025-08-28 16:29:16.154] [info] [::] UD2 Total Cost: 8897.2 ms\n",
      "The sdf file ud2_out_bias.sdf has been generated.\n",
      "\n",
      "\n",
      "Align docking time: 70.45487380027771 seconds\n",
      "\n",
      "\n",
      "\n",
      "\n",
      "    ██╗   ██╗██████╗ ██████╗\n",
      "    ██║   ██║██╔══██╗╚════██╗\n",
      "    ██║   ██║██║  ██║ █████╔╝\n",
      "    ██║   ██║██║  ██║██╔═══╝\n",
      "    ╚██████╔╝██████╔╝███████╗\n",
      "     ╚═════╝ ╚═════╝ ╚══════╝\n",
      "\n",
      "    DP Technology Docking Toolkit\n",
      "\n",
      "\n",
      "{'receptor': 'xx.pdb', 'ligand': 'xx.sdf', 'ligand_batch': None, 'center': [12.0, 25.0, 11.0], 'exhaustiveness': 512, 'randomize': True, 'mc_steps': 40, 'opt_steps': -1, 'refine_steps': 5, 'num_pose': 1, 'rmsd_limit': 1.0, 'energy_range': 3.0, 'seed': 12345, 'use_tor_lib': False, 'n_cpu': None, 'gpu_device_id': 0, 'box_size': [30.0, 30.0, 30.0], 'task': 'screen', 'search_mode': 'free', 'template_docking': True, 'reference_sdf_file_name': '1.sdf', 'compute_center': True, 'core_atom_mapping_dict_list': None, 'covalent_ligand': False, 'covalent_residue_atom_info_list': None, 'preserve_receptor_hydrogen': False, 'temp_dir_name': '/tmp', 'output_receptor_dms_file_name': 'receptor_parameterized.dms', 'output_docking_pose_sdf_file_name': 'unidock2_out_mcs.sdf'}\n",
      "Target Center for Current Docking: (15.004455961965736, -1.5131663016673162, -0.8133936301640768)\n"
     ]
    },
    {
     "name": "stderr",
     "output_type": "stream",
     "text": [
      "/home/lccdp/Softs/miniconda3/envs/ud2pub/lib/python3.10/site-packages/MDAnalysis/coordinates/PDB.py:777: UserWarning: Unit cell dimensions not found. CRYST1 record set to unitary values.\n",
      "  warnings.warn(\"Unit cell dimensions not found. \"\n",
      "/home/lccdp/Softs/miniconda3/envs/ud2pub/lib/python3.10/site-packages/MDAnalysis/coordinates/PDB.py:1154: UserWarning: Found no information for attr: 'formalcharges' Using default value of '0'\n",
      "  warnings.warn(\"Found no information for attr: '{}'\"\n",
      "/home/lccdp/Softs/miniconda3/envs/ud2pub/lib/python3.10/site-packages/MDAnalysis/coordinates/PDB.py:453: UserWarning: 1 A^3 CRYST1 record, this is usually a placeholder. Unit cell dimensions will be set to None.\n",
      "  warnings.warn(\"1 A^3 CRYST1 record,\"\n"
     ]
    },
    {
     "name": "stdout",
     "output_type": "stream",
     "text": [
      "[2025-08-28 16:29:46.390] [info] ----------------------- RUN Screening -----------------------\n",
      "[2025-08-28 16:29:46.390] [info] Receptor loaded: 2390 atoms in box\n",
      "[2025-08-28 16:29:46.391] [info] Ligands loaded. Total count: 1\n",
      "[2025-08-28 16:29:46.460] [info] ----------------------- RUN Screening -----------------------\n",
      "[2025-08-28 16:29:46.460] [info] DockParam: seed=12345, search_score=0, opt_score=0, \n",
      "box: x_lo=0.0044555664 Angstrom, x_hi=30.004456 Angstrom, y_lo=-16.513166 Angstrom, y_hi=13.486834 Angstrom, z_lo=-15.813394 Angstrom, z_hi=14.186606 Angstrom, \n",
      "constraint_docking=true, exhaustiveness=512, \n",
      "mc_steps=40, opt_steps=-1, refine_steps=5, \n",
      "num_pose=1, rmsd_limit=1 Angstrom, \n",
      "\n",
      "[2025-08-28 16:29:46.460] [info] Group small size: 0\n",
      "[2025-08-28 16:29:46.460] [info] Group medium size: 1\n",
      "[2025-08-28 16:29:46.460] [info] Group large size: 0\n",
      "[2025-08-28 16:29:46.460] [info] Group extra size: 0\n",
      "[2025-08-28 16:29:46.460] [info] Group overflow size: 0\n",
      "[2025-08-28 16:29:46.460] [info] @@@@@@@@@@@@@@ Tackling Group: small @@@@@@@@@@@@@@\n",
      "[2025-08-28 16:29:46.460] [info] @@@@@@@@@@@@@@ Tackling Group: medium @@@@@@@@@@@@@@\n",
      "[2025-08-28 16:29:46.460] [info] Batch 1 size: 1\n",
      "[2025-08-28 16:29:46.460] [info] Perform the Task...\n",
      "[2025-08-28 16:29:46.460] [info] Memory Allocation on GPU...\n",
      "[2025-08-28 16:29:46.466] [info] Memory allocation on GPU is done.\n",
      "[2025-08-28 16:29:46.466] [info] Global Search (MC)...\n",
      "[2025-08-28 16:29:46.918] [warning] [Line Search Steps Count]: 6553600\n",
      "[2025-08-28 16:29:46.918] [info] Global Search (MC) is done.\n",
      "[2025-08-28 16:29:46.918] [info] Clustering 1 * 512 = 512 poses ...\n",
      "[2025-08-28 16:29:46.919] [info] Clustering is done. 1 poses are left.\n",
      "[2025-08-28 16:29:46.919] [info] Run Refinement (BFGS) for 5 steps...\n",
      "[2025-08-28 16:29:46.929] [warning] [Refinement Line Search Steps Count]: 6553920\n",
      "[2025-08-28 16:29:46.929] [info] Refinement (BFGS) is done.\n",
      "[2025-08-28 16:29:46.929] [info] Filtering by num_pose & energy_range...\n",
      "[2025-08-28 16:29:46.929] [info] Filtering is done.\n",
      "[2025-08-28 16:29:46.929] [info] Scoring...\n",
      "[2025-08-28 16:29:46.929] [info] -------------------------------------------\n",
      "[2025-08-28 16:29:46.929] [info] Rank      Affinity (kcal/mol) \n",
      "[2025-08-28 16:29:46.929] [info] -------------------------------------------\n",
      "[2025-08-28 16:29:46.930] [info] 1         -8.042921           \n",
      "[2025-08-28 16:29:46.930] [info] -------------------------------------------\n",
      "[2025-08-28 16:29:46.930] [info] Scoring is done.\n",
      "[2025-08-28 16:29:46.930] [info] Dumping the poses to /tmp/docking_lccdp-S1_862123_20250828_162916_643596_ul4d8yjp/unidock2_output/from_python_obj_1.json...\n",
      "[2025-08-28 16:29:46.930] [info] Dumping is done.\n",
      "[2025-08-28 16:29:46.930] [info] Memory free on GPU...\n",
      "[2025-08-28 16:29:46.930] [info] Memory free on GPU is done.\n",
      "[2025-08-28 16:29:46.930] [info] Memory free on CPU...\n",
      "[2025-08-28 16:29:46.930] [info] Memory free on CPU is done.\n",
      "[2025-08-28 16:29:46.930] [info] Task is done.\n",
      "[2025-08-28 16:29:46.930] [info] Batch 1 running time: 470.2 ms\n",
      "[2025-08-28 16:29:46.930] [info] @@@@@@@@@@@@@@ Tackling Group: large @@@@@@@@@@@@@@\n",
      "[2025-08-28 16:29:46.930] [info] @@@@@@@@@@@@@@ Tackling Group: extra @@@@@@@@@@@@@@\n",
      "[2025-08-28 16:29:46.930] [info] @@@@@@@@@@@@@@ Tackling Group: overflow @@@@@@@@@@@@@@\n",
      "[2025-08-28 16:29:46.930] [info] UD2 Total Cost: 539.1 ms\n",
      "\n",
      "\n",
      "    ██╗   ██╗██████╗ ██████╗\n",
      "    ██║   ██║██╔══██╗╚════██╗\n",
      "    ██║   ██║██║  ██║ █████╔╝\n",
      "    ██║   ██║██║  ██║██╔═══╝\n",
      "    ╚██████╔╝██████╔╝███████╗\n",
      "     ╚═════╝ ╚═════╝ ╚══════╝\n",
      "\n",
      "    DP Technology Docking Toolkit\n",
      "\n",
      "\n",
      "{'receptor': 'xx.pdb', 'ligand': 'xx.sdf', 'ligand_batch': None, 'center': [0.0, 0.0, 0.0], 'exhaustiveness': 512, 'randomize': True, 'mc_steps': 0, 'opt_steps': 0, 'refine_steps': 0, 'num_pose': 1, 'rmsd_limit': 1.0, 'energy_range': 3.0, 'seed': 12345, 'use_tor_lib': False, 'n_cpu': None, 'gpu_device_id': 0, 'box_size': [30.0, 30.0, 30.0], 'task': 'score', 'search_mode': 'free', 'template_docking': False, 'reference_sdf_file_name': None, 'compute_center': True, 'core_atom_mapping_dict_list': None, 'covalent_ligand': False, 'covalent_residue_atom_info_list': None, 'preserve_receptor_hydrogen': False, 'temp_dir_name': './tmp', 'output_receptor_dms_file_name': 'receptor_parameterized.dms', 'output_docking_pose_sdf_file_name': 'unidock2_out.sdf'}\n",
      "Target Center for Current Docking: (15.0, -1.0, -1.0)\n"
     ]
    },
    {
     "name": "stderr",
     "output_type": "stream",
     "text": [
      "/home/lccdp/Softs/miniconda3/envs/ud2pub/lib/python3.10/site-packages/MDAnalysis/coordinates/PDB.py:777: UserWarning: Unit cell dimensions not found. CRYST1 record set to unitary values.\n",
      "  warnings.warn(\"Unit cell dimensions not found. \"\n",
      "/home/lccdp/Softs/miniconda3/envs/ud2pub/lib/python3.10/site-packages/MDAnalysis/coordinates/PDB.py:1154: UserWarning: Found no information for attr: 'formalcharges' Using default value of '0'\n",
      "  warnings.warn(\"Found no information for attr: '{}'\"\n",
      "/home/lccdp/Softs/miniconda3/envs/ud2pub/lib/python3.10/site-packages/MDAnalysis/coordinates/PDB.py:453: UserWarning: 1 A^3 CRYST1 record, this is usually a placeholder. Unit cell dimensions will be set to None.\n",
      "  warnings.warn(\"1 A^3 CRYST1 record,\"\n"
     ]
    },
    {
     "name": "stdout",
     "output_type": "stream",
     "text": [
      "[2025-08-28 16:30:17.263] [info] ----------------------- RUN Only Scoring -----------------------\n",
      "[2025-08-28 16:30:17.263] [info] Receptor loaded: 2393 atoms in box\n",
      "[2025-08-28 16:30:17.264] [info] Ligands loaded. Total count: 1\n",
      "[2025-08-28 16:30:17.329] [info] ----------------------- RUN Screening -----------------------\n",
      "[2025-08-28 16:30:17.329] [info] DockParam: seed=12345, search_score=0, opt_score=0, \n",
      "box: x_lo=0 Angstrom, x_hi=30 Angstrom, y_lo=-16 Angstrom, y_hi=14 Angstrom, z_lo=-16 Angstrom, z_hi=14 Angstrom, \n",
      "constraint_docking=false, exhaustiveness=1, \n",
      "mc_steps=0, opt_steps=0, refine_steps=0, \n",
      "num_pose=1, rmsd_limit=999 Angstrom, \n",
      "\n",
      "[2025-08-28 16:30:17.329] [info] Group small size: 0\n",
      "[2025-08-28 16:30:17.329] [info] Group medium size: 1\n",
      "[2025-08-28 16:30:17.329] [info] Group large size: 0\n",
      "[2025-08-28 16:30:17.329] [info] Group extra size: 0\n",
      "[2025-08-28 16:30:17.329] [info] Group overflow size: 0\n",
      "[2025-08-28 16:30:17.329] [info] @@@@@@@@@@@@@@ Tackling Group: small @@@@@@@@@@@@@@\n",
      "[2025-08-28 16:30:17.329] [info] @@@@@@@@@@@@@@ Tackling Group: medium @@@@@@@@@@@@@@\n",
      "[2025-08-28 16:30:17.329] [info] Batch 1 size: 1\n",
      "[2025-08-28 16:30:17.329] [info] Perform the Task...\n",
      "[2025-08-28 16:30:17.330] [info] Memory Allocation on GPU...\n",
      "[2025-08-28 16:30:17.334] [info] Memory allocation on GPU is done.\n",
      "[2025-08-28 16:30:17.334] [info] Global Search (MC)...\n",
      "[2025-08-28 16:30:17.334] [warning] [Line Search Steps Count]: 0\n",
      "[2025-08-28 16:30:17.334] [info] Global Search (MC) is done.\n",
      "[2025-08-28 16:30:17.334] [info] Clustering 1 * 1 = 1 poses ...\n",
      "[2025-08-28 16:30:17.334] [info] Clustering is done. 1 poses are left.\n",
      "[2025-08-28 16:30:17.334] [info] Filtering by num_pose & energy_range...\n",
      "[2025-08-28 16:30:17.334] [info] Filtering is done.\n",
      "[2025-08-28 16:30:17.334] [info] Scoring...\n",
      "[2025-08-28 16:30:17.335] [info] -------------------------------------------\n",
      "[2025-08-28 16:30:17.335] [info] Rank      Affinity (kcal/mol) \n",
      "[2025-08-28 16:30:17.335] [info] -------------------------------------------\n",
      "[2025-08-28 16:30:17.335] [info] 1         -5.295224           \n",
      "[2025-08-28 16:30:17.335] [info] -------------------------------------------\n",
      "[2025-08-28 16:30:17.335] [info] Scoring is done.\n",
      "[2025-08-28 16:30:17.335] [info] Dumping the poses to /home/lccdp/Projects/clion/Uni-Dock2/unidock/unidock_engine/examples/align_Bace_Chiral/1_3/tmp/docking_lccdp-S1_862321_20250828_162947_416863_s8gfzwky/unidock2_output/from_python_obj_1.json...\n",
      "[2025-08-28 16:30:17.335] [info] Dumping is done.\n",
      "[2025-08-28 16:30:17.335] [info] Memory free on GPU...\n",
      "[2025-08-28 16:30:17.335] [info] Memory free on GPU is done.\n",
      "[2025-08-28 16:30:17.335] [info] Memory free on CPU...\n",
      "[2025-08-28 16:30:17.335] [info] Memory free on CPU is done.\n",
      "[2025-08-28 16:30:17.335] [info] Task is done.\n",
      "[2025-08-28 16:30:17.335] [info] Batch 1 running time: 5.9 ms\n",
      "[2025-08-28 16:30:17.335] [info] @@@@@@@@@@@@@@ Tackling Group: large @@@@@@@@@@@@@@\n",
      "[2025-08-28 16:30:17.335] [info] @@@@@@@@@@@@@@ Tackling Group: extra @@@@@@@@@@@@@@\n",
      "[2025-08-28 16:30:17.335] [info] @@@@@@@@@@@@@@ Tackling Group: overflow @@@@@@@@@@@@@@\n",
      "[2025-08-28 16:30:17.335] [info] UD2 Total Cost: 71.2 ms\n",
      "[2025-08-28 16:30:17.480] [info] [::] Using config file: /home/lccdp/Projects/clion/Uni-Dock2/unidock/unidock_engine/examples/align_Bace_Chiral/1_3/ud2.yaml\n",
      "\n",
      "    ██╗ccc██╗██████╗c██████╗c\n",
      "    ██║ccc██║██╔══██╗╚════██╗\n",
      "    ██║ccc██║██║cc██║c█████╔╝\n",
      "    ██║ccc██║██║cc██║██╔═══╝c\n",
      "    ╚██████╔╝██████╔╝███████╗\n",
      "    c╚═════╝c╚═════╝c╚══════╝\n",
      "    \n",
      "UD2 C++ Engine Version: 0.4.3\n",
      "[2025-08-28 16:30:17.480] [info] [::] ==================== UD2 Starts! ======================\n",
      "\n",
      "[2025-08-28 16:30:17.480] [info] [::] Use heuristic method to decide opt_steps\n",
      "[2025-08-28 16:30:17.480] [warning] [::] Config item Advanced.tor_lib doesn't exist, using default value\n",
      "[2025-08-28 16:30:17.482] [info] [::] Json is successfully parsed\n",
      "[2025-08-28 16:30:17.482] [info] [::] Receptor has 2393 atoms in box\n",
      "[2025-08-28 16:30:17.482] [info] [::] Flexible molecules count: 1\n",
      "[2025-08-28 16:30:17.529] [info] [::] Set GPU device id to 0\n",
      "[2025-08-28 16:30:17.529] [info] [::] Available Memory = 7636 MB   Total Memory = 7973 MB\n",
      "[2025-08-28 16:30:17.529] [info] [::] ----------------------- RUN Screening -----------------------\n",
      "[2025-08-28 16:30:17.529] [info] [::] DockParam: seed=9996, search_score=0, opt_score=0, \n",
      "box: x_lo=0 Angstrom, x_hi=30 Angstrom, y_lo=-16 Angstrom, y_hi=14 Angstrom, z_lo=-16 Angstrom, z_hi=14 Angstrom, \n",
      "constraint_docking=false, exhaustiveness=512, \n",
      "mc_steps=40, opt_steps=-1, refine_steps=5, \n",
      "num_pose=5, rmsd_limit=1 Angstrom, \n",
      "bias_type=2, bias_k=0.3\n",
      "\n",
      "[2025-08-28 16:30:17.529] [info] [::] Group small size: 0\n",
      "[2025-08-28 16:30:17.529] [info] [::] Group medium size: 1\n",
      "[2025-08-28 16:30:17.529] [info] [::] Group large size: 0\n",
      "[2025-08-28 16:30:17.529] [info] [::] Group extra size: 0\n",
      "[2025-08-28 16:30:17.529] [info] [::] Group overflow size: 0\n",
      "[2025-08-28 16:30:17.529] [info] [::] @@@@@@@@@@@@@@ Tackling Group: small @@@@@@@@@@@@@@\n",
      "[2025-08-28 16:30:17.529] [info] [::] @@@@@@@@@@@@@@ Tackling Group: medium @@@@@@@@@@@@@@\n",
      "[2025-08-28 16:30:17.529] [info] [::] Batch 1 size: 1\n",
      "[2025-08-28 16:30:17.529] [info] [::] Perform the Task...\n",
      "[2025-08-28 16:30:17.529] [info] [::] Memory Allocation on GPU...\n",
      "[2025-08-28 16:30:17.538] [info] [::] Memory allocation on GPU is done.\n",
      "[2025-08-28 16:30:17.538] [info] [::] Global Search (MC)...\n",
      "[2025-08-28 16:30:17.538] [info] [::] Randomization...\n",
      "[2025-08-28 16:30:25.953] [warning] [::] [Line Search Steps Count]: 90304000\n",
      "[2025-08-28 16:30:25.953] [info] [::] Global Search (MC) is done.\n",
      "[2025-08-28 16:30:25.953] [info] [::] Clustering 1 * 512 = 512 poses ...\n",
      "[2025-08-28 16:30:25.953] [info] [::] Clustering is done. 15 poses are left.\n",
      "[2025-08-28 16:30:25.953] [info] [::] Run Refinement (BFGS) for 5 steps...\n",
      "[2025-08-28 16:30:25.993] [warning] [::] [Refinement Line Search Steps Count]: 90313024\n",
      "[2025-08-28 16:30:25.993] [info] [::] Refinement (BFGS) is done.\n",
      "[2025-08-28 16:30:25.993] [info] [::] Filtering by num_pose & energy_range...\n",
      "[2025-08-28 16:30:25.994] [info] [::] Filtering is done.\n",
      "[2025-08-28 16:30:25.994] [info] [::] Scoring...\n",
      "[2025-08-28 16:30:25.994] [info] [::] -------------------------------------------\n",
      "[2025-08-28 16:30:25.994] [info] [::] Rank      Affinity (kcal/mol) Bias (kcal/mol)     RBias (kcal/mol)    \n",
      "[2025-08-28 16:30:25.994] [info] [::] -------------------------------------------\n",
      "[2025-08-28 16:30:25.994] [info] [::] 1         -6.867557           19039.654           0                   \n",
      "[2025-08-28 16:30:25.994] [info] [::] 2         -3.6722424          19075.883           36.228516           \n",
      "[2025-08-28 16:30:25.994] [info] [::] 3         -4.780366           19090.977           51.322266           \n",
      "[2025-08-28 16:30:25.995] [info] [::] 4         -1.2649184          19123.23            83.57617            \n",
      "[2025-08-28 16:30:25.995] [info] [::] 5         -4.4408937          19138.883           99.228516           \n",
      "[2025-08-28 16:30:25.995] [info] [::] -------------------------------------------\n",
      "[2025-08-28 16:30:25.995] [info] [::] Scoring is done.\n",
      "[2025-08-28 16:30:25.995] [info] [::] Dumping the poses to ./res2/ud2_align_1.json...\n",
      "[2025-08-28 16:30:25.995] [info] [::] Dumping is done.\n",
      "[2025-08-28 16:30:25.995] [info] [::] Memory free on GPU...\n",
      "[2025-08-28 16:30:25.995] [info] [::] Memory free on GPU is done.\n",
      "[2025-08-28 16:30:25.995] [info] [::] Memory free on CPU...\n",
      "[2025-08-28 16:30:25.995] [info] [::] Memory free on CPU is done.\n",
      "[2025-08-28 16:30:25.995] [info] [::] Task is done.\n",
      "[2025-08-28 16:30:25.995] [info] [::] Batch 1 running time: 8466.3 ms\n",
      "[2025-08-28 16:30:25.995] [info] [::] @@@@@@@@@@@@@@ Tackling Group: large @@@@@@@@@@@@@@\n",
      "[2025-08-28 16:30:25.995] [info] [::] @@@@@@@@@@@@@@ Tackling Group: extra @@@@@@@@@@@@@@\n",
      "[2025-08-28 16:30:25.995] [info] [::] @@@@@@@@@@@@@@ Tackling Group: overflow @@@@@@@@@@@@@@\n",
      "[2025-08-28 16:30:25.995] [info] [::] UD2 Total Cost: 8515.6 ms\n",
      "The sdf file ud2_out_bias.sdf has been generated.\n",
      "\n",
      "\n",
      "Align docking time: 69.84051179885864 seconds\n",
      "\n",
      "\n",
      "\n",
      "\n",
      "    ██╗   ██╗██████╗ ██████╗\n",
      "    ██║   ██║██╔══██╗╚════██╗\n",
      "    ██║   ██║██║  ██║ █████╔╝\n",
      "    ██║   ██║██║  ██║██╔═══╝\n",
      "    ╚██████╔╝██████╔╝███████╗\n",
      "     ╚═════╝ ╚═════╝ ╚══════╝\n",
      "\n",
      "    DP Technology Docking Toolkit\n",
      "\n",
      "\n",
      "{'receptor': 'xx.pdb', 'ligand': 'xx.sdf', 'ligand_batch': None, 'center': [12.0, 25.0, 11.0], 'exhaustiveness': 512, 'randomize': True, 'mc_steps': 40, 'opt_steps': -1, 'refine_steps': 5, 'num_pose': 1, 'rmsd_limit': 1.0, 'energy_range': 3.0, 'seed': 12345, 'use_tor_lib': False, 'n_cpu': None, 'gpu_device_id': 0, 'box_size': [30.0, 30.0, 30.0], 'task': 'screen', 'search_mode': 'free', 'template_docking': True, 'reference_sdf_file_name': '1.sdf', 'compute_center': True, 'core_atom_mapping_dict_list': None, 'covalent_ligand': False, 'covalent_residue_atom_info_list': None, 'preserve_receptor_hydrogen': False, 'temp_dir_name': '/tmp', 'output_receptor_dms_file_name': 'receptor_parameterized.dms', 'output_docking_pose_sdf_file_name': 'unidock2_out_mcs.sdf'}\n",
      "Target Center for Current Docking: (15.004455961965736, -1.5131663016673162, -0.8133936301640768)\n"
     ]
    },
    {
     "name": "stderr",
     "output_type": "stream",
     "text": [
      "/home/lccdp/Softs/miniconda3/envs/ud2pub/lib/python3.10/site-packages/MDAnalysis/coordinates/PDB.py:777: UserWarning: Unit cell dimensions not found. CRYST1 record set to unitary values.\n",
      "  warnings.warn(\"Unit cell dimensions not found. \"\n",
      "/home/lccdp/Softs/miniconda3/envs/ud2pub/lib/python3.10/site-packages/MDAnalysis/coordinates/PDB.py:1154: UserWarning: Found no information for attr: 'formalcharges' Using default value of '0'\n",
      "  warnings.warn(\"Found no information for attr: '{}'\"\n",
      "/home/lccdp/Softs/miniconda3/envs/ud2pub/lib/python3.10/site-packages/MDAnalysis/coordinates/PDB.py:453: UserWarning: 1 A^3 CRYST1 record, this is usually a placeholder. Unit cell dimensions will be set to None.\n",
      "  warnings.warn(\"1 A^3 CRYST1 record,\"\n"
     ]
    },
    {
     "name": "stdout",
     "output_type": "stream",
     "text": [
      "[2025-08-28 16:30:56.193] [info] ----------------------- RUN Screening -----------------------\n",
      "[2025-08-28 16:30:56.193] [info] Receptor loaded: 2390 atoms in box\n",
      "[2025-08-28 16:30:56.194] [info] Ligands loaded. Total count: 1\n",
      "[2025-08-28 16:30:56.256] [info] ----------------------- RUN Screening -----------------------\n",
      "[2025-08-28 16:30:56.256] [info] DockParam: seed=12345, search_score=0, opt_score=0, \n",
      "box: x_lo=0.0044555664 Angstrom, x_hi=30.004456 Angstrom, y_lo=-16.513166 Angstrom, y_hi=13.486834 Angstrom, z_lo=-15.813394 Angstrom, z_hi=14.186606 Angstrom, \n",
      "constraint_docking=true, exhaustiveness=512, \n",
      "mc_steps=40, opt_steps=-1, refine_steps=5, \n",
      "num_pose=1, rmsd_limit=1 Angstrom, \n",
      "\n",
      "[2025-08-28 16:30:56.256] [info] Group small size: 0\n",
      "[2025-08-28 16:30:56.256] [info] Group medium size: 1\n",
      "[2025-08-28 16:30:56.256] [info] Group large size: 0\n",
      "[2025-08-28 16:30:56.256] [info] Group extra size: 0\n",
      "[2025-08-28 16:30:56.256] [info] Group overflow size: 0\n",
      "[2025-08-28 16:30:56.256] [info] @@@@@@@@@@@@@@ Tackling Group: small @@@@@@@@@@@@@@\n",
      "[2025-08-28 16:30:56.256] [info] @@@@@@@@@@@@@@ Tackling Group: medium @@@@@@@@@@@@@@\n",
      "[2025-08-28 16:30:56.256] [info] Batch 1 size: 1\n",
      "[2025-08-28 16:30:56.256] [info] Perform the Task...\n",
      "[2025-08-28 16:30:56.256] [info] Memory Allocation on GPU...\n",
      "[2025-08-28 16:30:56.263] [info] Memory allocation on GPU is done.\n",
      "[2025-08-28 16:30:56.263] [info] Global Search (MC)...\n",
      "[2025-08-28 16:30:56.740] [warning] [Line Search Steps Count]: 6553600\n",
      "[2025-08-28 16:30:56.740] [info] Global Search (MC) is done.\n",
      "[2025-08-28 16:30:56.740] [info] Clustering 1 * 512 = 512 poses ...\n",
      "[2025-08-28 16:30:56.740] [info] Clustering is done. 1 poses are left.\n",
      "[2025-08-28 16:30:56.740] [info] Run Refinement (BFGS) for 5 steps...\n",
      "[2025-08-28 16:30:56.750] [warning] [Refinement Line Search Steps Count]: 6553920\n",
      "[2025-08-28 16:30:56.750] [info] Refinement (BFGS) is done.\n",
      "[2025-08-28 16:30:56.750] [info] Filtering by num_pose & energy_range...\n",
      "[2025-08-28 16:30:56.751] [info] Filtering is done.\n",
      "[2025-08-28 16:30:56.751] [info] Scoring...\n",
      "[2025-08-28 16:30:56.751] [info] -------------------------------------------\n",
      "[2025-08-28 16:30:56.751] [info] Rank      Affinity (kcal/mol) \n",
      "[2025-08-28 16:30:56.751] [info] -------------------------------------------\n",
      "[2025-08-28 16:30:56.751] [info] 1         -7.8668284          \n",
      "[2025-08-28 16:30:56.751] [info] -------------------------------------------\n",
      "[2025-08-28 16:30:56.751] [info] Scoring is done.\n",
      "[2025-08-28 16:30:56.751] [info] Dumping the poses to /tmp/docking_lccdp-S1_862670_20250828_163026_480877_uvk2yaxc/unidock2_output/from_python_obj_1.json...\n",
      "[2025-08-28 16:30:56.751] [info] Dumping is done.\n",
      "[2025-08-28 16:30:56.751] [info] Memory free on GPU...\n",
      "[2025-08-28 16:30:56.752] [info] Memory free on GPU is done.\n",
      "[2025-08-28 16:30:56.752] [info] Memory free on CPU...\n",
      "[2025-08-28 16:30:56.752] [info] Memory free on CPU is done.\n",
      "[2025-08-28 16:30:56.752] [info] Task is done.\n",
      "[2025-08-28 16:30:56.752] [info] Batch 1 running time: 496.0 ms\n",
      "[2025-08-28 16:30:56.752] [info] @@@@@@@@@@@@@@ Tackling Group: large @@@@@@@@@@@@@@\n",
      "[2025-08-28 16:30:56.752] [info] @@@@@@@@@@@@@@ Tackling Group: extra @@@@@@@@@@@@@@\n",
      "[2025-08-28 16:30:56.752] [info] @@@@@@@@@@@@@@ Tackling Group: overflow @@@@@@@@@@@@@@\n",
      "[2025-08-28 16:30:56.752] [info] UD2 Total Cost: 558.0 ms\n",
      "\n",
      "\n",
      "    ██╗   ██╗██████╗ ██████╗\n",
      "    ██║   ██║██╔══██╗╚════██╗\n",
      "    ██║   ██║██║  ██║ █████╔╝\n",
      "    ██║   ██║██║  ██║██╔═══╝\n",
      "    ╚██████╔╝██████╔╝███████╗\n",
      "     ╚═════╝ ╚═════╝ ╚══════╝\n",
      "\n",
      "    DP Technology Docking Toolkit\n",
      "\n",
      "\n",
      "{'receptor': 'xx.pdb', 'ligand': 'xx.sdf', 'ligand_batch': None, 'center': [0.0, 0.0, 0.0], 'exhaustiveness': 512, 'randomize': True, 'mc_steps': 0, 'opt_steps': 0, 'refine_steps': 0, 'num_pose': 1, 'rmsd_limit': 1.0, 'energy_range': 3.0, 'seed': 12345, 'use_tor_lib': False, 'n_cpu': None, 'gpu_device_id': 0, 'box_size': [30.0, 30.0, 30.0], 'task': 'score', 'search_mode': 'free', 'template_docking': False, 'reference_sdf_file_name': None, 'compute_center': True, 'core_atom_mapping_dict_list': None, 'covalent_ligand': False, 'covalent_residue_atom_info_list': None, 'preserve_receptor_hydrogen': False, 'temp_dir_name': './tmp', 'output_receptor_dms_file_name': 'receptor_parameterized.dms', 'output_docking_pose_sdf_file_name': 'unidock2_out.sdf'}\n",
      "Target Center for Current Docking: (15.0, -1.0, -1.0)\n"
     ]
    },
    {
     "name": "stderr",
     "output_type": "stream",
     "text": [
      "/home/lccdp/Softs/miniconda3/envs/ud2pub/lib/python3.10/site-packages/MDAnalysis/coordinates/PDB.py:777: UserWarning: Unit cell dimensions not found. CRYST1 record set to unitary values.\n",
      "  warnings.warn(\"Unit cell dimensions not found. \"\n",
      "/home/lccdp/Softs/miniconda3/envs/ud2pub/lib/python3.10/site-packages/MDAnalysis/coordinates/PDB.py:1154: UserWarning: Found no information for attr: 'formalcharges' Using default value of '0'\n",
      "  warnings.warn(\"Found no information for attr: '{}'\"\n",
      "/home/lccdp/Softs/miniconda3/envs/ud2pub/lib/python3.10/site-packages/MDAnalysis/coordinates/PDB.py:453: UserWarning: 1 A^3 CRYST1 record, this is usually a placeholder. Unit cell dimensions will be set to None.\n",
      "  warnings.warn(\"1 A^3 CRYST1 record,\"\n"
     ]
    },
    {
     "name": "stdout",
     "output_type": "stream",
     "text": [
      "[2025-08-28 16:31:26.943] [info] ----------------------- RUN Only Scoring -----------------------\n",
      "[2025-08-28 16:31:26.943] [info] Receptor loaded: 2393 atoms in box\n",
      "[2025-08-28 16:31:26.944] [info] Ligands loaded. Total count: 1\n",
      "[2025-08-28 16:31:27.006] [info] ----------------------- RUN Screening -----------------------\n",
      "[2025-08-28 16:31:27.006] [info] DockParam: seed=12345, search_score=0, opt_score=0, \n",
      "box: x_lo=0 Angstrom, x_hi=30 Angstrom, y_lo=-16 Angstrom, y_hi=14 Angstrom, z_lo=-16 Angstrom, z_hi=14 Angstrom, \n",
      "constraint_docking=false, exhaustiveness=1, \n",
      "mc_steps=0, opt_steps=0, refine_steps=0, \n",
      "num_pose=1, rmsd_limit=999 Angstrom, \n",
      "\n",
      "[2025-08-28 16:31:27.006] [info] Group small size: 0\n",
      "[2025-08-28 16:31:27.006] [info] Group medium size: 1\n",
      "[2025-08-28 16:31:27.006] [info] Group large size: 0\n",
      "[2025-08-28 16:31:27.006] [info] Group extra size: 0\n",
      "[2025-08-28 16:31:27.006] [info] Group overflow size: 0\n",
      "[2025-08-28 16:31:27.006] [info] @@@@@@@@@@@@@@ Tackling Group: small @@@@@@@@@@@@@@\n",
      "[2025-08-28 16:31:27.006] [info] @@@@@@@@@@@@@@ Tackling Group: medium @@@@@@@@@@@@@@\n",
      "[2025-08-28 16:31:27.006] [info] Batch 1 size: 1\n",
      "[2025-08-28 16:31:27.006] [info] Perform the Task...\n",
      "[2025-08-28 16:31:27.006] [info] Memory Allocation on GPU...\n",
      "[2025-08-28 16:31:27.010] [info] Memory allocation on GPU is done.\n",
      "[2025-08-28 16:31:27.010] [info] Global Search (MC)...\n",
      "[2025-08-28 16:31:27.011] [warning] [Line Search Steps Count]: 0\n",
      "[2025-08-28 16:31:27.011] [info] Global Search (MC) is done.\n",
      "[2025-08-28 16:31:27.011] [info] Clustering 1 * 1 = 1 poses ...\n",
      "[2025-08-28 16:31:27.011] [info] Clustering is done. 1 poses are left.\n",
      "[2025-08-28 16:31:27.011] [info] Filtering by num_pose & energy_range...\n",
      "[2025-08-28 16:31:27.011] [info] Filtering is done.\n",
      "[2025-08-28 16:31:27.011] [info] Scoring...\n",
      "[2025-08-28 16:31:27.011] [info] -------------------------------------------\n",
      "[2025-08-28 16:31:27.011] [info] Rank      Affinity (kcal/mol) \n",
      "[2025-08-28 16:31:27.011] [info] -------------------------------------------\n",
      "[2025-08-28 16:31:27.012] [info] 1         -5.5324445          \n",
      "[2025-08-28 16:31:27.012] [info] -------------------------------------------\n",
      "[2025-08-28 16:31:27.012] [info] Scoring is done.\n",
      "[2025-08-28 16:31:27.012] [info] Dumping the poses to /home/lccdp/Projects/clion/Uni-Dock2/unidock/unidock_engine/examples/align_Bace_Chiral/1_4/tmp/docking_lccdp-S1_862879_20250828_163057_233143_wc315ddn/unidock2_output/from_python_obj_1.json...\n",
      "[2025-08-28 16:31:27.012] [info] Dumping is done.\n",
      "[2025-08-28 16:31:27.012] [info] Memory free on GPU...\n",
      "[2025-08-28 16:31:27.012] [info] Memory free on GPU is done.\n",
      "[2025-08-28 16:31:27.012] [info] Memory free on CPU...\n",
      "[2025-08-28 16:31:27.012] [info] Memory free on CPU is done.\n",
      "[2025-08-28 16:31:27.012] [info] Task is done.\n",
      "[2025-08-28 16:31:27.012] [info] Batch 1 running time: 5.9 ms\n",
      "[2025-08-28 16:31:27.012] [info] @@@@@@@@@@@@@@ Tackling Group: large @@@@@@@@@@@@@@\n",
      "[2025-08-28 16:31:27.012] [info] @@@@@@@@@@@@@@ Tackling Group: extra @@@@@@@@@@@@@@\n",
      "[2025-08-28 16:31:27.012] [info] @@@@@@@@@@@@@@ Tackling Group: overflow @@@@@@@@@@@@@@\n",
      "[2025-08-28 16:31:27.012] [info] UD2 Total Cost: 67.8 ms\n",
      "[2025-08-28 16:31:27.164] [info] [::] Using config file: /home/lccdp/Projects/clion/Uni-Dock2/unidock/unidock_engine/examples/align_Bace_Chiral/1_4/ud2.yaml\n",
      "\n",
      "    ██╗ccc██╗██████╗c██████╗c\n",
      "    ██║ccc██║██╔══██╗╚════██╗\n",
      "    ██║ccc██║██║cc██║c█████╔╝\n",
      "    ██║ccc██║██║cc██║██╔═══╝c\n",
      "    ╚██████╔╝██████╔╝███████╗\n",
      "    c╚═════╝c╚═════╝c╚══════╝\n",
      "    \n",
      "UD2 C++ Engine Version: 0.4.3\n",
      "[2025-08-28 16:31:27.164] [info] [::] ==================== UD2 Starts! ======================\n",
      "\n",
      "[2025-08-28 16:31:27.164] [info] [::] Use heuristic method to decide opt_steps\n",
      "[2025-08-28 16:31:27.165] [warning] [::] Config item Advanced.tor_lib doesn't exist, using default value\n",
      "[2025-08-28 16:31:27.167] [info] [::] Json is successfully parsed\n",
      "[2025-08-28 16:31:27.168] [info] [::] Receptor has 2393 atoms in box\n",
      "[2025-08-28 16:31:27.168] [info] [::] Flexible molecules count: 1\n",
      "[2025-08-28 16:31:27.220] [info] [::] Set GPU device id to 0\n",
      "[2025-08-28 16:31:27.220] [info] [::] Available Memory = 7636 MB   Total Memory = 7973 MB\n",
      "[2025-08-28 16:31:27.220] [info] [::] ----------------------- RUN Screening -----------------------\n",
      "[2025-08-28 16:31:27.220] [info] [::] DockParam: seed=9996, search_score=0, opt_score=0, \n",
      "box: x_lo=0 Angstrom, x_hi=30 Angstrom, y_lo=-16 Angstrom, y_hi=14 Angstrom, z_lo=-16 Angstrom, z_hi=14 Angstrom, \n",
      "constraint_docking=false, exhaustiveness=512, \n",
      "mc_steps=40, opt_steps=-1, refine_steps=5, \n",
      "num_pose=5, rmsd_limit=1 Angstrom, \n",
      "bias_type=2, bias_k=0.3\n",
      "\n",
      "[2025-08-28 16:31:27.220] [info] [::] Group small size: 0\n",
      "[2025-08-28 16:31:27.220] [info] [::] Group medium size: 1\n",
      "[2025-08-28 16:31:27.220] [info] [::] Group large size: 0\n",
      "[2025-08-28 16:31:27.220] [info] [::] Group extra size: 0\n",
      "[2025-08-28 16:31:27.220] [info] [::] Group overflow size: 0\n",
      "[2025-08-28 16:31:27.220] [info] [::] @@@@@@@@@@@@@@ Tackling Group: small @@@@@@@@@@@@@@\n",
      "[2025-08-28 16:31:27.220] [info] [::] @@@@@@@@@@@@@@ Tackling Group: medium @@@@@@@@@@@@@@\n",
      "[2025-08-28 16:31:27.220] [info] [::] Batch 1 size: 1\n",
      "[2025-08-28 16:31:27.220] [info] [::] Perform the Task...\n",
      "[2025-08-28 16:31:27.220] [info] [::] Memory Allocation on GPU...\n",
      "[2025-08-28 16:31:27.229] [info] [::] Memory allocation on GPU is done.\n",
      "[2025-08-28 16:31:27.229] [info] [::] Global Search (MC)...\n",
      "[2025-08-28 16:31:27.229] [info] [::] Randomization...\n",
      "[2025-08-28 16:31:35.227] [warning] [::] [Line Search Steps Count]: 91108864\n",
      "[2025-08-28 16:31:35.227] [info] [::] Global Search (MC) is done.\n",
      "[2025-08-28 16:31:35.227] [info] [::] Clustering 1 * 512 = 512 poses ...\n",
      "[2025-08-28 16:31:35.227] [info] [::] Clustering is done. 14 poses are left.\n",
      "[2025-08-28 16:31:35.227] [info] [::] Run Refinement (BFGS) for 5 steps...\n",
      "[2025-08-28 16:31:35.279] [warning] [::] [Refinement Line Search Steps Count]: 91117792\n",
      "[2025-08-28 16:31:35.279] [info] [::] Refinement (BFGS) is done.\n",
      "[2025-08-28 16:31:35.279] [info] [::] Filtering by num_pose & energy_range...\n",
      "[2025-08-28 16:31:35.279] [info] [::] Filtering is done.\n",
      "[2025-08-28 16:31:35.279] [info] [::] Scoring...\n",
      "[2025-08-28 16:31:35.279] [info] [::] -------------------------------------------\n",
      "[2025-08-28 16:31:35.279] [info] [::] Rank      Affinity (kcal/mol) Bias (kcal/mol)     RBias (kcal/mol)    \n",
      "[2025-08-28 16:31:35.279] [info] [::] -------------------------------------------\n",
      "[2025-08-28 16:31:35.279] [info] [::] 1         -7.0400968          19532.846           0                   \n",
      "[2025-08-28 16:31:35.280] [info] [::] 2         -3.8393233          19569.12            36.273438           \n",
      "[2025-08-28 16:31:35.280] [info] [::] 3         -3.442582           19598.62            65.77344            \n",
      "[2025-08-28 16:31:35.280] [info] [::] 4         0.2210308           19631.025           98.17969            \n",
      "[2025-08-28 16:31:35.280] [info] [::] 5         -2.7559433          19647.064           114.21875           \n",
      "[2025-08-28 16:31:35.280] [info] [::] -------------------------------------------\n",
      "[2025-08-28 16:31:35.280] [info] [::] Scoring is done.\n",
      "[2025-08-28 16:31:35.280] [info] [::] Dumping the poses to ./res2/ud2_align_1.json...\n",
      "[2025-08-28 16:31:35.280] [info] [::] Dumping is done.\n",
      "[2025-08-28 16:31:35.280] [info] [::] Memory free on GPU...\n",
      "[2025-08-28 16:31:35.280] [info] [::] Memory free on GPU is done.\n",
      "[2025-08-28 16:31:35.280] [info] [::] Memory free on CPU...\n",
      "[2025-08-28 16:31:35.281] [info] [::] Memory free on CPU is done.\n",
      "[2025-08-28 16:31:35.281] [info] [::] Task is done.\n",
      "[2025-08-28 16:31:35.281] [info] [::] Batch 1 running time: 8060.5 ms\n",
      "[2025-08-28 16:31:35.281] [info] [::] @@@@@@@@@@@@@@ Tackling Group: large @@@@@@@@@@@@@@\n",
      "[2025-08-28 16:31:35.281] [info] [::] @@@@@@@@@@@@@@ Tackling Group: extra @@@@@@@@@@@@@@\n",
      "[2025-08-28 16:31:35.281] [info] [::] @@@@@@@@@@@@@@ Tackling Group: overflow @@@@@@@@@@@@@@\n",
      "[2025-08-28 16:31:35.281] [info] [::] UD2 Total Cost: 8116.4 ms\n",
      "The sdf file ud2_out_bias.sdf has been generated.\n",
      "\n",
      "\n",
      "Align docking time: 69.28609871864319 seconds\n",
      "\n",
      "\n"
     ]
    }
   ],
   "source": [
    "dp_Bace = \"/home/lccdp/Projects/clion/Uni-Dock2/unidock/unidock_engine/examples/align_Bace_Chiral\"\n",
    "fn_pdb = \"Bace.pdb\"\n",
    "fn_sdf_q = \"0.sdf\"\n",
    "fn_sdf_t = \"1.sdf\"\n",
    "center = [15, -1, -1]\n",
    "\n",
    "for i in [0, 2, 3, 4]:\n",
    "    fn_sdf_q = f\"{i}.sdf\"\n",
    "    dp = os.path.join(dp_Bace, f\"1_{i}\")\n",
    "    mol_q, mol_t, matrix = perform_align_docking(dp, fn_pdb, fn_sdf_q, fn_sdf_t, center, 512, 0.3)"
   ]
  },
  {
   "cell_type": "markdown",
   "id": "9affceeb",
   "metadata": {},
   "source": [
    "### Cyclic Peptide"
   ]
  },
  {
   "cell_type": "code",
   "execution_count": 14,
   "id": "6c37fc52",
   "metadata": {},
   "outputs": [
    {
     "name": "stdout",
     "output_type": "stream",
     "text": [
      "\n",
      "\n",
      "    ██╗   ██╗██████╗ ██████╗\n",
      "    ██║   ██║██╔══██╗╚════██╗\n",
      "    ██║   ██║██║  ██║ █████╔╝\n",
      "    ██║   ██║██║  ██║██╔═══╝\n",
      "    ╚██████╔╝██████╔╝███████╗\n",
      "     ╚═════╝ ╚═════╝ ╚══════╝\n",
      "\n",
      "    DP Technology Docking Toolkit\n",
      "\n",
      "\n",
      "{'receptor': 'xx.pdb', 'ligand': 'xx.sdf', 'ligand_batch': None, 'center': [12.0, 25.0, 11.0], 'exhaustiveness': 512, 'randomize': True, 'mc_steps': 40, 'opt_steps': -1, 'refine_steps': 5, 'num_pose': 1, 'rmsd_limit': 1.0, 'energy_range': 3.0, 'seed': 12345, 'use_tor_lib': False, 'n_cpu': None, 'gpu_device_id': 0, 'box_size': [30.0, 30.0, 30.0], 'task': 'screen', 'search_mode': 'free', 'template_docking': True, 'reference_sdf_file_name': '56_35_2.sdf', 'compute_center': True, 'core_atom_mapping_dict_list': None, 'covalent_ligand': False, 'covalent_residue_atom_info_list': None, 'preserve_receptor_hydrogen': False, 'temp_dir_name': '/tmp', 'output_receptor_dms_file_name': 'receptor_parameterized.dms', 'output_docking_pose_sdf_file_name': 'unidock2_out_mcs.sdf'}\n",
      "Target Center for Current Docking: (19.799500909776018, -1.1108308831010394, 84.68011853385171)\n"
     ]
    },
    {
     "name": "stderr",
     "output_type": "stream",
     "text": [
      "/home/lccdp/Softs/miniconda3/envs/ud2pub/lib/python3.10/site-packages/MDAnalysis/coordinates/PDB.py:1154: UserWarning: Found no information for attr: 'formalcharges' Using default value of '0'\n",
      "  warnings.warn(\"Found no information for attr: '{}'\"\n"
     ]
    },
    {
     "name": "stdout",
     "output_type": "stream",
     "text": [
      "[2025-08-28 17:48:00.622] [info] ----------------------- RUN Screening -----------------------\n",
      "[2025-08-28 17:48:00.623] [info] Receptor loaded: 1191 atoms in box\n",
      "[2025-08-28 17:48:00.624] [info] Ligands loaded. Total count: 1\n",
      "[2025-08-28 17:48:00.683] [info] ----------------------- RUN Screening -----------------------\n",
      "[2025-08-28 17:48:00.683] [info] DockParam: seed=12345, search_score=0, opt_score=0, \n",
      "box: x_lo=4.7995014 Angstrom, x_hi=34.7995 Angstrom, y_lo=-16.11083 Angstrom, y_hi=13.889169 Angstrom, z_lo=69.680115 Angstrom, z_hi=99.680115 Angstrom, \n",
      "constraint_docking=true, exhaustiveness=512, \n",
      "mc_steps=40, opt_steps=-1, refine_steps=5, \n",
      "num_pose=1, rmsd_limit=1 Angstrom, \n",
      "\n",
      "[2025-08-28 17:48:00.683] [info] Group small size: 0\n",
      "[2025-08-28 17:48:00.683] [info] Group medium size: 0\n",
      "[2025-08-28 17:48:00.683] [info] Group large size: 0\n",
      "[2025-08-28 17:48:00.683] [info] Group extra size: 0\n",
      "[2025-08-28 17:48:00.683] [info] Group overflow size: 1\n",
      "[2025-08-28 17:48:00.683] [info] @@@@@@@@@@@@@@ Tackling Group: small @@@@@@@@@@@@@@\n",
      "[2025-08-28 17:48:00.683] [info] @@@@@@@@@@@@@@ Tackling Group: medium @@@@@@@@@@@@@@\n",
      "[2025-08-28 17:48:00.683] [info] @@@@@@@@@@@@@@ Tackling Group: large @@@@@@@@@@@@@@\n",
      "[2025-08-28 17:48:00.683] [info] @@@@@@@@@@@@@@ Tackling Group: extra @@@@@@@@@@@@@@\n",
      "[2025-08-28 17:48:00.683] [info] @@@@@@@@@@@@@@ Tackling Group: overflow @@@@@@@@@@@@@@\n",
      "[2025-08-28 17:48:00.683] [info] Batch 1 size: 1\n",
      "[2025-08-28 17:48:00.683] [info] Perform the Task...\n",
      "[2025-08-28 17:48:00.683] [info] Memory Allocation on GPU...\n",
      "[2025-08-28 17:48:00.690] [info] Memory allocation on GPU is done.\n",
      "[2025-08-28 17:48:00.690] [info] Global Search (MC)...\n",
      "[2025-08-28 17:48:01.492] [warning] [Line Search Steps Count]: 6553600\n",
      "[2025-08-28 17:48:01.493] [info] Global Search (MC) is done.\n",
      "[2025-08-28 17:48:01.493] [info] Clustering 1 * 512 = 512 poses ...\n",
      "[2025-08-28 17:48:01.493] [info] Clustering is done. 1 poses are left.\n",
      "[2025-08-28 17:48:01.493] [info] Run Refinement (BFGS) for 5 steps...\n",
      "[2025-08-28 17:48:01.508] [warning] [Refinement Line Search Steps Count]: 6553920\n",
      "[2025-08-28 17:48:01.508] [info] Refinement (BFGS) is done.\n",
      "[2025-08-28 17:48:01.508] [info] Filtering by num_pose & energy_range...\n",
      "[2025-08-28 17:48:01.509] [info] Filtering is done.\n",
      "[2025-08-28 17:48:01.509] [info] Scoring...\n",
      "[2025-08-28 17:48:01.509] [info] -------------------------------------------\n",
      "[2025-08-28 17:48:01.509] [info] Rank      Affinity (kcal/mol) \n",
      "[2025-08-28 17:48:01.509] [info] -------------------------------------------\n",
      "[2025-08-28 17:48:01.509] [info] 1         -13.412799          \n",
      "[2025-08-28 17:48:01.509] [info] -------------------------------------------\n",
      "[2025-08-28 17:48:01.509] [info] Scoring is done.\n",
      "[2025-08-28 17:48:01.509] [info] Dumping the poses to /tmp/docking_lccdp-S1_883669_20250828_174603_516687_8_s09wxv/unidock2_output/from_python_obj_1.json...\n",
      "[2025-08-28 17:48:01.509] [info] Dumping is done.\n",
      "[2025-08-28 17:48:01.509] [info] Memory free on GPU...\n",
      "[2025-08-28 17:48:01.510] [info] Memory free on GPU is done.\n",
      "[2025-08-28 17:48:01.510] [info] Memory free on CPU...\n",
      "[2025-08-28 17:48:01.510] [info] Memory free on CPU is done.\n",
      "[2025-08-28 17:48:01.510] [info] Task is done.\n",
      "[2025-08-28 17:48:01.510] [info] Batch 1 running time: 827.2 ms\n",
      "[2025-08-28 17:48:01.510] [info] UD2 Total Cost: 885.8 ms\n",
      "\n",
      "\n",
      "    ██╗   ██╗██████╗ ██████╗\n",
      "    ██║   ██║██╔══██╗╚════██╗\n",
      "    ██║   ██║██║  ██║ █████╔╝\n",
      "    ██║   ██║██║  ██║██╔═══╝\n",
      "    ╚██████╔╝██████╔╝███████╗\n",
      "     ╚═════╝ ╚═════╝ ╚══════╝\n",
      "\n",
      "    DP Technology Docking Toolkit\n",
      "\n",
      "\n",
      "{'receptor': 'xx.pdb', 'ligand': 'xx.sdf', 'ligand_batch': None, 'center': [0.0, 0.0, 0.0], 'exhaustiveness': 512, 'randomize': True, 'mc_steps': 0, 'opt_steps': 0, 'refine_steps': 0, 'num_pose': 1, 'rmsd_limit': 1.0, 'energy_range': 3.0, 'seed': 12345, 'use_tor_lib': False, 'n_cpu': None, 'gpu_device_id': 0, 'box_size': [30.0, 30.0, 30.0], 'task': 'score', 'search_mode': 'free', 'template_docking': False, 'reference_sdf_file_name': None, 'compute_center': True, 'core_atom_mapping_dict_list': None, 'covalent_ligand': False, 'covalent_residue_atom_info_list': None, 'preserve_receptor_hydrogen': False, 'temp_dir_name': './tmp', 'output_receptor_dms_file_name': 'receptor_parameterized.dms', 'output_docking_pose_sdf_file_name': 'unidock2_out.sdf'}\n",
      "Target Center for Current Docking: (20.0, -1.0, 85.0)\n"
     ]
    },
    {
     "name": "stderr",
     "output_type": "stream",
     "text": [
      "/home/lccdp/Softs/miniconda3/envs/ud2pub/lib/python3.10/site-packages/MDAnalysis/coordinates/PDB.py:1154: UserWarning: Found no information for attr: 'formalcharges' Using default value of '0'\n",
      "  warnings.warn(\"Found no information for attr: '{}'\"\n"
     ]
    },
    {
     "name": "stdout",
     "output_type": "stream",
     "text": [
      "[2025-08-28 17:48:15.068] [info] ----------------------- RUN Only Scoring -----------------------\n",
      "[2025-08-28 17:48:15.068] [info] Receptor loaded: 1172 atoms in box\n",
      "[2025-08-28 17:48:15.070] [info] Ligands loaded. Total count: 1\n",
      "[2025-08-28 17:48:15.133] [info] ----------------------- RUN Screening -----------------------\n",
      "[2025-08-28 17:48:15.133] [info] DockParam: seed=12345, search_score=0, opt_score=0, \n",
      "box: x_lo=5 Angstrom, x_hi=35 Angstrom, y_lo=-16 Angstrom, y_hi=14 Angstrom, z_lo=70 Angstrom, z_hi=100 Angstrom, \n",
      "constraint_docking=false, exhaustiveness=1, \n",
      "mc_steps=0, opt_steps=0, refine_steps=0, \n",
      "num_pose=1, rmsd_limit=999 Angstrom, \n",
      "\n",
      "[2025-08-28 17:48:15.133] [info] Group small size: 0\n",
      "[2025-08-28 17:48:15.133] [info] Group medium size: 0\n",
      "[2025-08-28 17:48:15.133] [info] Group large size: 0\n",
      "[2025-08-28 17:48:15.133] [info] Group extra size: 0\n",
      "[2025-08-28 17:48:15.133] [info] Group overflow size: 1\n",
      "[2025-08-28 17:48:15.133] [info] @@@@@@@@@@@@@@ Tackling Group: small @@@@@@@@@@@@@@\n",
      "[2025-08-28 17:48:15.133] [info] @@@@@@@@@@@@@@ Tackling Group: medium @@@@@@@@@@@@@@\n",
      "[2025-08-28 17:48:15.133] [info] @@@@@@@@@@@@@@ Tackling Group: large @@@@@@@@@@@@@@\n",
      "[2025-08-28 17:48:15.133] [info] @@@@@@@@@@@@@@ Tackling Group: extra @@@@@@@@@@@@@@\n",
      "[2025-08-28 17:48:15.133] [info] @@@@@@@@@@@@@@ Tackling Group: overflow @@@@@@@@@@@@@@\n",
      "[2025-08-28 17:48:15.134] [info] Batch 1 size: 1\n",
      "[2025-08-28 17:48:15.134] [info] Perform the Task...\n",
      "[2025-08-28 17:48:15.134] [info] Memory Allocation on GPU...\n",
      "[2025-08-28 17:48:15.138] [info] Memory allocation on GPU is done.\n",
      "[2025-08-28 17:48:15.138] [info] Global Search (MC)...\n",
      "[2025-08-28 17:48:15.139] [warning] [Line Search Steps Count]: 0\n",
      "[2025-08-28 17:48:15.139] [info] Global Search (MC) is done.\n",
      "[2025-08-28 17:48:15.139] [info] Clustering 1 * 1 = 1 poses ...\n",
      "[2025-08-28 17:48:15.139] [info] Clustering is done. 1 poses are left.\n",
      "[2025-08-28 17:48:15.139] [info] Filtering by num_pose & energy_range...\n",
      "[2025-08-28 17:48:15.139] [info] Filtering is done.\n",
      "[2025-08-28 17:48:15.139] [info] Scoring...\n",
      "[2025-08-28 17:48:15.139] [info] -------------------------------------------\n",
      "[2025-08-28 17:48:15.139] [info] Rank      Affinity (kcal/mol) \n",
      "[2025-08-28 17:48:15.139] [info] -------------------------------------------\n",
      "[2025-08-28 17:48:15.140] [info] 1         -1.1139549          \n",
      "[2025-08-28 17:48:15.140] [info] -------------------------------------------\n",
      "[2025-08-28 17:48:15.140] [info] Scoring is done.\n",
      "[2025-08-28 17:48:15.140] [info] Dumping the poses to /home/lccdp/Projects/clion/Uni-Dock2/unidock/unidock_engine/examples/align_cyclic_peptide/tmp/docking_lccdp-S1_884292_20250828_174801_993149_7pmyvn_y/unidock2_output/from_python_obj_1.json...\n",
      "[2025-08-28 17:48:15.140] [info] Dumping is done.\n",
      "[2025-08-28 17:48:15.140] [info] Memory free on GPU...\n",
      "[2025-08-28 17:48:15.140] [info] Memory free on GPU is done.\n",
      "[2025-08-28 17:48:15.140] [info] Memory free on CPU...\n",
      "[2025-08-28 17:48:15.140] [info] Memory free on CPU is done.\n",
      "[2025-08-28 17:48:15.140] [info] Task is done.\n",
      "[2025-08-28 17:48:15.140] [info] Batch 1 running time: 6.5 ms\n",
      "[2025-08-28 17:48:15.140] [info] UD2 Total Cost: 70.3 ms\n",
      "[2025-08-28 17:48:15.392] [info] [::] Using config file: /home/lccdp/Projects/clion/Uni-Dock2/unidock/unidock_engine/examples/align_cyclic_peptide/ud2.yaml\n",
      "\n",
      "    ██╗ccc██╗██████╗c██████╗c\n",
      "    ██║ccc██║██╔══██╗╚════██╗\n",
      "    ██║ccc██║██║cc██║c█████╔╝\n",
      "    ██║ccc██║██║cc██║██╔═══╝c\n",
      "    ╚██████╔╝██████╔╝███████╗\n",
      "    c╚═════╝c╚═════╝c╚══════╝\n",
      "    \n",
      "UD2 C++ Engine Version: 0.4.3\n",
      "[2025-08-28 17:48:15.392] [info] [::] ==================== UD2 Starts! ======================\n",
      "\n",
      "[2025-08-28 17:48:15.392] [info] [::] Use heuristic method to decide opt_steps\n",
      "[2025-08-28 17:48:15.392] [warning] [::] Config item Advanced.tor_lib doesn't exist, using default value\n",
      "[2025-08-28 17:48:15.398] [info] [::] Json is successfully parsed\n",
      "[2025-08-28 17:48:15.400] [info] [::] Receptor has 1172 atoms in box\n",
      "[2025-08-28 17:48:15.400] [info] [::] Flexible molecules count: 1\n",
      "[2025-08-28 17:48:15.445] [info] [::] Set GPU device id to 0\n",
      "[2025-08-28 17:48:15.445] [info] [::] Available Memory = 7636 MB   Total Memory = 7973 MB\n",
      "[2025-08-28 17:48:15.445] [info] [::] ----------------------- RUN Screening -----------------------\n",
      "[2025-08-28 17:48:15.445] [info] [::] DockParam: seed=9996, search_score=0, opt_score=0, \n",
      "box: x_lo=5 Angstrom, x_hi=35 Angstrom, y_lo=-16 Angstrom, y_hi=14 Angstrom, z_lo=70 Angstrom, z_hi=100 Angstrom, \n",
      "constraint_docking=false, exhaustiveness=512, \n",
      "mc_steps=40, opt_steps=-1, refine_steps=5, \n",
      "num_pose=5, rmsd_limit=1 Angstrom, \n",
      "bias_type=2, bias_k=0.3\n",
      "\n",
      "[2025-08-28 17:48:15.445] [info] [::] Group small size: 0\n",
      "[2025-08-28 17:48:15.445] [info] [::] Group medium size: 0\n",
      "[2025-08-28 17:48:15.445] [info] [::] Group large size: 0\n",
      "[2025-08-28 17:48:15.445] [info] [::] Group extra size: 0\n",
      "[2025-08-28 17:48:15.445] [info] [::] Group overflow size: 1\n",
      "[2025-08-28 17:48:15.445] [info] [::] @@@@@@@@@@@@@@ Tackling Group: small @@@@@@@@@@@@@@\n",
      "[2025-08-28 17:48:15.445] [info] [::] @@@@@@@@@@@@@@ Tackling Group: medium @@@@@@@@@@@@@@\n",
      "[2025-08-28 17:48:15.445] [info] [::] @@@@@@@@@@@@@@ Tackling Group: large @@@@@@@@@@@@@@\n",
      "[2025-08-28 17:48:15.445] [info] [::] @@@@@@@@@@@@@@ Tackling Group: extra @@@@@@@@@@@@@@\n",
      "[2025-08-28 17:48:15.445] [info] [::] @@@@@@@@@@@@@@ Tackling Group: overflow @@@@@@@@@@@@@@\n",
      "[2025-08-28 17:48:15.446] [info] [::] Batch 1 size: 1\n",
      "[2025-08-28 17:48:15.446] [info] [::] Perform the Task...\n",
      "[2025-08-28 17:48:15.447] [info] [::] Memory Allocation on GPU...\n",
      "[2025-08-28 17:48:15.458] [info] [::] Memory allocation on GPU is done.\n",
      "[2025-08-28 17:48:15.458] [info] [::] Global Search (MC)...\n",
      "[2025-08-28 17:48:15.458] [info] [::] Randomization...\n",
      "[2025-08-28 17:48:49.028] [warning] [::] [Line Search Steps Count]: 219941632\n",
      "[2025-08-28 17:48:49.028] [info] [::] Global Search (MC) is done.\n",
      "[2025-08-28 17:48:49.028] [info] [::] Clustering 1 * 512 = 512 poses ...\n",
      "[2025-08-28 17:48:49.028] [info] [::] Clustering is done. 28 poses are left.\n",
      "[2025-08-28 17:48:49.028] [info] [::] Run Refinement (BFGS) for 5 steps...\n",
      "[2025-08-28 17:48:49.094] [warning] [::] [Refinement Line Search Steps Count]: 219957952\n",
      "[2025-08-28 17:48:49.094] [info] [::] Refinement (BFGS) is done.\n",
      "[2025-08-28 17:48:49.094] [info] [::] Filtering by num_pose & energy_range...\n",
      "[2025-08-28 17:48:49.095] [info] [::] Filtering is done.\n",
      "[2025-08-28 17:48:49.095] [info] [::] Scoring...\n",
      "[2025-08-28 17:48:49.095] [info] [::] -------------------------------------------\n",
      "[2025-08-28 17:48:49.095] [info] [::] Rank      Affinity (kcal/mol) Bias (kcal/mol)     RBias (kcal/mol)    \n",
      "[2025-08-28 17:48:49.095] [info] [::] -------------------------------------------\n",
      "[2025-08-28 17:48:49.096] [info] [::] 1         -10.518377          186704.78           0                   \n",
      "[2025-08-28 17:48:49.096] [info] [::] 2         -8.6829405          186990.17           285.39062           \n",
      "[2025-08-28 17:48:49.097] [info] [::] 3         10.123791           187129.61           424.82812           \n",
      "[2025-08-28 17:48:49.097] [info] [::] 4         94.48414            187127.55           422.76562           \n",
      "[2025-08-28 17:48:49.098] [info] [::] 5         21.410473           188299.05           1594.2656           \n",
      "[2025-08-28 17:48:49.098] [info] [::] -------------------------------------------\n",
      "[2025-08-28 17:48:49.098] [info] [::] Scoring is done.\n",
      "[2025-08-28 17:48:49.098] [info] [::] Dumping the poses to ./res2/ud2_align_1.json...\n",
      "[2025-08-28 17:48:49.098] [info] [::] Dumping is done.\n",
      "[2025-08-28 17:48:49.098] [info] [::] Memory free on GPU...\n",
      "[2025-08-28 17:48:49.098] [info] [::] Memory free on GPU is done.\n",
      "[2025-08-28 17:48:49.098] [info] [::] Memory free on CPU...\n",
      "[2025-08-28 17:48:49.098] [info] [::] Memory free on CPU is done.\n",
      "[2025-08-28 17:48:49.098] [info] [::] Task is done.\n",
      "[2025-08-28 17:48:49.098] [info] [::] Batch 1 running time: 33652.6 ms\n",
      "[2025-08-28 17:48:49.098] [info] [::] UD2 Total Cost: 33706.8 ms\n",
      "The sdf file ud2_out_bias.sdf has been generated.\n",
      "\n",
      "\n",
      "Align docking time: 166.11516904830933 seconds\n",
      "\n",
      "\n"
     ]
    }
   ],
   "source": [
    "dp = \"/home/lccdp/Projects/clion/Uni-Dock2/unidock/unidock_engine/examples/align_cyclic_peptide\"\n",
    "fn_pdb = \"protein.pdb\"\n",
    "fn_sdf_q = \"78_1_5_rand.sdf\"\n",
    "fn_sdf_t = \"56_35_2.sdf\"\n",
    "center = [20, -1, 85]\n",
    "\n",
    "mol_q, mol_t, matrix = perform_align_docking(dp, fn_pdb, fn_sdf_q, fn_sdf_t, center, 512, 0.3)"
   ]
  },
  {
   "cell_type": "code",
   "execution_count": null,
   "id": "3a5abc82",
   "metadata": {},
   "outputs": [],
   "source": []
  },
  {
   "cell_type": "code",
   "execution_count": null,
   "id": "39e24b90",
   "metadata": {},
   "outputs": [],
   "source": []
  },
  {
   "cell_type": "markdown",
   "id": "1ad00469",
   "metadata": {},
   "source": [
    "# Others"
   ]
  },
  {
   "cell_type": "markdown",
   "id": "51318398",
   "metadata": {},
   "source": [
    "## 查看分子结构图"
   ]
  },
  {
   "cell_type": "code",
   "execution_count": 7,
   "id": "e55e8755",
   "metadata": {},
   "outputs": [],
   "source": [
    "\n",
    "from IPython.display import SVG\n",
    "from rdkit.Chem.Draw import rdMolDraw2D\n",
    "from copy import deepcopy\n",
    "\n",
    "def show_atom_number(mol, label='atomNote'):\n",
    "    new_mol = deepcopy(mol)\n",
    "    for atom in new_mol.GetAtoms():\n",
    "        atom.SetProp(label, str(atom.GetIdx()))\n",
    "    return new_mol\n",
    "def draw_mol(mol, highlight_atoms=[], molSize=(600, 400), kekulize=True):\n",
    "    drawer = rdMolDraw2D.MolDraw2DSVG(molSize[0], molSize[1])\n",
    "    drawer.drawOptions().addAtomIndices = True\n",
    "    drawer.DrawMolecule(mol, highlightAtoms=highlight_atoms)\n",
    "    drawer.FinishDrawing()\n",
    "    svg = drawer.GetDrawingText()\n",
    "    return SVG(svg)\n",
    "\n",
    "from IPython.display import HTML\n",
    "\n",
    "def draw_mols(mols: list, highlight_atoms=None, width=300):\n",
    "    \"\"\"显示多个分子（横向排列）\"\"\"\n",
    "    if highlight_atoms is None:\n",
    "        highlight_atoms = [[] for _ in mols]\n",
    "    \n",
    "    if not isinstance(width, list):\n",
    "        width = [width] * len(mols)\n",
    "    # 生成独立svg\n",
    "    list_svg = [draw_mol(mol, highlight_atoms=hl, molSize=(w, 400)).data for mol, hl, w in zip(mols, highlight_atoms, width)]\n",
    "    \n",
    "    # 创建横向布局HTML\n",
    "    html_code = f\"\"\"\n",
    "    <div style=\"display: flex; gap: 20px;\">\"\"\"\n",
    "    html_code += \"\".join([f\"<div>{svg.replace('width:600px', f'width:{width}px')}</div>\" for svg in list_svg])\n",
    "    html_code += \"</div>\"\n",
    "    return HTML(html_code)\n"
   ]
  },
  {
   "cell_type": "code",
   "execution_count": 13,
   "id": "d28100dc",
   "metadata": {},
   "outputs": [],
   "source": [
    "def read_sdf(fp_sdf):\n",
    "    m1 = Chem.SDMolSupplier(fp_sdf, removeHs=True)[0]\n",
    "    m1.RemoveAllConformers()\n",
    "    return m1"
   ]
  },
  {
   "cell_type": "code",
   "execution_count": null,
   "id": "63753967",
   "metadata": {},
   "outputs": [
    {
     "data": {
      "text/html": [
       "\n",
       "    <div style=\"display: flex; gap: 20px;\"><div><svg xmlns=\"http://www.w3.org/2000/svg\" xmlns:rdkit=\"http://www.rdkit.org/xml\" xmlns:xlink=\"http://www.w3.org/1999/xlink\" version=\"1.1\" baseProfile=\"full\" xml:space=\"preserve\" width=\"600px\" height=\"400px\" viewBox=\"0 0 600 400\">\n",
       "<!-- END OF HEADER -->\n",
       "<rect style=\"opacity:1.0;fill:#FFFFFF;stroke:none\" width=\"600.0\" height=\"400.0\" x=\"0.0\" y=\"0.0\"> </rect>\n",
       "<path class=\"bond-0 atom-0 atom-1\" d=\"M 55.3,293.5 L 67.5,278.9\" style=\"fill:none;fill-rule:evenodd;stroke:#33CCCC;stroke-width:2.0px;stroke-linecap:butt;stroke-linejoin:miter;stroke-opacity:1\"/>\n",
       "<path class=\"bond-0 atom-0 atom-1\" d=\"M 67.5,278.9 L 79.6,264.4\" style=\"fill:none;fill-rule:evenodd;stroke:#000000;stroke-width:2.0px;stroke-linecap:butt;stroke-linejoin:miter;stroke-opacity:1\"/>\n",
       "<path class=\"bond-1 atom-1 atom-2\" d=\"M 79.6,264.4 L 64.5,251.8\" style=\"fill:none;fill-rule:evenodd;stroke:#000000;stroke-width:2.0px;stroke-linecap:butt;stroke-linejoin:miter;stroke-opacity:1\"/>\n",
       "<path class=\"bond-1 atom-1 atom-2\" d=\"M 64.5,251.8 L 49.5,239.2\" style=\"fill:none;fill-rule:evenodd;stroke:#33CCCC;stroke-width:2.0px;stroke-linecap:butt;stroke-linejoin:miter;stroke-opacity:1\"/>\n",
       "<path class=\"bond-2 atom-1 atom-3\" d=\"M 79.6,264.4 L 94.7,277.0\" style=\"fill:none;fill-rule:evenodd;stroke:#000000;stroke-width:2.0px;stroke-linecap:butt;stroke-linejoin:miter;stroke-opacity:1\"/>\n",
       "<path class=\"bond-2 atom-1 atom-3\" d=\"M 94.7,277.0 L 109.7,289.6\" style=\"fill:none;fill-rule:evenodd;stroke:#33CCCC;stroke-width:2.0px;stroke-linecap:butt;stroke-linejoin:miter;stroke-opacity:1\"/>\n",
       "<path class=\"bond-3 atom-1 atom-4\" d=\"M 79.6,264.4 L 109.3,228.9\" style=\"fill:none;fill-rule:evenodd;stroke:#000000;stroke-width:2.0px;stroke-linecap:butt;stroke-linejoin:miter;stroke-opacity:1\"/>\n",
       "<path class=\"bond-4 atom-4 atom-5\" d=\"M 109.3,228.9 L 93.4,185.4\" style=\"fill:none;fill-rule:evenodd;stroke:#000000;stroke-width:2.0px;stroke-linecap:butt;stroke-linejoin:miter;stroke-opacity:1\"/>\n",
       "<path class=\"bond-4 atom-4 atom-5\" d=\"M 114.5,222.7 L 101.3,186.7\" style=\"fill:none;fill-rule:evenodd;stroke:#000000;stroke-width:2.0px;stroke-linecap:butt;stroke-linejoin:miter;stroke-opacity:1\"/>\n",
       "<path class=\"bond-5 atom-4 atom-8\" d=\"M 109.3,228.9 L 155.0,236.8\" style=\"fill:none;fill-rule:evenodd;stroke:#000000;stroke-width:2.0px;stroke-linecap:butt;stroke-linejoin:miter;stroke-opacity:1\"/>\n",
       "<path class=\"bond-6 atom-5 atom-6\" d=\"M 93.4,185.4 L 123.1,149.8\" style=\"fill:none;fill-rule:evenodd;stroke:#000000;stroke-width:2.0px;stroke-linecap:butt;stroke-linejoin:miter;stroke-opacity:1\"/>\n",
       "<path class=\"bond-7 atom-6 atom-7\" d=\"M 123.1,149.8 L 168.7,157.8\" style=\"fill:none;fill-rule:evenodd;stroke:#000000;stroke-width:2.0px;stroke-linecap:butt;stroke-linejoin:miter;stroke-opacity:1\"/>\n",
       "<path class=\"bond-7 atom-6 atom-7\" d=\"M 125.9,157.4 L 163.6,163.9\" style=\"fill:none;fill-rule:evenodd;stroke:#000000;stroke-width:2.0px;stroke-linecap:butt;stroke-linejoin:miter;stroke-opacity:1\"/>\n",
       "<path class=\"bond-8 atom-7 atom-9\" d=\"M 168.7,157.8 L 184.7,201.3\" style=\"fill:none;fill-rule:evenodd;stroke:#000000;stroke-width:2.0px;stroke-linecap:butt;stroke-linejoin:miter;stroke-opacity:1\"/>\n",
       "<path class=\"bond-9 atom-8 atom-9\" d=\"M 155.0,236.8 L 184.7,201.3\" style=\"fill:none;fill-rule:evenodd;stroke:#000000;stroke-width:2.0px;stroke-linecap:butt;stroke-linejoin:miter;stroke-opacity:1\"/>\n",
       "<path class=\"bond-9 atom-8 atom-9\" d=\"M 152.2,229.3 L 176.8,199.9\" style=\"fill:none;fill-rule:evenodd;stroke:#000000;stroke-width:2.0px;stroke-linecap:butt;stroke-linejoin:miter;stroke-opacity:1\"/>\n",
       "<path class=\"bond-10 atom-9 atom-10\" d=\"M 184.7,201.3 L 204.2,204.7\" style=\"fill:none;fill-rule:evenodd;stroke:#000000;stroke-width:2.0px;stroke-linecap:butt;stroke-linejoin:miter;stroke-opacity:1\"/>\n",
       "<path class=\"bond-10 atom-9 atom-10\" d=\"M 204.2,204.7 L 223.8,208.1\" style=\"fill:none;fill-rule:evenodd;stroke:#0000FF;stroke-width:2.0px;stroke-linecap:butt;stroke-linejoin:miter;stroke-opacity:1\"/>\n",
       "<path class=\"bond-11 atom-10 atom-11\" d=\"M 233.3,217.3 L 239.8,235.0\" style=\"fill:none;fill-rule:evenodd;stroke:#0000FF;stroke-width:2.0px;stroke-linecap:butt;stroke-linejoin:miter;stroke-opacity:1\"/>\n",
       "<path class=\"bond-11 atom-10 atom-11\" d=\"M 239.8,235.0 L 246.2,252.7\" style=\"fill:none;fill-rule:evenodd;stroke:#000000;stroke-width:2.0px;stroke-linecap:butt;stroke-linejoin:miter;stroke-opacity:1\"/>\n",
       "<path class=\"bond-12 atom-10 atom-13\" d=\"M 236.8,201.5 L 248.4,187.6\" style=\"fill:none;fill-rule:evenodd;stroke:#0000FF;stroke-width:2.0px;stroke-linecap:butt;stroke-linejoin:miter;stroke-opacity:1\"/>\n",
       "<path class=\"bond-12 atom-10 atom-13\" d=\"M 248.4,187.6 L 260.0,173.7\" style=\"fill:none;fill-rule:evenodd;stroke:#000000;stroke-width:2.0px;stroke-linecap:butt;stroke-linejoin:miter;stroke-opacity:1\"/>\n",
       "<path class=\"bond-13 atom-11 atom-12\" d=\"M 244.9,249.0 L 232.8,263.4\" style=\"fill:none;fill-rule:evenodd;stroke:#000000;stroke-width:2.0px;stroke-linecap:butt;stroke-linejoin:miter;stroke-opacity:1\"/>\n",
       "<path class=\"bond-13 atom-11 atom-12\" d=\"M 232.8,263.4 L 220.7,277.9\" style=\"fill:none;fill-rule:evenodd;stroke:#FF0000;stroke-width:2.0px;stroke-linecap:butt;stroke-linejoin:miter;stroke-opacity:1\"/>\n",
       "<path class=\"bond-13 atom-11 atom-12\" d=\"M 250.2,253.4 L 238.1,267.9\" style=\"fill:none;fill-rule:evenodd;stroke:#000000;stroke-width:2.0px;stroke-linecap:butt;stroke-linejoin:miter;stroke-opacity:1\"/>\n",
       "<path class=\"bond-13 atom-11 atom-12\" d=\"M 238.1,267.9 L 226.0,282.4\" style=\"fill:none;fill-rule:evenodd;stroke:#FF0000;stroke-width:2.0px;stroke-linecap:butt;stroke-linejoin:miter;stroke-opacity:1\"/>\n",
       "<path class=\"bond-14 atom-11 atom-20\" d=\"M 246.2,252.7 L 265.8,256.2\" style=\"fill:none;fill-rule:evenodd;stroke:#000000;stroke-width:2.0px;stroke-linecap:butt;stroke-linejoin:miter;stroke-opacity:1\"/>\n",
       "<path class=\"bond-14 atom-11 atom-20\" d=\"M 265.8,256.2 L 285.4,259.6\" style=\"fill:none;fill-rule:evenodd;stroke:#0000FF;stroke-width:2.0px;stroke-linecap:butt;stroke-linejoin:miter;stroke-opacity:1\"/>\n",
       "<path class=\"bond-15 atom-13 atom-14\" d=\"M 260.0,173.7 L 244.1,130.2\" style=\"fill:none;fill-rule:evenodd;stroke:#000000;stroke-width:2.0px;stroke-linecap:butt;stroke-linejoin:miter;stroke-opacity:1\"/>\n",
       "<path class=\"bond-16 atom-13 atom-15\" d=\"M 260.0,173.7 L 305.7,181.7\" style=\"fill:none;fill-rule:evenodd;stroke:#000000;stroke-width:2.0px;stroke-linecap:butt;stroke-linejoin:miter;stroke-opacity:1\"/>\n",
       "<path class=\"bond-16 atom-13 atom-15\" d=\"M 262.8,181.2 L 300.5,187.8\" style=\"fill:none;fill-rule:evenodd;stroke:#000000;stroke-width:2.0px;stroke-linecap:butt;stroke-linejoin:miter;stroke-opacity:1\"/>\n",
       "<path class=\"bond-17 atom-15 atom-16\" d=\"M 305.7,181.7 L 335.4,146.1\" style=\"fill:none;fill-rule:evenodd;stroke:#000000;stroke-width:2.0px;stroke-linecap:butt;stroke-linejoin:miter;stroke-opacity:1\"/>\n",
       "<path class=\"bond-18 atom-15 atom-19\" d=\"M 305.7,181.7 L 321.6,225.2\" style=\"fill:none;fill-rule:evenodd;stroke:#000000;stroke-width:2.0px;stroke-linecap:butt;stroke-linejoin:miter;stroke-opacity:1\"/>\n",
       "<path class=\"bond-19 atom-16 atom-17\" d=\"M 339.3,146.8 L 332.6,128.3\" style=\"fill:none;fill-rule:evenodd;stroke:#000000;stroke-width:2.0px;stroke-linecap:butt;stroke-linejoin:miter;stroke-opacity:1\"/>\n",
       "<path class=\"bond-19 atom-16 atom-17\" d=\"M 332.6,128.3 L 325.8,109.8\" style=\"fill:none;fill-rule:evenodd;stroke:#FF0000;stroke-width:2.0px;stroke-linecap:butt;stroke-linejoin:miter;stroke-opacity:1\"/>\n",
       "<path class=\"bond-19 atom-16 atom-17\" d=\"M 332.8,149.2 L 326.0,130.7\" style=\"fill:none;fill-rule:evenodd;stroke:#000000;stroke-width:2.0px;stroke-linecap:butt;stroke-linejoin:miter;stroke-opacity:1\"/>\n",
       "<path class=\"bond-19 atom-16 atom-17\" d=\"M 326.0,130.7 L 319.3,112.2\" style=\"fill:none;fill-rule:evenodd;stroke:#FF0000;stroke-width:2.0px;stroke-linecap:butt;stroke-linejoin:miter;stroke-opacity:1\"/>\n",
       "<path class=\"bond-20 atom-16 atom-18\" d=\"M 335.4,146.1 L 381.0,154.1\" style=\"fill:none;fill-rule:evenodd;stroke:#000000;stroke-width:2.0px;stroke-linecap:butt;stroke-linejoin:miter;stroke-opacity:1\"/>\n",
       "<path class=\"bond-21 atom-19 atom-20\" d=\"M 321.6,225.2 L 310.1,238.9\" style=\"fill:none;fill-rule:evenodd;stroke:#000000;stroke-width:2.0px;stroke-linecap:butt;stroke-linejoin:miter;stroke-opacity:1\"/>\n",
       "<path class=\"bond-21 atom-19 atom-20\" d=\"M 310.1,238.9 L 298.6,252.6\" style=\"fill:none;fill-rule:evenodd;stroke:#0000FF;stroke-width:2.0px;stroke-linecap:butt;stroke-linejoin:miter;stroke-opacity:1\"/>\n",
       "<path class=\"bond-22 atom-19 atom-21\" d=\"M 321.6,225.2 L 369.9,229.9 L 367.2,233.1 Z\" style=\"fill:#000000;fill-rule:evenodd;fill-opacity:1;stroke:#000000;stroke-width:0.5px;stroke-linecap:butt;stroke-linejoin:miter;stroke-miterlimit:10;stroke-opacity:1;\"/>\n",
       "<path class=\"bond-22 atom-19 atom-21\" d=\"M 321.6,225.2 L 367.2,233.1 L 368.7,237.1 Z\" style=\"fill:#000000;fill-rule:evenodd;fill-opacity:1;stroke:#000000;stroke-width:0.5px;stroke-linecap:butt;stroke-linejoin:miter;stroke-miterlimit:10;stroke-opacity:1;\"/>\n",
       "<path class=\"bond-23 atom-21 atom-22\" d=\"M 367.2,233.1 L 383.2,276.6\" style=\"fill:none;fill-rule:evenodd;stroke:#000000;stroke-width:2.0px;stroke-linecap:butt;stroke-linejoin:miter;stroke-opacity:1\"/>\n",
       "<path class=\"bond-23 atom-21 atom-22\" d=\"M 375.1,234.5 L 388.3,270.5\" style=\"fill:none;fill-rule:evenodd;stroke:#000000;stroke-width:2.0px;stroke-linecap:butt;stroke-linejoin:miter;stroke-opacity:1\"/>\n",
       "<path class=\"bond-24 atom-21 atom-28\" d=\"M 367.2,233.1 L 396.9,197.6\" style=\"fill:none;fill-rule:evenodd;stroke:#000000;stroke-width:2.0px;stroke-linecap:butt;stroke-linejoin:miter;stroke-opacity:1\"/>\n",
       "<path class=\"bond-25 atom-22 atom-23\" d=\"M 383.2,276.6 L 402.7,280.0\" style=\"fill:none;fill-rule:evenodd;stroke:#000000;stroke-width:2.0px;stroke-linecap:butt;stroke-linejoin:miter;stroke-opacity:1\"/>\n",
       "<path class=\"bond-25 atom-22 atom-23\" d=\"M 402.7,280.0 L 422.3,283.4\" style=\"fill:none;fill-rule:evenodd;stroke:#0000FF;stroke-width:2.0px;stroke-linecap:butt;stroke-linejoin:miter;stroke-opacity:1\"/>\n",
       "<path class=\"bond-26 atom-23 atom-24\" d=\"M 435.3,276.8 L 446.9,262.9\" style=\"fill:none;fill-rule:evenodd;stroke:#0000FF;stroke-width:2.0px;stroke-linecap:butt;stroke-linejoin:miter;stroke-opacity:1\"/>\n",
       "<path class=\"bond-26 atom-23 atom-24\" d=\"M 446.9,262.9 L 458.5,249.0\" style=\"fill:none;fill-rule:evenodd;stroke:#000000;stroke-width:2.0px;stroke-linecap:butt;stroke-linejoin:miter;stroke-opacity:1\"/>\n",
       "<path class=\"bond-26 atom-23 atom-24\" d=\"M 430.0,272.3 L 440.3,260.0\" style=\"fill:none;fill-rule:evenodd;stroke:#0000FF;stroke-width:2.0px;stroke-linecap:butt;stroke-linejoin:miter;stroke-opacity:1\"/>\n",
       "<path class=\"bond-26 atom-23 atom-24\" d=\"M 440.3,260.0 L 450.6,247.7\" style=\"fill:none;fill-rule:evenodd;stroke:#000000;stroke-width:2.0px;stroke-linecap:butt;stroke-linejoin:miter;stroke-opacity:1\"/>\n",
       "<path class=\"bond-27 atom-24 atom-25\" d=\"M 458.5,249.0 L 504.2,257.0\" style=\"fill:none;fill-rule:evenodd;stroke:#000000;stroke-width:2.0px;stroke-linecap:butt;stroke-linejoin:miter;stroke-opacity:1\"/>\n",
       "<path class=\"bond-28 atom-24 atom-27\" d=\"M 458.5,249.0 L 442.6,205.5\" style=\"fill:none;fill-rule:evenodd;stroke:#000000;stroke-width:2.0px;stroke-linecap:butt;stroke-linejoin:miter;stroke-opacity:1\"/>\n",
       "<path class=\"bond-29 atom-25 atom-26\" d=\"M 504.2,257.0 L 523.7,260.4\" style=\"fill:none;fill-rule:evenodd;stroke:#000000;stroke-width:2.0px;stroke-linecap:butt;stroke-linejoin:miter;stroke-opacity:1\"/>\n",
       "<path class=\"bond-29 atom-25 atom-26\" d=\"M 523.7,260.4 L 543.3,263.8\" style=\"fill:none;fill-rule:evenodd;stroke:#0000FF;stroke-width:2.0px;stroke-linecap:butt;stroke-linejoin:miter;stroke-opacity:1\"/>\n",
       "<path class=\"bond-29 atom-25 atom-26\" d=\"M 505.4,250.1 L 524.9,253.6\" style=\"fill:none;fill-rule:evenodd;stroke:#000000;stroke-width:2.0px;stroke-linecap:butt;stroke-linejoin:miter;stroke-opacity:1\"/>\n",
       "<path class=\"bond-29 atom-25 atom-26\" d=\"M 524.9,253.6 L 544.5,257.0\" style=\"fill:none;fill-rule:evenodd;stroke:#0000FF;stroke-width:2.0px;stroke-linecap:butt;stroke-linejoin:miter;stroke-opacity:1\"/>\n",
       "<path class=\"bond-29 atom-25 atom-26\" d=\"M 503.0,263.8 L 522.5,267.2\" style=\"fill:none;fill-rule:evenodd;stroke:#000000;stroke-width:2.0px;stroke-linecap:butt;stroke-linejoin:miter;stroke-opacity:1\"/>\n",
       "<path class=\"bond-29 atom-25 atom-26\" d=\"M 522.5,267.2 L 542.1,270.7\" style=\"fill:none;fill-rule:evenodd;stroke:#0000FF;stroke-width:2.0px;stroke-linecap:butt;stroke-linejoin:miter;stroke-opacity:1\"/>\n",
       "<path class=\"bond-30 atom-27 atom-28\" d=\"M 442.6,205.5 L 396.9,197.6\" style=\"fill:none;fill-rule:evenodd;stroke:#000000;stroke-width:2.0px;stroke-linecap:butt;stroke-linejoin:miter;stroke-opacity:1\"/>\n",
       "<path class=\"bond-30 atom-27 atom-28\" d=\"M 437.4,211.7 L 399.7,205.1\" style=\"fill:none;fill-rule:evenodd;stroke:#000000;stroke-width:2.0px;stroke-linecap:butt;stroke-linejoin:miter;stroke-opacity:1\"/>\n",
       "<path d=\"M 94.2,187.5 L 93.4,185.4 L 94.9,183.6\" style=\"fill:none;stroke:#000000;stroke-width:2.0px;stroke-linecap:butt;stroke-linejoin:miter;stroke-miterlimit:10;stroke-opacity:1;\"/>\n",
       "<path d=\"M 121.6,151.6 L 123.1,149.8 L 125.4,150.2\" style=\"fill:none;stroke:#000000;stroke-width:2.0px;stroke-linecap:butt;stroke-linejoin:miter;stroke-miterlimit:10;stroke-opacity:1;\"/>\n",
       "<path d=\"M 166.5,157.4 L 168.7,157.8 L 169.5,159.9\" style=\"fill:none;stroke:#000000;stroke-width:2.0px;stroke-linecap:butt;stroke-linejoin:miter;stroke-miterlimit:10;stroke-opacity:1;\"/>\n",
       "<path d=\"M 152.7,236.4 L 155.0,236.8 L 156.4,235.0\" style=\"fill:none;stroke:#000000;stroke-width:2.0px;stroke-linecap:butt;stroke-linejoin:miter;stroke-miterlimit:10;stroke-opacity:1;\"/>\n",
       "<path d=\"M 245.9,251.9 L 246.2,252.7 L 247.2,252.9\" style=\"fill:none;stroke:#000000;stroke-width:2.0px;stroke-linecap:butt;stroke-linejoin:miter;stroke-miterlimit:10;stroke-opacity:1;\"/>\n",
       "<path d=\"M 333.9,147.9 L 335.4,146.1 L 337.7,146.5\" style=\"fill:none;stroke:#000000;stroke-width:2.0px;stroke-linecap:butt;stroke-linejoin:miter;stroke-miterlimit:10;stroke-opacity:1;\"/>\n",
       "<path d=\"M 320.8,223.0 L 321.6,225.2 L 321.0,225.8\" style=\"fill:none;stroke:#000000;stroke-width:2.0px;stroke-linecap:butt;stroke-linejoin:miter;stroke-miterlimit:10;stroke-opacity:1;\"/>\n",
       "<path d=\"M 368.0,235.3 L 367.2,233.1 L 368.7,231.3\" style=\"fill:none;stroke:#000000;stroke-width:2.0px;stroke-linecap:butt;stroke-linejoin:miter;stroke-miterlimit:10;stroke-opacity:1;\"/>\n",
       "<path d=\"M 382.4,274.4 L 383.2,276.6 L 384.1,276.8\" style=\"fill:none;stroke:#000000;stroke-width:2.0px;stroke-linecap:butt;stroke-linejoin:miter;stroke-miterlimit:10;stroke-opacity:1;\"/>\n",
       "<path d=\"M 501.9,256.6 L 504.2,257.0 L 505.1,257.2\" style=\"fill:none;stroke:#000000;stroke-width:2.0px;stroke-linecap:butt;stroke-linejoin:miter;stroke-miterlimit:10;stroke-opacity:1;\"/>\n",
       "<path d=\"M 443.4,207.7 L 442.6,205.5 L 440.3,205.1\" style=\"fill:none;stroke:#000000;stroke-width:2.0px;stroke-linecap:butt;stroke-linejoin:miter;stroke-miterlimit:10;stroke-opacity:1;\"/>\n",
       "<path d=\"M 395.5,199.3 L 396.9,197.6 L 399.2,198.0\" style=\"fill:none;stroke:#000000;stroke-width:2.0px;stroke-linecap:butt;stroke-linejoin:miter;stroke-miterlimit:10;stroke-opacity:1;\"/>\n",
       "<path class=\"atom-0\" d=\"M 46.0 293.4 L 53.8 293.4 L 53.8 294.9 L 47.8 294.9 L 47.8 298.9 L 53.1 298.9 L 53.1 300.4 L 47.8 300.4 L 47.8 306.5 L 46.0 306.5 L 46.0 293.4 \" fill=\"#33CCCC\"/>\n",
       "<path class=\"atom-2\" d=\"M 40.2 228.1 L 48.0 228.1 L 48.0 229.6 L 41.9 229.6 L 41.9 233.6 L 47.3 233.6 L 47.3 235.1 L 41.9 235.1 L 41.9 241.3 L 40.2 241.3 L 40.2 228.1 \" fill=\"#33CCCC\"/>\n",
       "<path class=\"atom-3\" d=\"M 111.3 287.6 L 119.1 287.6 L 119.1 289.1 L 113.0 289.1 L 113.0 293.1 L 118.4 293.1 L 118.4 294.6 L 113.0 294.6 L 113.0 300.7 L 111.3 300.7 L 111.3 287.6 \" fill=\"#33CCCC\"/>\n",
       "<path class=\"atom-10\" d=\"M 227.4 202.7 L 231.7 209.6 Q 232.1 210.3, 232.8 211.6 Q 233.5 212.8, 233.5 212.9 L 233.5 202.7 L 235.3 202.7 L 235.3 215.8 L 233.5 215.8 L 228.9 208.2 Q 228.3 207.3, 227.8 206.3 Q 227.2 205.3, 227.0 205.0 L 227.0 215.8 L 225.3 215.8 L 225.3 202.7 L 227.4 202.7 \" fill=\"#0000FF\"/>\n",
       "<path class=\"atom-12\" d=\"M 210.5 288.3 Q 210.5 285.2, 212.1 283.4 Q 213.6 281.7, 216.5 281.7 Q 219.4 281.7, 221.0 283.4 Q 222.6 285.2, 222.6 288.3 Q 222.6 291.5, 221.0 293.3 Q 219.4 295.1, 216.5 295.1 Q 213.6 295.1, 212.1 293.3 Q 210.5 291.5, 210.5 288.3 M 216.5 293.6 Q 218.5 293.6, 219.6 292.3 Q 220.7 291.0, 220.7 288.3 Q 220.7 285.8, 219.6 284.5 Q 218.5 283.1, 216.5 283.1 Q 214.5 283.1, 213.4 284.4 Q 212.4 285.7, 212.4 288.3 Q 212.4 291.0, 213.4 292.3 Q 214.5 293.6, 216.5 293.6 \" fill=\"#FF0000\"/>\n",
       "<path class=\"atom-17\" d=\"M 313.4 102.6 Q 313.4 99.5, 315.0 97.7 Q 316.5 96.0, 319.5 96.0 Q 322.4 96.0, 323.9 97.7 Q 325.5 99.5, 325.5 102.6 Q 325.5 105.8, 323.9 107.6 Q 322.3 109.4, 319.5 109.4 Q 316.6 109.4, 315.0 107.6 Q 313.4 105.8, 313.4 102.6 M 319.5 108.0 Q 321.5 108.0, 322.5 106.6 Q 323.6 105.3, 323.6 102.6 Q 323.6 100.1, 322.5 98.8 Q 321.5 97.4, 319.5 97.4 Q 317.5 97.4, 316.4 98.7 Q 315.3 100.0, 315.3 102.6 Q 315.3 105.3, 316.4 106.6 Q 317.5 108.0, 319.5 108.0 \" fill=\"#FF0000\"/>\n",
       "<path class=\"atom-20\" d=\"M 289.0 254.1 L 293.3 261.1 Q 293.7 261.8, 294.4 263.0 Q 295.1 264.3, 295.1 264.3 L 295.1 254.1 L 296.9 254.1 L 296.9 267.3 L 295.1 267.3 L 290.4 259.7 Q 289.9 258.8, 289.3 257.8 Q 288.8 256.7, 288.6 256.4 L 288.6 267.3 L 286.9 267.3 L 286.9 254.1 L 289.0 254.1 \" fill=\"#0000FF\"/>\n",
       "<path class=\"atom-20\" d=\"M 299.4 254.1 L 301.2 254.1 L 301.2 259.7 L 307.9 259.7 L 307.9 254.1 L 309.7 254.1 L 309.7 267.3 L 307.9 267.3 L 307.9 261.2 L 301.2 261.2 L 301.2 267.3 L 299.4 267.3 L 299.4 254.1 \" fill=\"#0000FF\"/>\n",
       "<path class=\"atom-23\" d=\"M 425.9 278.0 L 430.2 285.0 Q 430.6 285.7, 431.3 286.9 Q 432.0 288.1, 432.0 288.2 L 432.0 278.0 L 433.8 278.0 L 433.8 291.1 L 432.0 291.1 L 427.4 283.5 Q 426.8 282.7, 426.3 281.6 Q 425.7 280.6, 425.5 280.3 L 425.5 291.1 L 423.8 291.1 L 423.8 278.0 L 425.9 278.0 \" fill=\"#0000FF\"/>\n",
       "<path class=\"atom-26\" d=\"M 546.9 258.4 L 551.2 265.3 Q 551.6 266.0, 552.3 267.3 Q 553.0 268.5, 553.0 268.6 L 553.0 258.4 L 554.8 258.4 L 554.8 271.5 L 553.0 271.5 L 548.4 263.9 Q 547.8 263.0, 547.3 262.0 Q 546.7 261.0, 546.5 260.7 L 546.5 271.5 L 544.8 271.5 L 544.8 258.4 L 546.9 258.4 \" fill=\"#0000FF\"/>\n",
       "<path class=\"note\" d=\"M 40.0 315.2 Q 38.8 315.2, 38.2 314.3 Q 37.6 313.4, 37.6 311.8 Q 37.6 310.3, 38.2 309.4 Q 38.8 308.5, 40.0 308.5 Q 41.2 308.5, 41.8 309.4 Q 42.4 310.3, 42.4 311.8 Q 42.4 313.4, 41.8 314.3 Q 41.2 315.2, 40.0 315.2 M 40.0 314.5 Q 40.7 314.5, 41.1 313.8 Q 41.5 313.1, 41.5 311.8 Q 41.5 310.6, 41.1 309.9 Q 40.7 309.2, 40.0 309.2 Q 39.3 309.2, 38.9 309.9 Q 38.5 310.6, 38.5 311.8 Q 38.5 313.1, 38.9 313.8 Q 39.3 314.5, 40.0 314.5 \" fill=\"#000000\"/>\n",
       "<path class=\"note\" d=\"M 62.6 268.3 L 64.0 268.3 L 64.0 263.4 L 62.5 263.9 L 62.2 263.4 L 64.3 262.5 L 64.9 262.6 L 64.9 268.3 L 66.2 268.3 L 66.2 269.1 L 62.6 269.1 L 62.6 268.3 \" fill=\"#000000\"/>\n",
       "<path class=\"note\" d=\"M 30.0 222.8 Q 30.3 222.2, 30.8 221.8 Q 31.4 221.5, 32.2 221.5 Q 33.2 221.5, 33.8 222.0 Q 34.3 222.6, 34.3 223.5 Q 34.3 224.5, 33.6 225.4 Q 32.9 226.3, 31.4 227.4 L 34.4 227.4 L 34.4 228.1 L 30.0 228.1 L 30.0 227.5 Q 31.2 226.6, 31.9 226.0 Q 32.7 225.3, 33.0 224.7 Q 33.4 224.2, 33.4 223.6 Q 33.4 222.9, 33.1 222.6 Q 32.8 222.2, 32.2 222.2 Q 31.7 222.2, 31.3 222.4 Q 31.0 222.6, 30.7 223.1 L 30.0 222.8 \" fill=\"#000000\"/>\n",
       "<path class=\"note\" d=\"M 127.9 303.9 Q 128.6 304.1, 128.9 304.5 Q 129.2 304.9, 129.2 305.6 Q 129.2 306.1, 128.9 306.5 Q 128.7 307.0, 128.1 307.2 Q 127.6 307.4, 127.0 307.4 Q 126.3 307.4, 125.7 307.2 Q 125.2 307.0, 124.8 306.5 L 125.3 305.9 Q 125.7 306.4, 126.1 306.5 Q 126.4 306.7, 127.0 306.7 Q 127.6 306.7, 127.9 306.4 Q 128.3 306.1, 128.3 305.5 Q 128.3 304.9, 127.9 304.6 Q 127.5 304.3, 126.7 304.3 L 126.3 304.3 L 126.3 303.6 L 126.7 303.6 Q 127.4 303.6, 127.8 303.3 Q 128.1 303.0, 128.1 302.4 Q 128.1 302.0, 127.8 301.7 Q 127.5 301.5, 127.0 301.5 Q 126.4 301.5, 126.1 301.7 Q 125.8 301.8, 125.5 302.3 L 124.9 302.0 Q 125.1 301.4, 125.6 301.1 Q 126.2 300.7, 127.0 300.7 Q 127.9 300.7, 128.5 301.2 Q 129.1 301.6, 129.1 302.4 Q 129.1 302.9, 128.8 303.3 Q 128.5 303.7, 127.9 303.9 \" fill=\"#000000\"/>\n",
       "<path class=\"note\" d=\"M 103.4 228.6 L 104.2 228.6 L 104.2 229.3 L 103.4 229.3 L 103.4 230.8 L 102.6 230.8 L 102.6 229.3 L 99.2 229.3 L 99.2 228.7 L 102.1 224.3 L 103.4 224.3 L 103.4 228.6 M 100.3 228.6 L 102.6 228.6 L 102.6 224.9 L 100.3 228.6 \" fill=\"#000000\"/>\n",
       "<path class=\"note\" d=\"M 85.9 183.2 Q 86.5 183.2, 87.0 183.5 Q 87.5 183.7, 87.7 184.2 Q 88.0 184.6, 88.0 185.2 Q 88.0 185.9, 87.7 186.4 Q 87.3 186.9, 86.8 187.1 Q 86.3 187.4, 85.7 187.4 Q 85.1 187.4, 84.5 187.2 Q 83.9 186.9, 83.6 186.5 L 84.1 185.9 Q 84.4 186.3, 84.8 186.5 Q 85.3 186.6, 85.7 186.6 Q 86.3 186.6, 86.7 186.3 Q 87.1 185.9, 87.1 185.3 Q 87.1 184.6, 86.7 184.2 Q 86.3 183.9, 85.6 183.9 Q 85.1 183.9, 84.4 184.2 L 83.9 183.9 L 84.2 180.8 L 87.6 180.8 L 87.5 181.5 L 85.0 181.5 L 84.8 183.4 Q 85.4 183.2, 85.9 183.2 \" fill=\"#000000\"/>\n",
       "<path class=\"note\" d=\"M 120.7 141.8 Q 121.3 141.8, 121.8 142.0 Q 122.2 142.3, 122.5 142.7 Q 122.7 143.2, 122.7 143.8 Q 122.7 144.4, 122.4 144.9 Q 122.2 145.4, 121.7 145.7 Q 121.2 146.0, 120.5 146.0 Q 119.4 146.0, 118.8 145.2 Q 118.2 144.4, 118.2 142.8 Q 118.2 141.1, 118.9 140.2 Q 119.6 139.2, 121.0 139.2 Q 121.4 139.2, 121.8 139.3 Q 122.1 139.4, 122.5 139.6 L 122.1 140.2 Q 121.6 140.0, 121.0 140.0 Q 120.1 140.0, 119.6 140.6 Q 119.2 141.2, 119.1 142.4 Q 119.4 142.1, 119.9 142.0 Q 120.3 141.8, 120.7 141.8 M 120.5 145.2 Q 120.9 145.2, 121.2 145.0 Q 121.5 144.8, 121.6 144.5 Q 121.8 144.2, 121.8 143.8 Q 121.8 143.2, 121.5 142.9 Q 121.1 142.5, 120.6 142.5 Q 120.2 142.5, 119.8 142.7 Q 119.4 142.9, 119.1 143.1 Q 119.1 144.2, 119.5 144.7 Q 119.8 145.2, 120.5 145.2 \" fill=\"#000000\"/>\n",
       "<path class=\"note\" d=\"M 175.0 149.3 L 171.5 149.3 L 171.5 148.6 L 175.9 148.6 L 175.9 149.2 L 173.2 155.1 L 172.3 155.1 L 175.0 149.3 \" fill=\"#000000\"/>\n",
       "<path class=\"note\" d=\"M 158.6 243.9 Q 159.2 244.2, 159.6 244.6 Q 159.9 244.9, 159.9 245.6 Q 159.9 246.2, 159.6 246.6 Q 159.4 247.0, 158.8 247.3 Q 158.3 247.5, 157.7 247.5 Q 156.6 247.5, 155.9 247.0 Q 155.3 246.5, 155.3 245.6 Q 155.3 245.1, 155.6 244.7 Q 155.9 244.3, 156.4 243.9 Q 156.0 243.7, 155.8 243.4 Q 155.5 243.0, 155.5 242.4 Q 155.5 241.7, 156.1 241.2 Q 156.7 240.8, 157.6 240.8 Q 158.6 240.8, 159.1 241.2 Q 159.7 241.7, 159.7 242.4 Q 159.7 242.9, 159.4 243.3 Q 159.2 243.6, 158.6 243.9 M 157.6 241.5 Q 157.1 241.5, 156.8 241.7 Q 156.5 242.0, 156.5 242.4 Q 156.5 242.8, 156.7 243.0 Q 156.9 243.2, 157.2 243.4 Q 157.5 243.5, 158.0 243.7 Q 158.4 243.4, 158.6 243.1 Q 158.8 242.8, 158.8 242.4 Q 158.8 242.0, 158.5 241.7 Q 158.2 241.5, 157.6 241.5 M 157.7 246.8 Q 158.3 246.8, 158.6 246.5 Q 159.0 246.1, 159.0 245.6 Q 159.0 245.2, 158.8 245.0 Q 158.6 244.8, 158.3 244.7 Q 158.0 244.5, 157.5 244.4 L 157.1 244.2 Q 156.6 244.5, 156.4 244.8 Q 156.2 245.2, 156.2 245.6 Q 156.2 246.1, 156.6 246.5 Q 157.0 246.8, 157.7 246.8 \" fill=\"#000000\"/>\n",
       "<path class=\"note\" d=\"M 189.6 192.0 Q 190.7 192.0, 191.3 192.8 Q 191.9 193.6, 191.9 195.2 Q 191.9 196.9, 191.2 197.8 Q 190.4 198.7, 189.0 198.7 Q 188.6 198.7, 188.3 198.7 Q 187.9 198.6, 187.6 198.4 L 188.0 197.7 Q 188.5 198.0, 189.0 198.0 Q 190.0 198.0, 190.4 197.4 Q 190.9 196.8, 191.0 195.6 Q 190.6 195.9, 190.2 196.1 Q 189.8 196.2, 189.3 196.2 Q 188.8 196.2, 188.3 196.0 Q 187.8 195.7, 187.6 195.3 Q 187.3 194.8, 187.3 194.2 Q 187.3 193.6, 187.6 193.1 Q 187.9 192.6, 188.4 192.3 Q 188.9 192.0, 189.6 192.0 M 188.3 194.2 Q 188.3 194.8, 188.6 195.1 Q 188.9 195.5, 189.5 195.5 Q 189.9 195.5, 190.3 195.3 Q 190.7 195.1, 191.0 194.9 Q 190.9 193.8, 190.6 193.3 Q 190.2 192.8, 189.5 192.8 Q 189.2 192.8, 188.9 193.0 Q 188.6 193.2, 188.4 193.5 Q 188.3 193.8, 188.3 194.2 \" fill=\"#000000\"/>\n",
       "<path class=\"note\" d=\"M 211.4 217.1 L 212.8 217.1 L 212.8 212.2 L 211.2 212.7 L 211.0 212.2 L 213.0 211.3 L 213.7 211.4 L 213.7 217.1 L 215.0 217.1 L 215.0 217.9 L 211.4 217.9 L 211.4 217.1 \" fill=\"#000000\"/>\n",
       "<path class=\"note\" d=\"M 218.2 217.9 Q 217.0 217.9, 216.4 217.0 Q 215.8 216.2, 215.8 214.6 Q 215.8 213.0, 216.4 212.1 Q 217.0 211.2, 218.2 211.2 Q 219.4 211.2, 220.0 212.1 Q 220.6 213.0, 220.6 214.6 Q 220.6 216.2, 220.0 217.0 Q 219.4 217.9, 218.2 217.9 M 218.2 217.2 Q 218.9 217.2, 219.3 216.5 Q 219.7 215.9, 219.7 214.6 Q 219.7 213.3, 219.3 212.6 Q 218.9 212.0, 218.2 212.0 Q 217.5 212.0, 217.1 212.6 Q 216.7 213.3, 216.7 214.6 Q 216.7 215.9, 217.1 216.5 Q 217.5 217.2, 218.2 217.2 \" fill=\"#000000\"/>\n",
       "<path class=\"note\" d=\"M 227.0 252.6 L 228.5 252.6 L 228.5 247.7 L 226.9 248.2 L 226.7 247.7 L 228.7 246.8 L 229.3 246.9 L 229.3 252.6 L 230.6 252.6 L 230.6 253.4 L 227.0 253.4 L 227.0 252.6 \" fill=\"#000000\"/>\n",
       "<path class=\"note\" d=\"M 231.8 252.6 L 233.2 252.6 L 233.2 247.7 L 231.6 248.2 L 231.4 247.7 L 233.4 246.8 L 234.1 246.9 L 234.1 252.6 L 235.4 252.6 L 235.4 253.4 L 231.8 253.4 L 231.8 252.6 \" fill=\"#000000\"/>\n",
       "<path class=\"note\" d=\"M 197.8 296.2 L 199.2 296.2 L 199.2 291.3 L 197.6 291.8 L 197.4 291.2 L 199.4 290.3 L 200.1 290.4 L 200.1 296.2 L 201.4 296.2 L 201.4 296.9 L 197.8 296.9 L 197.8 296.2 \" fill=\"#000000\"/>\n",
       "<path class=\"note\" d=\"M 202.2 291.6 Q 202.5 291.0, 203.0 290.6 Q 203.6 290.3, 204.4 290.3 Q 205.4 290.3, 206.0 290.8 Q 206.5 291.4, 206.5 292.3 Q 206.5 293.3, 205.8 294.2 Q 205.1 295.1, 203.6 296.2 L 206.6 296.2 L 206.6 296.9 L 202.2 296.9 L 202.2 296.3 Q 203.4 295.4, 204.1 294.8 Q 204.9 294.1, 205.2 293.5 Q 205.6 293.0, 205.6 292.4 Q 205.6 291.7, 205.3 291.4 Q 205.0 291.0, 204.4 291.0 Q 203.9 291.0, 203.5 291.2 Q 203.2 291.5, 202.9 291.9 L 202.2 291.6 \" fill=\"#000000\"/>\n",
       "<path class=\"note\" d=\"M 240.6 173.6 L 242.0 173.6 L 242.0 168.7 L 240.4 169.2 L 240.2 168.7 L 242.2 167.8 L 242.9 167.9 L 242.9 173.6 L 244.2 173.6 L 244.2 174.4 L 240.6 174.4 L 240.6 173.6 \" fill=\"#000000\"/>\n",
       "<path class=\"note\" d=\"M 248.1 170.9 Q 248.8 171.1, 249.1 171.5 Q 249.4 171.9, 249.4 172.6 Q 249.4 173.1, 249.1 173.6 Q 248.8 174.0, 248.3 174.2 Q 247.8 174.4, 247.2 174.4 Q 246.5 174.4, 245.9 174.2 Q 245.4 174.0, 245.0 173.5 L 245.5 172.9 Q 245.9 173.4, 246.3 173.5 Q 246.6 173.7, 247.2 173.7 Q 247.8 173.7, 248.1 173.4 Q 248.5 173.1, 248.5 172.5 Q 248.5 171.9, 248.1 171.6 Q 247.7 171.3, 246.9 171.3 L 246.4 171.3 L 246.4 170.6 L 246.9 170.6 Q 247.6 170.6, 248.0 170.3 Q 248.3 170.0, 248.3 169.4 Q 248.3 169.0, 248.0 168.7 Q 247.7 168.5, 247.2 168.5 Q 246.6 168.5, 246.3 168.7 Q 245.9 168.9, 245.7 169.3 L 245.0 169.0 Q 245.3 168.5, 245.8 168.1 Q 246.4 167.7, 247.2 167.7 Q 248.1 167.7, 248.7 168.2 Q 249.3 168.6, 249.3 169.4 Q 249.3 169.9, 249.0 170.3 Q 248.7 170.7, 248.1 170.9 \" fill=\"#000000\"/>\n",
       "<path class=\"note\" d=\"M 246.8 130.1 L 248.2 130.1 L 248.2 125.2 L 246.6 125.7 L 246.4 125.1 L 248.4 124.2 L 249.1 124.3 L 249.1 130.1 L 250.4 130.1 L 250.4 130.8 L 246.8 130.8 L 246.8 130.1 \" fill=\"#000000\"/>\n",
       "<path class=\"note\" d=\"M 255.5 128.6 L 256.3 128.6 L 256.3 129.3 L 255.5 129.3 L 255.5 130.8 L 254.6 130.8 L 254.6 129.3 L 251.2 129.3 L 251.2 128.7 L 254.1 124.3 L 255.5 124.3 L 255.5 128.6 M 252.3 128.6 L 254.6 128.6 L 254.6 124.9 L 252.3 128.6 \" fill=\"#000000\"/>\n",
       "<path class=\"note\" d=\"M 296.1 169.7 L 297.6 169.7 L 297.6 164.8 L 296.0 165.3 L 295.8 164.7 L 297.8 163.8 L 298.4 164.0 L 298.4 169.7 L 299.7 169.7 L 299.7 170.4 L 296.1 170.4 L 296.1 169.7 \" fill=\"#000000\"/>\n",
       "<path class=\"note\" d=\"M 302.9 166.3 Q 303.5 166.3, 303.9 166.6 Q 304.4 166.8, 304.7 167.3 Q 305.0 167.8, 305.0 168.4 Q 305.0 169.0, 304.6 169.5 Q 304.3 170.0, 303.8 170.3 Q 303.2 170.5, 302.6 170.5 Q 302.0 170.5, 301.5 170.3 Q 300.9 170.1, 300.5 169.7 L 301.1 169.1 Q 301.4 169.4, 301.8 169.6 Q 302.2 169.8, 302.6 169.8 Q 303.2 169.8, 303.6 169.4 Q 304.0 169.0, 304.0 168.4 Q 304.0 167.7, 303.6 167.4 Q 303.2 167.0, 302.6 167.0 Q 302.0 167.0, 301.4 167.3 L 300.9 167.0 L 301.2 163.9 L 304.6 163.9 L 304.5 164.6 L 301.9 164.6 L 301.7 166.6 Q 302.3 166.3, 302.9 166.3 \" fill=\"#000000\"/>\n",
       "<path class=\"note\" d=\"M 315.9 146.0 L 317.3 146.0 L 317.3 141.1 L 315.7 141.6 L 315.5 141.1 L 317.5 140.2 L 318.2 140.3 L 318.2 146.0 L 319.5 146.0 L 319.5 146.8 L 315.9 146.8 L 315.9 146.0 \" fill=\"#000000\"/>\n",
       "<path class=\"note\" d=\"M 322.8 142.7 Q 323.4 142.7, 323.9 142.9 Q 324.3 143.2, 324.6 143.6 Q 324.8 144.1, 324.8 144.7 Q 324.8 145.3, 324.5 145.8 Q 324.3 146.3, 323.8 146.6 Q 323.3 146.8, 322.6 146.8 Q 321.5 146.8, 320.9 146.1 Q 320.3 145.3, 320.3 143.7 Q 320.3 141.9, 321.0 141.0 Q 321.7 140.1, 323.1 140.1 Q 323.5 140.1, 323.9 140.2 Q 324.2 140.3, 324.6 140.5 L 324.2 141.1 Q 323.7 140.9, 323.1 140.9 Q 322.2 140.9, 321.7 141.5 Q 321.3 142.1, 321.2 143.3 Q 321.5 143.0, 322.0 142.8 Q 322.4 142.7, 322.8 142.7 M 322.6 146.1 Q 323.0 146.1, 323.3 145.9 Q 323.6 145.7, 323.7 145.4 Q 323.9 145.1, 323.9 144.7 Q 323.9 144.1, 323.6 143.7 Q 323.3 143.4, 322.7 143.4 Q 322.3 143.4, 321.9 143.6 Q 321.5 143.7, 321.2 144.0 Q 321.2 145.1, 321.6 145.6 Q 321.9 146.1, 322.6 146.1 \" fill=\"#000000\"/>\n",
       "<path class=\"note\" d=\"M 309.9 90.7 L 311.4 90.7 L 311.4 85.8 L 309.8 86.2 L 309.6 85.7 L 311.6 84.8 L 312.3 84.9 L 312.3 90.7 L 313.5 90.7 L 313.5 91.4 L 309.9 91.4 L 309.9 90.7 \" fill=\"#000000\"/>\n",
       "<path class=\"note\" d=\"M 317.8 85.6 L 314.3 85.6 L 314.3 84.8 L 318.7 84.8 L 318.7 85.5 L 316.1 91.4 L 315.2 91.4 L 317.8 85.6 \" fill=\"#000000\"/>\n",
       "<path class=\"note\" d=\"M 375.4 164.2 L 376.8 164.2 L 376.8 159.3 L 375.2 159.8 L 375.0 159.3 L 377.0 158.4 L 377.7 158.5 L 377.7 164.2 L 378.9 164.2 L 378.9 165.0 L 375.4 165.0 L 375.4 164.2 \" fill=\"#000000\"/>\n",
       "<path class=\"note\" d=\"M 383.1 161.5 Q 383.7 161.8, 384.1 162.2 Q 384.4 162.5, 384.4 163.2 Q 384.4 163.7, 384.1 164.2 Q 383.8 164.6, 383.3 164.8 Q 382.8 165.1, 382.1 165.1 Q 381.0 165.1, 380.4 164.6 Q 379.8 164.1, 379.8 163.2 Q 379.8 162.7, 380.0 162.3 Q 380.3 161.8, 380.9 161.5 Q 380.5 161.3, 380.2 160.9 Q 380.0 160.6, 380.0 160.0 Q 380.0 159.3, 380.6 158.8 Q 381.1 158.4, 382.1 158.4 Q 383.0 158.4, 383.6 158.8 Q 384.2 159.3, 384.2 160.0 Q 384.2 160.5, 383.9 160.9 Q 383.6 161.2, 383.1 161.5 M 382.1 159.0 Q 381.5 159.0, 381.2 159.3 Q 380.9 159.6, 380.9 160.0 Q 380.9 160.4, 381.1 160.6 Q 381.3 160.8, 381.6 161.0 Q 381.9 161.1, 382.5 161.3 Q 382.9 161.0, 383.1 160.7 Q 383.2 160.4, 383.2 160.0 Q 383.2 159.6, 382.9 159.3 Q 382.6 159.0, 382.1 159.0 M 382.1 164.4 Q 382.7 164.4, 383.1 164.1 Q 383.5 163.7, 383.5 163.2 Q 383.5 162.8, 383.3 162.6 Q 383.1 162.4, 382.8 162.3 Q 382.5 162.1, 382.0 162.0 L 381.6 161.8 Q 381.1 162.1, 380.9 162.4 Q 380.7 162.8, 380.7 163.2 Q 380.7 163.7, 381.1 164.1 Q 381.5 164.4, 382.1 164.4 \" fill=\"#000000\"/>\n",
       "<path class=\"note\" d=\"M 302.1 225.1 L 303.5 225.1 L 303.5 220.2 L 301.9 220.7 L 301.7 220.1 L 303.7 219.2 L 304.4 219.3 L 304.4 225.1 L 305.7 225.1 L 305.7 225.8 L 302.1 225.8 L 302.1 225.1 \" fill=\"#000000\"/>\n",
       "<path class=\"note\" d=\"M 308.7 219.2 Q 309.9 219.2, 310.4 220.0 Q 311.0 220.8, 311.0 222.3 Q 311.0 224.1, 310.3 225.0 Q 309.6 225.9, 308.2 225.9 Q 307.8 225.9, 307.4 225.8 Q 307.1 225.7, 306.8 225.5 L 307.1 224.9 Q 307.6 225.2, 308.2 225.2 Q 309.1 225.2, 309.6 224.6 Q 310.1 224.0, 310.1 222.7 Q 309.8 223.0, 309.3 223.2 Q 308.9 223.4, 308.5 223.4 Q 307.9 223.4, 307.4 223.1 Q 307.0 222.9, 306.7 222.4 Q 306.5 221.9, 306.5 221.4 Q 306.5 220.7, 306.8 220.2 Q 307.1 219.7, 307.6 219.5 Q 308.1 219.2, 308.7 219.2 M 307.4 221.4 Q 307.4 221.9, 307.7 222.3 Q 308.1 222.6, 308.6 222.6 Q 309.0 222.6, 309.4 222.5 Q 309.8 222.3, 310.1 222.0 Q 310.1 220.9, 309.7 220.4 Q 309.4 219.9, 308.7 219.9 Q 308.3 219.9, 308.0 220.1 Q 307.8 220.3, 307.6 220.6 Q 307.4 221.0, 307.4 221.4 \" fill=\"#000000\"/>\n",
       "<path class=\"note\" d=\"M 281.5 244.2 Q 281.7 243.6, 282.3 243.2 Q 282.9 242.9, 283.7 242.9 Q 284.7 242.9, 285.2 243.4 Q 285.8 244.0, 285.8 244.9 Q 285.8 245.9, 285.0 246.8 Q 284.3 247.7, 282.8 248.8 L 285.9 248.8 L 285.9 249.5 L 281.5 249.5 L 281.5 248.9 Q 282.7 248.0, 283.4 247.4 Q 284.1 246.7, 284.5 246.1 Q 284.8 245.6, 284.8 245.0 Q 284.8 244.3, 284.5 244.0 Q 284.2 243.6, 283.7 243.6 Q 283.1 243.6, 282.8 243.8 Q 282.4 244.1, 282.2 244.5 L 281.5 244.2 \" fill=\"#000000\"/>\n",
       "<path class=\"note\" d=\"M 289.3 249.6 Q 288.1 249.6, 287.5 248.7 Q 286.9 247.8, 286.9 246.2 Q 286.9 244.6, 287.5 243.8 Q 288.1 242.9, 289.3 242.9 Q 290.5 242.9, 291.1 243.8 Q 291.7 244.6, 291.7 246.2 Q 291.7 247.8, 291.1 248.7 Q 290.5 249.6, 289.3 249.6 M 289.3 248.9 Q 290.0 248.9, 290.4 248.2 Q 290.8 247.5, 290.8 246.2 Q 290.8 244.9, 290.4 244.3 Q 290.0 243.6, 289.3 243.6 Q 288.6 243.6, 288.2 244.3 Q 287.8 244.9, 287.8 246.2 Q 287.8 247.5, 288.2 248.2 Q 288.6 248.9, 289.3 248.9 \" fill=\"#000000\"/>\n",
       "<path class=\"note\" d=\"M 352.7 243.0 Q 352.9 242.3, 353.5 242.0 Q 354.1 241.6, 354.9 241.6 Q 355.9 241.6, 356.4 242.2 Q 357.0 242.7, 357.0 243.7 Q 357.0 244.6, 356.2 245.6 Q 355.5 246.5, 354.0 247.5 L 357.1 247.5 L 357.1 248.3 L 352.7 248.3 L 352.7 247.7 Q 353.9 246.8, 354.6 246.1 Q 355.3 245.5, 355.7 244.9 Q 356.0 244.3, 356.0 243.7 Q 356.0 243.1, 355.7 242.7 Q 355.4 242.4, 354.9 242.4 Q 354.3 242.4, 354.0 242.6 Q 353.6 242.8, 353.4 243.3 L 352.7 243.0 \" fill=\"#000000\"/>\n",
       "<path class=\"note\" d=\"M 358.4 247.5 L 359.8 247.5 L 359.8 242.6 L 358.3 243.1 L 358.1 242.6 L 360.1 241.7 L 360.7 241.8 L 360.7 247.5 L 362.0 247.5 L 362.0 248.3 L 358.4 248.3 L 358.4 247.5 \" fill=\"#000000\"/>\n",
       "<path class=\"note\" d=\"M 373.3 280.5 Q 373.6 279.9, 374.1 279.6 Q 374.7 279.2, 375.5 279.2 Q 376.5 279.2, 377.0 279.8 Q 377.6 280.3, 377.6 281.3 Q 377.6 282.2, 376.9 283.1 Q 376.2 284.0, 374.7 285.1 L 377.7 285.1 L 377.7 285.9 L 373.3 285.9 L 373.3 285.2 Q 374.5 284.4, 375.2 283.7 Q 376.0 283.1, 376.3 282.5 Q 376.7 281.9, 376.7 281.3 Q 376.7 280.7, 376.4 280.3 Q 376.0 280.0, 375.5 280.0 Q 375.0 280.0, 374.6 280.2 Q 374.3 280.4, 374.0 280.9 L 373.3 280.5 \" fill=\"#000000\"/>\n",
       "<path class=\"note\" d=\"M 378.7 280.5 Q 379.0 279.9, 379.5 279.6 Q 380.1 279.2, 380.9 279.2 Q 381.9 279.2, 382.5 279.8 Q 383.0 280.3, 383.0 281.3 Q 383.0 282.2, 382.3 283.1 Q 381.6 284.0, 380.1 285.1 L 383.1 285.1 L 383.1 285.9 L 378.7 285.9 L 378.7 285.2 Q 379.9 284.4, 380.7 283.7 Q 381.4 283.1, 381.7 282.5 Q 382.1 281.9, 382.1 281.3 Q 382.1 280.7, 381.8 280.3 Q 381.5 280.0, 380.9 280.0 Q 380.4 280.0, 380.0 280.2 Q 379.7 280.4, 379.4 280.9 L 378.7 280.5 \" fill=\"#000000\"/>\n",
       "<path class=\"note\" d=\"M 429.2 297.1 Q 429.5 296.5, 430.0 296.1 Q 430.6 295.8, 431.4 295.8 Q 432.4 295.8, 433.0 296.3 Q 433.5 296.8, 433.5 297.8 Q 433.5 298.8, 432.8 299.7 Q 432.1 300.6, 430.6 301.7 L 433.6 301.7 L 433.6 302.4 L 429.2 302.4 L 429.2 301.8 Q 430.4 300.9, 431.1 300.3 Q 431.9 299.6, 432.2 299.0 Q 432.6 298.4, 432.6 297.8 Q 432.6 297.2, 432.3 296.9 Q 432.0 296.5, 431.4 296.5 Q 430.9 296.5, 430.5 296.7 Q 430.2 296.9, 429.9 297.4 L 429.2 297.1 \" fill=\"#000000\"/>\n",
       "<path class=\"note\" d=\"M 437.8 298.9 Q 438.4 299.1, 438.7 299.5 Q 439.0 300.0, 439.0 300.6 Q 439.0 301.2, 438.8 301.6 Q 438.5 302.0, 438.0 302.3 Q 437.5 302.5, 436.8 302.5 Q 436.1 302.5, 435.6 302.2 Q 435.0 302.0, 434.6 301.5 L 435.1 301.0 Q 435.6 301.4, 435.9 301.6 Q 436.2 301.7, 436.8 301.7 Q 437.4 301.7, 437.7 301.4 Q 438.1 301.1, 438.1 300.6 Q 438.1 299.9, 437.7 299.6 Q 437.4 299.3, 436.5 299.3 L 436.1 299.3 L 436.1 298.7 L 436.5 298.7 Q 437.2 298.6, 437.6 298.3 Q 438.0 298.0, 438.0 297.4 Q 438.0 297.0, 437.6 296.8 Q 437.3 296.5, 436.8 296.5 Q 436.2 296.5, 435.9 296.7 Q 435.6 296.9, 435.3 297.4 L 434.7 297.0 Q 434.9 296.5, 435.5 296.1 Q 436.0 295.8, 436.8 295.8 Q 437.8 295.8, 438.3 296.2 Q 438.9 296.7, 438.9 297.4 Q 438.9 298.0, 438.6 298.3 Q 438.3 298.7, 437.8 298.9 \" fill=\"#000000\"/>\n",
       "<path class=\"note\" d=\"M 458.6 261.5 Q 458.8 260.9, 459.4 260.6 Q 460.0 260.2, 460.8 260.2 Q 461.8 260.2, 462.3 260.8 Q 462.9 261.3, 462.9 262.2 Q 462.9 263.2, 462.2 264.1 Q 461.4 265.0, 460.0 266.1 L 463.0 266.1 L 463.0 266.9 L 458.6 266.9 L 458.6 266.2 Q 459.8 265.4, 460.5 264.7 Q 461.3 264.1, 461.6 263.5 Q 462.0 262.9, 462.0 262.3 Q 462.0 261.7, 461.6 261.3 Q 461.3 261.0, 460.8 261.0 Q 460.3 261.0, 459.9 261.2 Q 459.6 261.4, 459.3 261.9 L 458.6 261.5 \" fill=\"#000000\"/>\n",
       "<path class=\"note\" d=\"M 468.3 264.6 L 469.1 264.6 L 469.1 265.3 L 468.3 265.3 L 468.3 266.9 L 467.4 266.9 L 467.4 265.3 L 464.0 265.3 L 464.0 264.8 L 466.9 260.3 L 468.3 260.3 L 468.3 264.6 M 465.1 264.6 L 467.4 264.6 L 467.4 260.9 L 465.1 264.6 \" fill=\"#000000\"/>\n",
       "<path class=\"note\" d=\"M 501.9 239.8 Q 502.1 239.2, 502.7 238.8 Q 503.3 238.5, 504.1 238.5 Q 505.1 238.5, 505.6 239.0 Q 506.2 239.5, 506.2 240.5 Q 506.2 241.5, 505.5 242.4 Q 504.8 243.3, 503.3 244.4 L 506.3 244.4 L 506.3 245.1 L 501.9 245.1 L 501.9 244.5 Q 503.1 243.6, 503.8 243.0 Q 504.6 242.3, 504.9 241.7 Q 505.3 241.1, 505.3 240.5 Q 505.3 239.9, 504.9 239.6 Q 504.6 239.2, 504.1 239.2 Q 503.6 239.2, 503.2 239.4 Q 502.9 239.6, 502.6 240.1 L 501.9 239.8 \" fill=\"#000000\"/>\n",
       "<path class=\"note\" d=\"M 509.7 241.0 Q 510.3 241.0, 510.7 241.2 Q 511.2 241.5, 511.5 241.9 Q 511.7 242.4, 511.7 243.0 Q 511.7 243.7, 511.4 244.2 Q 511.1 244.7, 510.5 244.9 Q 510.0 245.2, 509.4 245.2 Q 508.8 245.2, 508.2 244.9 Q 507.7 244.7, 507.3 244.3 L 507.9 243.7 Q 508.2 244.1, 508.6 244.2 Q 509.0 244.4, 509.4 244.4 Q 510.0 244.4, 510.4 244.1 Q 510.8 243.7, 510.8 243.0 Q 510.8 242.3, 510.4 242.0 Q 510.0 241.7, 509.4 241.7 Q 508.8 241.7, 508.2 241.9 L 507.6 241.7 L 508.0 238.5 L 511.3 238.5 L 511.2 239.3 L 508.7 239.3 L 508.5 241.2 Q 509.1 241.0, 509.7 241.0 \" fill=\"#000000\"/>\n",
       "<path class=\"note\" d=\"M 560.0 265.6 Q 560.3 265.0, 560.9 264.6 Q 561.4 264.3, 562.2 264.3 Q 563.2 264.3, 563.8 264.8 Q 564.3 265.4, 564.3 266.3 Q 564.3 267.3, 563.6 268.2 Q 562.9 269.1, 561.4 270.2 L 564.4 270.2 L 564.4 270.9 L 560.0 270.9 L 560.0 270.3 Q 561.2 269.4, 562.0 268.8 Q 562.7 268.1, 563.1 267.5 Q 563.4 267.0, 563.4 266.4 Q 563.4 265.7, 563.1 265.4 Q 562.8 265.0, 562.2 265.0 Q 561.7 265.0, 561.4 265.2 Q 561.0 265.5, 560.7 265.9 L 560.0 265.6 \" fill=\"#000000\"/>\n",
       "<path class=\"note\" d=\"M 568.0 266.8 Q 568.6 266.8, 569.0 267.1 Q 569.5 267.3, 569.7 267.8 Q 570.0 268.2, 570.0 268.8 Q 570.0 269.4, 569.7 269.9 Q 569.4 270.4, 568.9 270.7 Q 568.4 271.0, 567.8 271.0 Q 566.6 271.0, 566.0 270.2 Q 565.5 269.4, 565.5 267.8 Q 565.5 266.1, 566.2 265.2 Q 566.9 264.3, 568.3 264.3 Q 568.7 264.3, 569.1 264.4 Q 569.4 264.5, 569.7 264.7 L 569.4 265.3 Q 568.9 265.0, 568.3 265.0 Q 567.4 265.0, 566.9 265.6 Q 566.4 266.2, 566.4 267.5 Q 566.7 267.1, 567.1 267.0 Q 567.6 266.8, 568.0 266.8 M 567.8 270.2 Q 568.2 270.2, 568.4 270.0 Q 568.7 269.9, 568.9 269.5 Q 569.1 269.2, 569.1 268.8 Q 569.1 268.2, 568.7 267.9 Q 568.4 267.6, 567.9 267.6 Q 567.5 267.6, 567.1 267.7 Q 566.7 267.9, 566.4 268.2 Q 566.4 269.3, 566.8 269.7 Q 567.1 270.2, 567.8 270.2 \" fill=\"#000000\"/>\n",
       "<path class=\"note\" d=\"M 442.7 197.6 Q 442.9 197.0, 443.5 196.6 Q 444.1 196.3, 444.9 196.3 Q 445.9 196.3, 446.4 196.8 Q 447.0 197.4, 447.0 198.3 Q 447.0 199.3, 446.2 200.2 Q 445.5 201.1, 444.0 202.2 L 447.1 202.2 L 447.1 202.9 L 442.7 202.9 L 442.7 202.3 Q 443.9 201.4, 444.6 200.8 Q 445.3 200.1, 445.7 199.5 Q 446.0 199.0, 446.0 198.4 Q 446.0 197.7, 445.7 197.4 Q 445.4 197.0, 444.9 197.0 Q 444.3 197.0, 444.0 197.2 Q 443.6 197.5, 443.4 197.9 L 442.7 197.6 \" fill=\"#000000\"/>\n",
       "<path class=\"note\" d=\"M 451.5 197.1 L 448.1 197.1 L 448.1 196.4 L 452.4 196.4 L 452.4 197.0 L 449.8 202.9 L 448.9 202.9 L 451.5 197.1 \" fill=\"#000000\"/>\n",
       "<path class=\"note\" d=\"M 389.3 188.3 Q 389.5 187.7, 390.1 187.4 Q 390.7 187.0, 391.5 187.0 Q 392.5 187.0, 393.0 187.5 Q 393.6 188.1, 393.6 189.0 Q 393.6 190.0, 392.8 190.9 Q 392.1 191.8, 390.7 192.9 L 393.7 192.9 L 393.7 193.6 L 389.3 193.6 L 389.3 193.0 Q 390.5 192.1, 391.2 191.5 Q 391.9 190.8, 392.3 190.3 Q 392.6 189.7, 392.6 189.1 Q 392.6 188.4, 392.3 188.1 Q 392.0 187.7, 391.5 187.7 Q 390.9 187.7, 390.6 188.0 Q 390.2 188.2, 390.0 188.6 L 389.3 188.3 \" fill=\"#000000\"/>\n",
       "<path class=\"note\" d=\"M 398.0 190.2 Q 398.6 190.4, 399.0 190.8 Q 399.3 191.2, 399.3 191.8 Q 399.3 192.4, 399.0 192.8 Q 398.8 193.3, 398.2 193.5 Q 397.7 193.7, 397.0 193.7 Q 396.0 193.7, 395.3 193.2 Q 394.7 192.7, 394.7 191.8 Q 394.7 191.3, 395.0 190.9 Q 395.2 190.5, 395.8 190.2 Q 395.4 189.9, 395.2 189.6 Q 394.9 189.2, 394.9 188.7 Q 394.9 187.9, 395.5 187.5 Q 396.1 187.0, 397.0 187.0 Q 398.0 187.0, 398.5 187.5 Q 399.1 187.9, 399.1 188.7 Q 399.1 189.2, 398.8 189.5 Q 398.6 189.9, 398.0 190.2 M 397.0 187.7 Q 396.5 187.7, 396.2 188.0 Q 395.9 188.2, 395.9 188.7 Q 395.9 189.0, 396.1 189.3 Q 396.3 189.5, 396.6 189.6 Q 396.9 189.7, 397.4 189.9 Q 397.8 189.6, 398.0 189.4 Q 398.2 189.1, 398.2 188.7 Q 398.2 188.2, 397.9 188.0 Q 397.6 187.7, 397.0 187.7 M 397.0 193.0 Q 397.7 193.0, 398.0 192.7 Q 398.4 192.4, 398.4 191.8 Q 398.4 191.5, 398.2 191.3 Q 398.0 191.0, 397.7 190.9 Q 397.4 190.8, 396.9 190.6 L 396.5 190.5 Q 396.0 190.7, 395.8 191.1 Q 395.6 191.4, 395.6 191.8 Q 395.6 192.4, 396.0 192.7 Q 396.4 193.0, 397.0 193.0 \" fill=\"#000000\"/>\n",
       "</svg></div><div><svg xmlns=\"http://www.w3.org/2000/svg\" xmlns:rdkit=\"http://www.rdkit.org/xml\" xmlns:xlink=\"http://www.w3.org/1999/xlink\" version=\"1.1\" baseProfile=\"full\" xml:space=\"preserve\" width=\"600px\" height=\"400px\" viewBox=\"0 0 600 400\">\n",
       "<!-- END OF HEADER -->\n",
       "<rect style=\"opacity:1.0;fill:#FFFFFF;stroke:none\" width=\"600.0\" height=\"400.0\" x=\"0.0\" y=\"0.0\"> </rect>\n",
       "<path class=\"bond-0 atom-0 atom-1\" d=\"M 459.3,246.2 L 429.7,281.6\" style=\"fill:none;fill-rule:evenodd;stroke:#000000;stroke-width:2.0px;stroke-linecap:butt;stroke-linejoin:miter;stroke-opacity:1\"/>\n",
       "<path class=\"bond-0 atom-0 atom-1\" d=\"M 451.5,244.8 L 427.0,274.1\" style=\"fill:none;fill-rule:evenodd;stroke:#000000;stroke-width:2.0px;stroke-linecap:butt;stroke-linejoin:miter;stroke-opacity:1\"/>\n",
       "<path class=\"bond-1 atom-0 atom-5\" d=\"M 459.3,246.2 L 443.5,202.9\" style=\"fill:none;fill-rule:evenodd;stroke:#000000;stroke-width:2.0px;stroke-linecap:butt;stroke-linejoin:miter;stroke-opacity:1\"/>\n",
       "<path class=\"bond-2 atom-0 atom-12\" d=\"M 459.3,246.2 L 504.8,254.1\" style=\"fill:none;fill-rule:evenodd;stroke:#000000;stroke-width:2.0px;stroke-linecap:butt;stroke-linejoin:miter;stroke-opacity:1\"/>\n",
       "<path class=\"bond-3 atom-1 atom-2\" d=\"M 429.7,281.6 L 384.3,273.7\" style=\"fill:none;fill-rule:evenodd;stroke:#000000;stroke-width:2.0px;stroke-linecap:butt;stroke-linejoin:miter;stroke-opacity:1\"/>\n",
       "<path class=\"bond-4 atom-2 atom-3\" d=\"M 384.3,273.7 L 368.4,230.4\" style=\"fill:none;fill-rule:evenodd;stroke:#000000;stroke-width:2.0px;stroke-linecap:butt;stroke-linejoin:miter;stroke-opacity:1\"/>\n",
       "<path class=\"bond-4 atom-2 atom-3\" d=\"M 389.4,267.6 L 376.3,231.7\" style=\"fill:none;fill-rule:evenodd;stroke:#000000;stroke-width:2.0px;stroke-linecap:butt;stroke-linejoin:miter;stroke-opacity:1\"/>\n",
       "<path class=\"bond-5 atom-3 atom-4\" d=\"M 368.4,230.4 L 398.0,195.0\" style=\"fill:none;fill-rule:evenodd;stroke:#000000;stroke-width:2.0px;stroke-linecap:butt;stroke-linejoin:miter;stroke-opacity:1\"/>\n",
       "<path class=\"bond-6 atom-6 atom-3\" d=\"M 322.9,222.4 L 371.1,227.2 L 368.4,230.4 Z\" style=\"fill:#000000;fill-rule:evenodd;fill-opacity:1;stroke:#000000;stroke-width:0.5px;stroke-linecap:butt;stroke-linejoin:miter;stroke-miterlimit:10;stroke-opacity:1;\"/>\n",
       "<path class=\"bond-6 atom-6 atom-3\" d=\"M 322.9,222.4 L 368.4,230.4 L 369.8,234.3 Z\" style=\"fill:#000000;fill-rule:evenodd;fill-opacity:1;stroke:#000000;stroke-width:0.5px;stroke-linecap:butt;stroke-linejoin:miter;stroke-miterlimit:10;stroke-opacity:1;\"/>\n",
       "<path class=\"bond-7 atom-4 atom-5\" d=\"M 398.0,195.0 L 443.5,202.9\" style=\"fill:none;fill-rule:evenodd;stroke:#000000;stroke-width:2.0px;stroke-linecap:butt;stroke-linejoin:miter;stroke-opacity:1\"/>\n",
       "<path class=\"bond-7 atom-4 atom-5\" d=\"M 400.7,202.5 L 438.3,209.0\" style=\"fill:none;fill-rule:evenodd;stroke:#000000;stroke-width:2.0px;stroke-linecap:butt;stroke-linejoin:miter;stroke-opacity:1\"/>\n",
       "<path class=\"bond-8 atom-6 atom-7\" d=\"M 322.9,222.4 L 307.1,179.1\" style=\"fill:none;fill-rule:evenodd;stroke:#000000;stroke-width:2.0px;stroke-linecap:butt;stroke-linejoin:miter;stroke-opacity:1\"/>\n",
       "<path class=\"bond-9 atom-6 atom-11\" d=\"M 322.9,222.4 L 311.5,236.1\" style=\"fill:none;fill-rule:evenodd;stroke:#000000;stroke-width:2.0px;stroke-linecap:butt;stroke-linejoin:miter;stroke-opacity:1\"/>\n",
       "<path class=\"bond-9 atom-6 atom-11\" d=\"M 311.5,236.1 L 300.1,249.8\" style=\"fill:none;fill-rule:evenodd;stroke:#0000FF;stroke-width:2.0px;stroke-linecap:butt;stroke-linejoin:miter;stroke-opacity:1\"/>\n",
       "<path class=\"bond-10 atom-7 atom-8\" d=\"M 307.1,179.1 L 261.6,171.2\" style=\"fill:none;fill-rule:evenodd;stroke:#000000;stroke-width:2.0px;stroke-linecap:butt;stroke-linejoin:miter;stroke-opacity:1\"/>\n",
       "<path class=\"bond-10 atom-7 atom-8\" d=\"M 301.9,185.2 L 264.3,178.7\" style=\"fill:none;fill-rule:evenodd;stroke:#000000;stroke-width:2.0px;stroke-linecap:butt;stroke-linejoin:miter;stroke-opacity:1\"/>\n",
       "<path class=\"bond-11 atom-7 atom-19\" d=\"M 307.1,179.1 L 336.7,143.7\" style=\"fill:none;fill-rule:evenodd;stroke:#000000;stroke-width:2.0px;stroke-linecap:butt;stroke-linejoin:miter;stroke-opacity:1\"/>\n",
       "<path class=\"bond-12 atom-8 atom-9\" d=\"M 261.6,171.2 L 250.0,185.0\" style=\"fill:none;fill-rule:evenodd;stroke:#000000;stroke-width:2.0px;stroke-linecap:butt;stroke-linejoin:miter;stroke-opacity:1\"/>\n",
       "<path class=\"bond-12 atom-8 atom-9\" d=\"M 250.0,185.0 L 238.5,198.8\" style=\"fill:none;fill-rule:evenodd;stroke:#0000FF;stroke-width:2.0px;stroke-linecap:butt;stroke-linejoin:miter;stroke-opacity:1\"/>\n",
       "<path class=\"bond-13 atom-8 atom-26\" d=\"M 261.6,171.2 L 245.7,127.8\" style=\"fill:none;fill-rule:evenodd;stroke:#000000;stroke-width:2.0px;stroke-linecap:butt;stroke-linejoin:miter;stroke-opacity:1\"/>\n",
       "<path class=\"bond-14 atom-9 atom-10\" d=\"M 234.9,214.6 L 241.4,232.3\" style=\"fill:none;fill-rule:evenodd;stroke:#0000FF;stroke-width:2.0px;stroke-linecap:butt;stroke-linejoin:miter;stroke-opacity:1\"/>\n",
       "<path class=\"bond-14 atom-9 atom-10\" d=\"M 241.4,232.3 L 247.9,249.9\" style=\"fill:none;fill-rule:evenodd;stroke:#000000;stroke-width:2.0px;stroke-linecap:butt;stroke-linejoin:miter;stroke-opacity:1\"/>\n",
       "<path class=\"bond-15 atom-9 atom-20\" d=\"M 225.5,205.4 L 206.0,202.0\" style=\"fill:none;fill-rule:evenodd;stroke:#0000FF;stroke-width:2.0px;stroke-linecap:butt;stroke-linejoin:miter;stroke-opacity:1\"/>\n",
       "<path class=\"bond-15 atom-9 atom-20\" d=\"M 206.0,202.0 L 186.5,198.6\" style=\"fill:none;fill-rule:evenodd;stroke:#000000;stroke-width:2.0px;stroke-linecap:butt;stroke-linejoin:miter;stroke-opacity:1\"/>\n",
       "<path class=\"bond-16 atom-10 atom-11\" d=\"M 247.9,249.9 L 267.4,253.3\" style=\"fill:none;fill-rule:evenodd;stroke:#000000;stroke-width:2.0px;stroke-linecap:butt;stroke-linejoin:miter;stroke-opacity:1\"/>\n",
       "<path class=\"bond-16 atom-10 atom-11\" d=\"M 267.4,253.3 L 286.9,256.7\" style=\"fill:none;fill-rule:evenodd;stroke:#0000FF;stroke-width:2.0px;stroke-linecap:butt;stroke-linejoin:miter;stroke-opacity:1\"/>\n",
       "<path class=\"bond-17 atom-10 atom-18\" d=\"M 246.5,246.2 L 234.4,260.6\" style=\"fill:none;fill-rule:evenodd;stroke:#000000;stroke-width:2.0px;stroke-linecap:butt;stroke-linejoin:miter;stroke-opacity:1\"/>\n",
       "<path class=\"bond-17 atom-10 atom-18\" d=\"M 234.4,260.6 L 222.4,275.0\" style=\"fill:none;fill-rule:evenodd;stroke:#FF0000;stroke-width:2.0px;stroke-linecap:butt;stroke-linejoin:miter;stroke-opacity:1\"/>\n",
       "<path class=\"bond-17 atom-10 atom-18\" d=\"M 251.8,250.6 L 239.8,265.0\" style=\"fill:none;fill-rule:evenodd;stroke:#000000;stroke-width:2.0px;stroke-linecap:butt;stroke-linejoin:miter;stroke-opacity:1\"/>\n",
       "<path class=\"bond-17 atom-10 atom-18\" d=\"M 239.8,265.0 L 227.7,279.4\" style=\"fill:none;fill-rule:evenodd;stroke:#FF0000;stroke-width:2.0px;stroke-linecap:butt;stroke-linejoin:miter;stroke-opacity:1\"/>\n",
       "<path class=\"bond-18 atom-12 atom-13\" d=\"M 504.8,254.1 L 524.3,257.5\" style=\"fill:none;fill-rule:evenodd;stroke:#000000;stroke-width:2.0px;stroke-linecap:butt;stroke-linejoin:miter;stroke-opacity:1\"/>\n",
       "<path class=\"bond-18 atom-12 atom-13\" d=\"M 524.3,257.5 L 543.8,260.9\" style=\"fill:none;fill-rule:evenodd;stroke:#0000FF;stroke-width:2.0px;stroke-linecap:butt;stroke-linejoin:miter;stroke-opacity:1\"/>\n",
       "<path class=\"bond-18 atom-12 atom-13\" d=\"M 506.0,247.3 L 525.5,250.7\" style=\"fill:none;fill-rule:evenodd;stroke:#000000;stroke-width:2.0px;stroke-linecap:butt;stroke-linejoin:miter;stroke-opacity:1\"/>\n",
       "<path class=\"bond-18 atom-12 atom-13\" d=\"M 525.5,250.7 L 545.0,254.1\" style=\"fill:none;fill-rule:evenodd;stroke:#0000FF;stroke-width:2.0px;stroke-linecap:butt;stroke-linejoin:miter;stroke-opacity:1\"/>\n",
       "<path class=\"bond-18 atom-12 atom-13\" d=\"M 503.6,261.0 L 523.1,264.4\" style=\"fill:none;fill-rule:evenodd;stroke:#000000;stroke-width:2.0px;stroke-linecap:butt;stroke-linejoin:miter;stroke-opacity:1\"/>\n",
       "<path class=\"bond-18 atom-12 atom-13\" d=\"M 523.1,264.4 L 542.6,267.8\" style=\"fill:none;fill-rule:evenodd;stroke:#0000FF;stroke-width:2.0px;stroke-linecap:butt;stroke-linejoin:miter;stroke-opacity:1\"/>\n",
       "<path class=\"bond-19 atom-14 atom-15\" d=\"M 81.9,261.5 L 69.8,276.0\" style=\"fill:none;fill-rule:evenodd;stroke:#000000;stroke-width:2.0px;stroke-linecap:butt;stroke-linejoin:miter;stroke-opacity:1\"/>\n",
       "<path class=\"bond-19 atom-14 atom-15\" d=\"M 69.8,276.0 L 57.7,290.5\" style=\"fill:none;fill-rule:evenodd;stroke:#33CCCC;stroke-width:2.0px;stroke-linecap:butt;stroke-linejoin:miter;stroke-opacity:1\"/>\n",
       "<path class=\"bond-20 atom-14 atom-16\" d=\"M 81.9,261.5 L 66.9,249.0\" style=\"fill:none;fill-rule:evenodd;stroke:#000000;stroke-width:2.0px;stroke-linecap:butt;stroke-linejoin:miter;stroke-opacity:1\"/>\n",
       "<path class=\"bond-20 atom-14 atom-16\" d=\"M 66.9,249.0 L 51.9,236.5\" style=\"fill:none;fill-rule:evenodd;stroke:#33CCCC;stroke-width:2.0px;stroke-linecap:butt;stroke-linejoin:miter;stroke-opacity:1\"/>\n",
       "<path class=\"bond-21 atom-14 atom-17\" d=\"M 81.9,261.5 L 96.9,274.1\" style=\"fill:none;fill-rule:evenodd;stroke:#000000;stroke-width:2.0px;stroke-linecap:butt;stroke-linejoin:miter;stroke-opacity:1\"/>\n",
       "<path class=\"bond-21 atom-14 atom-17\" d=\"M 96.9,274.1 L 111.9,286.6\" style=\"fill:none;fill-rule:evenodd;stroke:#33CCCC;stroke-width:2.0px;stroke-linecap:butt;stroke-linejoin:miter;stroke-opacity:1\"/>\n",
       "<path class=\"bond-22 atom-14 atom-24\" d=\"M 81.9,261.5 L 111.5,226.1\" style=\"fill:none;fill-rule:evenodd;stroke:#000000;stroke-width:2.0px;stroke-linecap:butt;stroke-linejoin:miter;stroke-opacity:1\"/>\n",
       "<path class=\"bond-23 atom-19 atom-27\" d=\"M 336.7,143.7 L 320.8,100.3\" style=\"fill:none;fill-rule:evenodd;stroke:#000000;stroke-width:2.0px;stroke-linecap:butt;stroke-linejoin:miter;stroke-opacity:1\"/>\n",
       "<path class=\"bond-24 atom-19 atom-28\" d=\"M 334.1,146.7 L 354.1,150.2\" style=\"fill:none;fill-rule:evenodd;stroke:#000000;stroke-width:2.0px;stroke-linecap:butt;stroke-linejoin:miter;stroke-opacity:1\"/>\n",
       "<path class=\"bond-24 atom-19 atom-28\" d=\"M 354.1,150.2 L 374.0,153.7\" style=\"fill:none;fill-rule:evenodd;stroke:#FF0000;stroke-width:2.0px;stroke-linecap:butt;stroke-linejoin:miter;stroke-opacity:1\"/>\n",
       "<path class=\"bond-24 atom-19 atom-28\" d=\"M 335.3,139.9 L 355.2,143.4\" style=\"fill:none;fill-rule:evenodd;stroke:#000000;stroke-width:2.0px;stroke-linecap:butt;stroke-linejoin:miter;stroke-opacity:1\"/>\n",
       "<path class=\"bond-24 atom-19 atom-28\" d=\"M 355.2,143.4 L 375.2,146.9\" style=\"fill:none;fill-rule:evenodd;stroke:#FF0000;stroke-width:2.0px;stroke-linecap:butt;stroke-linejoin:miter;stroke-opacity:1\"/>\n",
       "<path class=\"bond-25 atom-20 atom-21\" d=\"M 186.5,198.6 L 170.7,155.3\" style=\"fill:none;fill-rule:evenodd;stroke:#000000;stroke-width:2.0px;stroke-linecap:butt;stroke-linejoin:miter;stroke-opacity:1\"/>\n",
       "<path class=\"bond-25 atom-20 atom-21\" d=\"M 178.7,197.3 L 165.5,161.4\" style=\"fill:none;fill-rule:evenodd;stroke:#000000;stroke-width:2.0px;stroke-linecap:butt;stroke-linejoin:miter;stroke-opacity:1\"/>\n",
       "<path class=\"bond-26 atom-20 atom-25\" d=\"M 186.5,198.6 L 156.9,234.1\" style=\"fill:none;fill-rule:evenodd;stroke:#000000;stroke-width:2.0px;stroke-linecap:butt;stroke-linejoin:miter;stroke-opacity:1\"/>\n",
       "<path class=\"bond-27 atom-21 atom-22\" d=\"M 170.7,155.3 L 125.2,147.4\" style=\"fill:none;fill-rule:evenodd;stroke:#000000;stroke-width:2.0px;stroke-linecap:butt;stroke-linejoin:miter;stroke-opacity:1\"/>\n",
       "<path class=\"bond-28 atom-22 atom-23\" d=\"M 125.2,147.4 L 95.6,182.8\" style=\"fill:none;fill-rule:evenodd;stroke:#000000;stroke-width:2.0px;stroke-linecap:butt;stroke-linejoin:miter;stroke-opacity:1\"/>\n",
       "<path class=\"bond-28 atom-22 atom-23\" d=\"M 127.9,154.9 L 103.5,184.2\" style=\"fill:none;fill-rule:evenodd;stroke:#000000;stroke-width:2.0px;stroke-linecap:butt;stroke-linejoin:miter;stroke-opacity:1\"/>\n",
       "<path class=\"bond-29 atom-23 atom-24\" d=\"M 95.6,182.8 L 111.5,226.1\" style=\"fill:none;fill-rule:evenodd;stroke:#000000;stroke-width:2.0px;stroke-linecap:butt;stroke-linejoin:miter;stroke-opacity:1\"/>\n",
       "<path class=\"bond-30 atom-24 atom-25\" d=\"M 111.5,226.1 L 156.9,234.1\" style=\"fill:none;fill-rule:evenodd;stroke:#000000;stroke-width:2.0px;stroke-linecap:butt;stroke-linejoin:miter;stroke-opacity:1\"/>\n",
       "<path class=\"bond-30 atom-24 atom-25\" d=\"M 116.6,220.0 L 154.2,226.6\" style=\"fill:none;fill-rule:evenodd;stroke:#000000;stroke-width:2.0px;stroke-linecap:butt;stroke-linejoin:miter;stroke-opacity:1\"/>\n",
       "<path d=\"M 431.2,279.9 L 429.7,281.6 L 427.5,281.2\" style=\"fill:none;stroke:#000000;stroke-width:2.0px;stroke-linecap:butt;stroke-linejoin:miter;stroke-miterlimit:10;stroke-opacity:1;\"/>\n",
       "<path d=\"M 386.5,274.1 L 384.3,273.7 L 383.5,271.5\" style=\"fill:none;stroke:#000000;stroke-width:2.0px;stroke-linecap:butt;stroke-linejoin:miter;stroke-miterlimit:10;stroke-opacity:1;\"/>\n",
       "<path d=\"M 369.2,232.5 L 368.4,230.4 L 369.9,228.6\" style=\"fill:none;stroke:#000000;stroke-width:2.0px;stroke-linecap:butt;stroke-linejoin:miter;stroke-miterlimit:10;stroke-opacity:1;\"/>\n",
       "<path d=\"M 396.5,196.7 L 398.0,195.0 L 400.3,195.3\" style=\"fill:none;stroke:#000000;stroke-width:2.0px;stroke-linecap:butt;stroke-linejoin:miter;stroke-miterlimit:10;stroke-opacity:1;\"/>\n",
       "<path d=\"M 444.3,205.0 L 443.5,202.9 L 441.2,202.5\" style=\"fill:none;stroke:#000000;stroke-width:2.0px;stroke-linecap:butt;stroke-linejoin:miter;stroke-miterlimit:10;stroke-opacity:1;\"/>\n",
       "<path d=\"M 322.1,220.3 L 322.9,222.4 L 322.4,223.1\" style=\"fill:none;stroke:#000000;stroke-width:2.0px;stroke-linecap:butt;stroke-linejoin:miter;stroke-miterlimit:10;stroke-opacity:1;\"/>\n",
       "<path d=\"M 247.5,249.0 L 247.9,249.9 L 248.8,250.1\" style=\"fill:none;stroke:#000000;stroke-width:2.0px;stroke-linecap:butt;stroke-linejoin:miter;stroke-miterlimit:10;stroke-opacity:1;\"/>\n",
       "<path d=\"M 502.5,253.8 L 504.8,254.1 L 505.8,254.3\" style=\"fill:none;stroke:#000000;stroke-width:2.0px;stroke-linecap:butt;stroke-linejoin:miter;stroke-miterlimit:10;stroke-opacity:1;\"/>\n",
       "<path d=\"M 335.2,145.5 L 336.7,143.7 L 335.9,141.5\" style=\"fill:none;stroke:#000000;stroke-width:2.0px;stroke-linecap:butt;stroke-linejoin:miter;stroke-miterlimit:10;stroke-opacity:1;\"/>\n",
       "<path d=\"M 171.5,157.5 L 170.7,155.3 L 168.4,154.9\" style=\"fill:none;stroke:#000000;stroke-width:2.0px;stroke-linecap:butt;stroke-linejoin:miter;stroke-miterlimit:10;stroke-opacity:1;\"/>\n",
       "<path d=\"M 127.5,147.8 L 125.2,147.4 L 123.7,149.2\" style=\"fill:none;stroke:#000000;stroke-width:2.0px;stroke-linecap:butt;stroke-linejoin:miter;stroke-miterlimit:10;stroke-opacity:1;\"/>\n",
       "<path d=\"M 97.1,181.0 L 95.6,182.8 L 96.4,185.0\" style=\"fill:none;stroke:#000000;stroke-width:2.0px;stroke-linecap:butt;stroke-linejoin:miter;stroke-miterlimit:10;stroke-opacity:1;\"/>\n",
       "<path d=\"M 158.4,232.3 L 156.9,234.1 L 154.7,233.7\" style=\"fill:none;stroke:#000000;stroke-width:2.0px;stroke-linecap:butt;stroke-linejoin:miter;stroke-miterlimit:10;stroke-opacity:1;\"/>\n",
       "<path class=\"atom-9\" d=\"M 229.1 200.0 L 233.4 207.0 Q 233.8 207.6, 234.5 208.9 Q 235.2 210.1, 235.2 210.2 L 235.2 200.0 L 237.0 200.0 L 237.0 213.1 L 235.2 213.1 L 230.6 205.5 Q 230.0 204.7, 229.5 203.6 Q 228.9 202.6, 228.7 202.3 L 228.7 213.1 L 227.0 213.1 L 227.0 200.0 L 229.1 200.0 \" fill=\"#0000FF\"/>\n",
       "<path class=\"atom-11\" d=\"M 290.4 251.3 L 294.7 258.2 Q 295.2 258.9, 295.8 260.2 Q 296.5 261.4, 296.6 261.5 L 296.6 251.3 L 298.3 251.3 L 298.3 264.4 L 296.5 264.4 L 291.9 256.8 Q 291.4 255.9, 290.8 254.9 Q 290.2 253.9, 290.1 253.6 L 290.1 264.4 L 288.4 264.4 L 288.4 251.3 L 290.4 251.3 \" fill=\"#0000FF\"/>\n",
       "<path class=\"atom-11\" d=\"M 300.8 251.3 L 302.6 251.3 L 302.6 256.9 L 309.3 256.9 L 309.3 251.3 L 311.1 251.3 L 311.1 264.4 L 309.3 264.4 L 309.3 258.3 L 302.6 258.3 L 302.6 264.4 L 300.8 264.4 L 300.8 251.3 \" fill=\"#0000FF\"/>\n",
       "<path class=\"atom-13\" d=\"M 547.4 255.5 L 551.7 262.5 Q 552.1 263.1, 552.8 264.4 Q 553.5 265.6, 553.5 265.7 L 553.5 255.5 L 555.2 255.5 L 555.2 268.6 L 553.4 268.6 L 548.8 261.0 Q 548.3 260.2, 547.7 259.1 Q 547.2 258.1, 547.0 257.8 L 547.0 268.6 L 545.3 268.6 L 545.3 255.5 L 547.4 255.5 \" fill=\"#0000FF\"/>\n",
       "<path class=\"atom-15\" d=\"M 48.4 290.4 L 56.1 290.4 L 56.1 291.9 L 50.1 291.9 L 50.1 295.9 L 55.5 295.9 L 55.5 297.4 L 50.1 297.4 L 50.1 303.5 L 48.4 303.5 L 48.4 290.4 \" fill=\"#33CCCC\"/>\n",
       "<path class=\"atom-16\" d=\"M 42.6 225.4 L 50.3 225.4 L 50.3 226.9 L 44.3 226.9 L 44.3 230.9 L 49.7 230.9 L 49.7 232.4 L 44.3 232.4 L 44.3 238.5 L 42.6 238.5 L 42.6 225.4 \" fill=\"#33CCCC\"/>\n",
       "<path class=\"atom-17\" d=\"M 113.4 284.6 L 121.2 284.6 L 121.2 286.1 L 115.1 286.1 L 115.1 290.1 L 120.5 290.1 L 120.5 291.6 L 115.1 291.6 L 115.1 297.7 L 113.4 297.7 L 113.4 284.6 \" fill=\"#33CCCC\"/>\n",
       "<path class=\"atom-18\" d=\"M 212.3 285.4 Q 212.3 282.2, 213.8 280.5 Q 215.4 278.7, 218.3 278.7 Q 221.2 278.7, 222.7 280.5 Q 224.3 282.2, 224.3 285.4 Q 224.3 288.5, 222.7 290.4 Q 221.1 292.1, 218.3 292.1 Q 215.4 292.1, 213.8 290.4 Q 212.3 288.6, 212.3 285.4 M 218.3 290.7 Q 220.3 290.7, 221.3 289.3 Q 222.4 288.0, 222.4 285.4 Q 222.4 282.8, 221.3 281.5 Q 220.3 280.2, 218.3 280.2 Q 216.3 280.2, 215.2 281.5 Q 214.1 282.8, 214.1 285.4 Q 214.1 288.0, 215.2 289.3 Q 216.3 290.7, 218.3 290.7 \" fill=\"#FF0000\"/>\n",
       "<path class=\"atom-28\" d=\"M 376.1 151.6 Q 376.1 148.5, 377.7 146.8 Q 379.2 145.0, 382.1 145.0 Q 385.0 145.0, 386.6 146.8 Q 388.1 148.5, 388.1 151.6 Q 388.1 154.8, 386.6 156.6 Q 385.0 158.4, 382.1 158.4 Q 379.3 158.4, 377.7 156.6 Q 376.1 154.8, 376.1 151.6 M 382.1 156.9 Q 384.1 156.9, 385.2 155.6 Q 386.3 154.3, 386.3 151.6 Q 386.3 149.1, 385.2 147.8 Q 384.1 146.5, 382.1 146.5 Q 380.1 146.5, 379.1 147.8 Q 378.0 149.1, 378.0 151.6 Q 378.0 154.3, 379.1 155.6 Q 380.1 156.9, 382.1 156.9 \" fill=\"#FF0000\"/>\n",
       "<path class=\"note\" d=\"M 464.3 243.7 Q 463.1 243.7, 462.5 242.8 Q 461.9 241.9, 461.9 240.3 Q 461.9 238.8, 462.5 237.9 Q 463.1 237.0, 464.3 237.0 Q 465.5 237.0, 466.1 237.9 Q 466.7 238.8, 466.7 240.3 Q 466.7 241.9, 466.1 242.8 Q 465.5 243.7, 464.3 243.7 M 464.3 243.0 Q 465.0 243.0, 465.4 242.3 Q 465.7 241.6, 465.7 240.3 Q 465.7 239.1, 465.4 238.4 Q 465.0 237.8, 464.3 237.8 Q 463.6 237.8, 463.2 238.4 Q 462.8 239.1, 462.8 240.3 Q 462.8 241.6, 463.2 242.3 Q 463.6 243.0, 464.3 243.0 \" fill=\"#000000\"/>\n",
       "<path class=\"note\" d=\"M 430.8 291.4 L 432.2 291.4 L 432.2 286.5 L 430.6 287.0 L 430.4 286.5 L 432.4 285.6 L 433.1 285.7 L 433.1 291.4 L 434.4 291.4 L 434.4 292.1 L 430.8 292.1 L 430.8 291.4 \" fill=\"#000000\"/>\n",
       "<path class=\"note\" d=\"M 377.2 277.6 Q 377.4 277.0, 378.0 276.7 Q 378.5 276.3, 379.3 276.3 Q 380.3 276.3, 380.9 276.8 Q 381.4 277.4, 381.4 278.3 Q 381.4 279.3, 380.7 280.2 Q 380.0 281.1, 378.5 282.2 L 381.5 282.2 L 381.5 282.9 L 377.1 282.9 L 377.1 282.3 Q 378.4 281.4, 379.1 280.8 Q 379.8 280.1, 380.2 279.6 Q 380.5 279.0, 380.5 278.4 Q 380.5 277.7, 380.2 277.4 Q 379.9 277.0, 379.3 277.0 Q 378.8 277.0, 378.5 277.3 Q 378.1 277.5, 377.9 277.9 L 377.2 277.6 \" fill=\"#000000\"/>\n",
       "<path class=\"note\" d=\"M 384.5 232.9 Q 385.1 233.1, 385.4 233.5 Q 385.8 233.9, 385.8 234.5 Q 385.8 235.1, 385.5 235.5 Q 385.2 235.9, 384.7 236.2 Q 384.2 236.4, 383.5 236.4 Q 382.8 236.4, 382.3 236.2 Q 381.8 235.9, 381.4 235.4 L 381.9 234.9 Q 382.3 235.3, 382.6 235.5 Q 383.0 235.7, 383.5 235.7 Q 384.1 235.7, 384.5 235.4 Q 384.8 235.0, 384.8 234.5 Q 384.8 233.8, 384.5 233.6 Q 384.1 233.2, 383.3 233.2 L 382.8 233.2 L 382.8 232.6 L 383.2 232.6 Q 383.9 232.6, 384.3 232.3 Q 384.7 232.0, 384.7 231.4 Q 384.7 230.9, 384.4 230.7 Q 384.1 230.4, 383.5 230.4 Q 383.0 230.4, 382.6 230.6 Q 382.3 230.8, 382.1 231.3 L 381.4 231.0 Q 381.6 230.4, 382.2 230.1 Q 382.8 229.7, 383.5 229.7 Q 384.5 229.7, 385.1 230.2 Q 385.6 230.6, 385.6 231.4 Q 385.6 231.9, 385.3 232.3 Q 385.0 232.7, 384.5 232.9 \" fill=\"#000000\"/>\n",
       "<path class=\"note\" d=\"M 397.1 188.8 L 397.9 188.8 L 397.9 189.5 L 397.1 189.5 L 397.1 191.0 L 396.2 191.0 L 396.2 189.5 L 392.8 189.5 L 392.8 188.9 L 395.7 184.5 L 397.1 184.5 L 397.1 188.8 M 393.9 188.8 L 396.2 188.8 L 396.2 185.1 L 393.9 188.8 \" fill=\"#000000\"/>\n",
       "<path class=\"note\" d=\"M 448.6 196.2 Q 449.1 196.2, 449.6 196.4 Q 450.1 196.6, 450.3 197.1 Q 450.6 197.6, 450.6 198.2 Q 450.6 198.9, 450.3 199.3 Q 450.0 199.8, 449.4 200.1 Q 448.9 200.3, 448.3 200.3 Q 447.7 200.3, 447.1 200.1 Q 446.6 199.9, 446.2 199.5 L 446.7 198.9 Q 447.1 199.2, 447.5 199.4 Q 447.9 199.6, 448.3 199.6 Q 448.9 199.6, 449.3 199.2 Q 449.7 198.9, 449.7 198.2 Q 449.7 197.5, 449.3 197.2 Q 448.9 196.8, 448.3 196.8 Q 447.7 196.8, 447.0 197.1 L 446.5 196.9 L 446.8 193.7 L 450.2 193.7 L 450.1 194.4 L 447.6 194.4 L 447.4 196.4 Q 448.0 196.2, 448.6 196.2 \" fill=\"#000000\"/>\n",
       "<path class=\"note\" d=\"M 328.2 215.8 Q 328.7 215.8, 329.2 216.0 Q 329.6 216.3, 329.9 216.7 Q 330.1 217.2, 330.1 217.7 Q 330.1 218.4, 329.8 218.9 Q 329.6 219.4, 329.1 219.6 Q 328.6 219.9, 327.9 219.9 Q 326.8 219.9, 326.2 219.1 Q 325.6 218.3, 325.6 216.8 Q 325.6 215.0, 326.3 214.1 Q 327.0 213.2, 328.4 213.2 Q 328.8 213.2, 329.2 213.3 Q 329.5 213.4, 329.9 213.6 L 329.5 214.2 Q 329.0 214.0, 328.5 214.0 Q 327.5 214.0, 327.1 214.6 Q 326.6 215.2, 326.5 216.4 Q 326.9 216.1, 327.3 215.9 Q 327.7 215.8, 328.2 215.8 M 327.9 219.2 Q 328.3 219.2, 328.6 219.0 Q 328.9 218.8, 329.0 218.5 Q 329.2 218.1, 329.2 217.7 Q 329.2 217.2, 328.9 216.8 Q 328.6 216.5, 328.0 216.5 Q 327.6 216.5, 327.2 216.7 Q 326.8 216.8, 326.5 217.1 Q 326.6 218.2, 326.9 218.7 Q 327.3 219.2, 327.9 219.2 \" fill=\"#000000\"/>\n",
       "<path class=\"note\" d=\"M 305.7 169.3 L 302.3 169.3 L 302.3 168.6 L 306.6 168.6 L 306.6 169.3 L 303.9 175.1 L 303.1 175.1 L 305.7 169.3 \" fill=\"#000000\"/>\n",
       "<path class=\"note\" d=\"M 255.0 169.7 Q 255.6 169.9, 256.0 170.3 Q 256.3 170.7, 256.3 171.4 Q 256.3 171.9, 256.0 172.3 Q 255.8 172.8, 255.2 173.0 Q 254.7 173.2, 254.1 173.2 Q 253.0 173.2, 252.3 172.7 Q 251.7 172.2, 251.7 171.4 Q 251.7 170.8, 252.0 170.4 Q 252.3 170.0, 252.8 169.7 Q 252.4 169.5, 252.2 169.1 Q 252.0 168.8, 252.0 168.2 Q 252.0 167.4, 252.5 167.0 Q 253.1 166.5, 254.0 166.5 Q 255.0 166.5, 255.5 167.0 Q 256.1 167.4, 256.1 168.2 Q 256.1 168.7, 255.8 169.1 Q 255.6 169.4, 255.0 169.7 M 254.0 167.2 Q 253.5 167.2, 253.2 167.5 Q 252.9 167.7, 252.9 168.2 Q 252.9 168.6, 253.1 168.8 Q 253.3 169.0, 253.6 169.1 Q 253.9 169.3, 254.4 169.5 Q 254.8 169.2, 255.0 168.9 Q 255.2 168.6, 255.2 168.2 Q 255.2 167.7, 254.9 167.5 Q 254.6 167.2, 254.0 167.2 M 254.1 172.5 Q 254.7 172.5, 255.0 172.2 Q 255.4 171.9, 255.4 171.3 Q 255.4 171.0, 255.2 170.8 Q 255.0 170.6, 254.7 170.4 Q 254.4 170.3, 253.9 170.1 L 253.5 170.0 Q 253.0 170.3, 252.8 170.6 Q 252.6 170.9, 252.6 171.3 Q 252.6 171.9, 253.0 172.2 Q 253.4 172.5, 254.1 172.5 \" fill=\"#000000\"/>\n",
       "<path class=\"note\" d=\"M 247.1 205.9 Q 248.2 205.9, 248.8 206.7 Q 249.4 207.5, 249.4 209.1 Q 249.4 210.8, 248.7 211.7 Q 248.0 212.6, 246.6 212.6 Q 246.2 212.6, 245.8 212.5 Q 245.5 212.4, 245.1 212.2 L 245.5 211.6 Q 246.0 211.9, 246.6 211.9 Q 247.5 211.9, 248.0 211.3 Q 248.4 210.7, 248.5 209.4 Q 248.2 209.7, 247.7 209.9 Q 247.3 210.1, 246.9 210.1 Q 246.3 210.1, 245.8 209.8 Q 245.4 209.6, 245.1 209.1 Q 244.9 208.7, 244.9 208.1 Q 244.9 207.5, 245.2 207.0 Q 245.4 206.5, 245.9 206.2 Q 246.4 205.9, 247.1 205.9 M 245.8 208.1 Q 245.8 208.7, 246.1 209.0 Q 246.5 209.3, 247.0 209.3 Q 247.4 209.3, 247.8 209.2 Q 248.2 209.0, 248.5 208.7 Q 248.4 207.7, 248.1 207.2 Q 247.8 206.7, 247.1 206.7 Q 246.7 206.7, 246.4 206.9 Q 246.1 207.0, 246.0 207.4 Q 245.8 207.7, 245.8 208.1 \" fill=\"#000000\"/>\n",
       "<path class=\"note\" d=\"M 253.3 240.7 L 254.7 240.7 L 254.7 235.8 L 253.2 236.3 L 253.0 235.7 L 255.0 234.8 L 255.6 235.0 L 255.6 240.7 L 256.9 240.7 L 256.9 241.4 L 253.3 241.4 L 253.3 240.7 \" fill=\"#000000\"/>\n",
       "<path class=\"note\" d=\"M 260.1 241.5 Q 258.9 241.5, 258.3 240.6 Q 257.7 239.7, 257.7 238.1 Q 257.7 236.6, 258.3 235.7 Q 258.9 234.8, 260.1 234.8 Q 261.3 234.8, 261.9 235.7 Q 262.5 236.6, 262.5 238.1 Q 262.5 239.7, 261.9 240.6 Q 261.3 241.5, 260.1 241.5 M 260.1 240.8 Q 260.8 240.8, 261.2 240.1 Q 261.6 239.4, 261.6 238.1 Q 261.6 236.9, 261.2 236.2 Q 260.8 235.5, 260.1 235.5 Q 259.4 235.5, 259.0 236.2 Q 258.6 236.9, 258.6 238.1 Q 258.6 239.4, 259.0 240.1 Q 259.4 240.8, 260.1 240.8 \" fill=\"#000000\"/>\n",
       "<path class=\"note\" d=\"M 284.1 245.9 L 285.5 245.9 L 285.5 241.1 L 283.9 241.6 L 283.7 241.0 L 285.7 240.1 L 286.4 240.2 L 286.4 245.9 L 287.7 245.9 L 287.7 246.7 L 284.1 246.7 L 284.1 245.9 \" fill=\"#000000\"/>\n",
       "<path class=\"note\" d=\"M 288.8 245.9 L 290.2 245.9 L 290.2 241.1 L 288.6 241.6 L 288.4 241.0 L 290.4 240.1 L 291.1 240.2 L 291.1 245.9 L 292.4 245.9 L 292.4 246.7 L 288.8 246.7 L 288.8 245.9 \" fill=\"#000000\"/>\n",
       "<path class=\"note\" d=\"M 503.2 241.6 L 504.7 241.6 L 504.7 236.7 L 503.1 237.2 L 502.9 236.6 L 504.9 235.7 L 505.5 235.8 L 505.5 241.6 L 506.8 241.6 L 506.8 242.3 L 503.2 242.3 L 503.2 241.6 \" fill=\"#000000\"/>\n",
       "<path class=\"note\" d=\"M 507.6 237.0 Q 507.9 236.4, 508.5 236.0 Q 509.0 235.7, 509.8 235.7 Q 510.8 235.7, 511.4 236.2 Q 511.9 236.8, 511.9 237.7 Q 511.9 238.7, 511.2 239.6 Q 510.5 240.5, 509.0 241.6 L 512.0 241.6 L 512.0 242.3 L 507.6 242.3 L 507.6 241.7 Q 508.8 240.8, 509.6 240.2 Q 510.3 239.5, 510.6 238.9 Q 511.0 238.4, 511.0 237.8 Q 511.0 237.1, 510.7 236.8 Q 510.4 236.4, 509.8 236.4 Q 509.3 236.4, 508.9 236.6 Q 508.6 236.9, 508.3 237.3 L 507.6 237.0 \" fill=\"#000000\"/>\n",
       "<path class=\"note\" d=\"M 561.2 267.3 L 562.7 267.3 L 562.7 262.4 L 561.1 262.9 L 560.9 262.3 L 562.9 261.5 L 563.5 261.6 L 563.5 267.3 L 564.8 267.3 L 564.8 268.0 L 561.2 268.0 L 561.2 267.3 \" fill=\"#000000\"/>\n",
       "<path class=\"note\" d=\"M 568.7 264.6 Q 569.4 264.8, 569.7 265.2 Q 570.0 265.6, 570.0 266.2 Q 570.0 266.8, 569.7 267.2 Q 569.4 267.6, 568.9 267.9 Q 568.4 268.1, 567.8 268.1 Q 567.1 268.1, 566.5 267.9 Q 566.0 267.6, 565.6 267.1 L 566.1 266.6 Q 566.5 267.0, 566.9 267.2 Q 567.2 267.4, 567.8 267.4 Q 568.4 267.4, 568.7 267.1 Q 569.1 266.7, 569.1 266.2 Q 569.1 265.6, 568.7 265.3 Q 568.3 265.0, 567.5 265.0 L 567.1 265.0 L 567.1 264.3 L 567.5 264.3 Q 568.2 264.3, 568.6 264.0 Q 568.9 263.7, 568.9 263.1 Q 568.9 262.7, 568.6 262.4 Q 568.3 262.2, 567.8 262.2 Q 567.2 262.2, 566.9 262.3 Q 566.6 262.5, 566.3 263.0 L 565.7 262.7 Q 565.9 262.1, 566.4 261.8 Q 567.0 261.4, 567.8 261.4 Q 568.7 261.4, 569.3 261.9 Q 569.9 262.3, 569.9 263.1 Q 569.9 263.6, 569.6 264.0 Q 569.3 264.4, 568.7 264.6 \" fill=\"#000000\"/>\n",
       "<path class=\"note\" d=\"M 62.0 265.5 L 63.4 265.5 L 63.4 260.6 L 61.8 261.1 L 61.6 260.5 L 63.6 259.6 L 64.3 259.7 L 64.3 265.5 L 65.6 265.5 L 65.6 266.2 L 62.0 266.2 L 62.0 265.5 \" fill=\"#000000\"/>\n",
       "<path class=\"note\" d=\"M 70.7 264.0 L 71.4 264.0 L 71.4 264.7 L 70.7 264.7 L 70.7 266.2 L 69.8 266.2 L 69.8 264.7 L 66.4 264.7 L 66.4 264.1 L 69.3 259.7 L 70.7 259.7 L 70.7 264.0 M 67.5 264.0 L 69.8 264.0 L 69.8 260.3 L 67.5 264.0 \" fill=\"#000000\"/>\n",
       "<path class=\"note\" d=\"M 33.6 304.8 L 35.0 304.8 L 35.0 299.9 L 33.4 300.4 L 33.2 299.9 L 35.2 299.0 L 35.9 299.1 L 35.9 304.8 L 37.2 304.8 L 37.2 305.5 L 33.6 305.5 L 33.6 304.8 \" fill=\"#000000\"/>\n",
       "<path class=\"note\" d=\"M 40.3 301.4 Q 40.9 301.4, 41.4 301.7 Q 41.9 301.9, 42.1 302.4 Q 42.4 302.8, 42.4 303.5 Q 42.4 304.1, 42.1 304.6 Q 41.7 305.1, 41.2 305.4 Q 40.7 305.6, 40.1 305.6 Q 39.5 305.6, 38.9 305.4 Q 38.4 305.2, 38.0 304.7 L 38.5 304.2 Q 38.8 304.5, 39.2 304.7 Q 39.7 304.9, 40.1 304.9 Q 40.7 304.9, 41.1 304.5 Q 41.5 304.1, 41.5 303.5 Q 41.5 302.8, 41.1 302.5 Q 40.7 302.1, 40.0 302.1 Q 39.5 302.1, 38.8 302.4 L 38.3 302.1 L 38.6 299.0 L 42.0 299.0 L 41.9 299.7 L 39.4 299.7 L 39.2 301.7 Q 39.8 301.4, 40.3 301.4 \" fill=\"#000000\"/>\n",
       "<path class=\"note\" d=\"M 30.4 224.6 L 31.8 224.6 L 31.8 219.8 L 30.2 220.3 L 30.0 219.7 L 32.0 218.8 L 32.7 218.9 L 32.7 224.6 L 33.9 224.6 L 33.9 225.4 L 30.4 225.4 L 30.4 224.6 \" fill=\"#000000\"/>\n",
       "<path class=\"note\" d=\"M 37.3 221.3 Q 37.9 221.3, 38.3 221.6 Q 38.8 221.8, 39.0 222.3 Q 39.3 222.7, 39.3 223.3 Q 39.3 223.9, 39.0 224.4 Q 38.7 224.9, 38.2 225.2 Q 37.7 225.5, 37.1 225.5 Q 35.9 225.5, 35.3 224.7 Q 34.8 223.9, 34.8 222.3 Q 34.8 220.6, 35.5 219.7 Q 36.2 218.8, 37.6 218.8 Q 38.0 218.8, 38.3 218.9 Q 38.7 219.0, 39.0 219.2 L 38.7 219.8 Q 38.2 219.5, 37.6 219.5 Q 36.7 219.5, 36.2 220.1 Q 35.7 220.7, 35.7 221.9 Q 36.0 221.6, 36.4 221.5 Q 36.9 221.3, 37.3 221.3 M 37.1 224.7 Q 37.4 224.7, 37.7 224.5 Q 38.0 224.3, 38.2 224.0 Q 38.4 223.7, 38.4 223.3 Q 38.4 222.7, 38.0 222.4 Q 37.7 222.0, 37.1 222.0 Q 36.7 222.0, 36.3 222.2 Q 36.0 222.4, 35.7 222.6 Q 35.7 223.7, 36.1 224.2 Q 36.4 224.7, 37.1 224.7 \" fill=\"#000000\"/>\n",
       "<path class=\"note\" d=\"M 124.9 303.6 L 126.3 303.6 L 126.3 298.7 L 124.7 299.2 L 124.5 298.6 L 126.5 297.7 L 127.2 297.8 L 127.2 303.6 L 128.5 303.6 L 128.5 304.3 L 124.9 304.3 L 124.9 303.6 \" fill=\"#000000\"/>\n",
       "<path class=\"note\" d=\"M 132.7 298.5 L 129.3 298.5 L 129.3 297.8 L 133.6 297.8 L 133.6 298.4 L 131.0 304.3 L 130.1 304.3 L 132.7 298.5 \" fill=\"#000000\"/>\n",
       "<path class=\"note\" d=\"M 199.5 293.2 L 200.9 293.2 L 200.9 288.3 L 199.3 288.8 L 199.1 288.2 L 201.1 287.4 L 201.8 287.5 L 201.8 293.2 L 203.1 293.2 L 203.1 293.9 L 199.5 293.9 L 199.5 293.2 \" fill=\"#000000\"/>\n",
       "<path class=\"note\" d=\"M 207.2 290.5 Q 207.8 290.7, 208.2 291.1 Q 208.5 291.5, 208.5 292.1 Q 208.5 292.7, 208.2 293.1 Q 207.9 293.5, 207.4 293.8 Q 206.9 294.0, 206.2 294.0 Q 205.1 294.0, 204.5 293.5 Q 203.9 293.0, 203.9 292.1 Q 203.9 291.6, 204.2 291.2 Q 204.4 290.8, 205.0 290.5 Q 204.6 290.3, 204.4 289.9 Q 204.1 289.5, 204.1 289.0 Q 204.1 288.2, 204.7 287.8 Q 205.2 287.3, 206.2 287.3 Q 207.1 287.3, 207.7 287.8 Q 208.3 288.2, 208.3 289.0 Q 208.3 289.5, 208.0 289.8 Q 207.7 290.2, 207.2 290.5 M 206.2 288.0 Q 205.7 288.0, 205.3 288.3 Q 205.1 288.5, 205.1 289.0 Q 205.1 289.3, 205.3 289.6 Q 205.5 289.8, 205.7 289.9 Q 206.0 290.0, 206.6 290.2 Q 207.0 290.0, 207.2 289.7 Q 207.3 289.4, 207.3 289.0 Q 207.3 288.5, 207.0 288.3 Q 206.7 288.0, 206.2 288.0 M 206.2 293.3 Q 206.8 293.3, 207.2 293.0 Q 207.6 292.7, 207.6 292.1 Q 207.6 291.8, 207.4 291.6 Q 207.2 291.3, 206.9 291.2 Q 206.6 291.1, 206.1 290.9 L 205.7 290.8 Q 205.2 291.0, 205.0 291.4 Q 204.8 291.7, 204.8 292.1 Q 204.8 292.7, 205.2 293.0 Q 205.6 293.3, 206.2 293.3 \" fill=\"#000000\"/>\n",
       "<path class=\"note\" d=\"M 317.2 143.6 L 318.7 143.6 L 318.7 138.7 L 317.1 139.2 L 316.9 138.7 L 318.9 137.8 L 319.5 137.9 L 319.5 143.6 L 320.8 143.6 L 320.8 144.3 L 317.2 144.3 L 317.2 143.6 \" fill=\"#000000\"/>\n",
       "<path class=\"note\" d=\"M 323.8 137.7 Q 325.0 137.7, 325.6 138.5 Q 326.2 139.3, 326.2 140.9 Q 326.2 142.6, 325.4 143.5 Q 324.7 144.4, 323.3 144.4 Q 322.9 144.4, 322.6 144.3 Q 322.2 144.2, 321.9 144.0 L 322.2 143.4 Q 322.7 143.7, 323.3 143.7 Q 324.2 143.7, 324.7 143.1 Q 325.2 142.5, 325.2 141.3 Q 324.9 141.6, 324.5 141.7 Q 324.0 141.9, 323.6 141.9 Q 323.0 141.9, 322.6 141.6 Q 322.1 141.4, 321.9 140.9 Q 321.6 140.5, 321.6 139.9 Q 321.6 139.3, 321.9 138.8 Q 322.2 138.3, 322.7 138.0 Q 323.2 137.7, 323.8 137.7 M 322.5 139.9 Q 322.5 140.5, 322.9 140.8 Q 323.2 141.2, 323.8 141.2 Q 324.2 141.2, 324.5 141.0 Q 324.9 140.8, 325.2 140.6 Q 325.2 139.5, 324.8 139.0 Q 324.5 138.5, 323.8 138.5 Q 323.5 138.5, 323.2 138.7 Q 322.9 138.9, 322.7 139.2 Q 322.5 139.5, 322.5 139.9 \" fill=\"#000000\"/>\n",
       "<path class=\"note\" d=\"M 191.3 184.9 Q 191.6 184.2, 192.1 183.9 Q 192.7 183.5, 193.5 183.5 Q 194.5 183.5, 195.0 184.1 Q 195.6 184.6, 195.6 185.6 Q 195.6 186.5, 194.9 187.4 Q 194.2 188.3, 192.7 189.4 L 195.7 189.4 L 195.7 190.2 L 191.3 190.2 L 191.3 189.5 Q 192.5 188.7, 193.2 188.0 Q 194.0 187.4, 194.3 186.8 Q 194.7 186.2, 194.7 185.6 Q 194.7 185.0, 194.4 184.6 Q 194.0 184.3, 193.5 184.3 Q 193.0 184.3, 192.6 184.5 Q 192.3 184.7, 192.0 185.2 L 191.3 184.9 \" fill=\"#000000\"/>\n",
       "<path class=\"note\" d=\"M 199.1 190.2 Q 197.9 190.2, 197.3 189.3 Q 196.7 188.5, 196.7 186.9 Q 196.7 185.3, 197.3 184.4 Q 197.9 183.5, 199.1 183.5 Q 200.3 183.5, 200.9 184.4 Q 201.5 185.3, 201.5 186.9 Q 201.5 188.5, 200.9 189.3 Q 200.3 190.2, 199.1 190.2 M 199.1 189.5 Q 199.8 189.5, 200.2 188.8 Q 200.6 188.2, 200.6 186.9 Q 200.6 185.6, 200.2 184.9 Q 199.8 184.3, 199.1 184.3 Q 198.4 184.3, 198.0 184.9 Q 197.6 185.6, 197.6 186.9 Q 197.6 188.2, 198.0 188.8 Q 198.4 189.5, 199.1 189.5 \" fill=\"#000000\"/>\n",
       "<path class=\"note\" d=\"M 171.0 147.4 Q 171.2 146.8, 171.8 146.5 Q 172.3 146.1, 173.1 146.1 Q 174.1 146.1, 174.7 146.6 Q 175.2 147.2, 175.2 148.1 Q 175.2 149.1, 174.5 150.0 Q 173.8 150.9, 172.3 152.0 L 175.3 152.0 L 175.3 152.7 L 170.9 152.7 L 170.9 152.1 Q 172.2 151.2, 172.9 150.6 Q 173.6 149.9, 174.0 149.4 Q 174.3 148.8, 174.3 148.2 Q 174.3 147.5, 174.0 147.2 Q 173.7 146.8, 173.1 146.8 Q 172.6 146.8, 172.3 147.1 Q 171.9 147.3, 171.7 147.7 L 171.0 147.4 \" fill=\"#000000\"/>\n",
       "<path class=\"note\" d=\"M 176.7 152.0 L 178.1 152.0 L 178.1 147.1 L 176.5 147.6 L 176.3 147.0 L 178.3 146.1 L 179.0 146.3 L 179.0 152.0 L 180.3 152.0 L 180.3 152.7 L 176.7 152.7 L 176.7 152.0 \" fill=\"#000000\"/>\n",
       "<path class=\"note\" d=\"M 117.7 138.2 Q 117.9 137.5, 118.5 137.2 Q 119.1 136.9, 119.8 136.9 Q 120.8 136.9, 121.4 137.4 Q 121.9 137.9, 121.9 138.9 Q 121.9 139.8, 121.2 140.7 Q 120.5 141.7, 119.0 142.7 L 122.1 142.7 L 122.1 143.5 L 117.6 143.5 L 117.6 142.8 Q 118.9 142.0, 119.6 141.3 Q 120.3 140.7, 120.7 140.1 Q 121.0 139.5, 121.0 138.9 Q 121.0 138.3, 120.7 137.9 Q 120.4 137.6, 119.8 137.6 Q 119.3 137.6, 119.0 137.8 Q 118.6 138.0, 118.4 138.5 L 117.7 138.2 \" fill=\"#000000\"/>\n",
       "<path class=\"note\" d=\"M 123.1 138.2 Q 123.3 137.5, 123.9 137.2 Q 124.4 136.9, 125.2 136.9 Q 126.2 136.9, 126.8 137.4 Q 127.3 137.9, 127.3 138.9 Q 127.3 139.8, 126.6 140.7 Q 125.9 141.7, 124.4 142.7 L 127.4 142.7 L 127.4 143.5 L 123.0 143.5 L 123.0 142.8 Q 124.3 142.0, 125.0 141.3 Q 125.7 140.7, 126.1 140.1 Q 126.4 139.5, 126.4 138.9 Q 126.4 138.3, 126.1 137.9 Q 125.8 137.6, 125.2 137.6 Q 124.7 137.6, 124.4 137.8 Q 124.0 138.0, 123.8 138.5 L 123.1 138.2 \" fill=\"#000000\"/>\n",
       "<path class=\"note\" d=\"M 83.1 179.5 Q 83.4 178.9, 83.9 178.5 Q 84.5 178.2, 85.3 178.2 Q 86.3 178.2, 86.9 178.7 Q 87.4 179.2, 87.4 180.2 Q 87.4 181.2, 86.7 182.1 Q 86.0 183.0, 84.5 184.0 L 87.5 184.0 L 87.5 184.8 L 83.1 184.8 L 83.1 184.2 Q 84.3 183.3, 85.1 182.6 Q 85.8 182.0, 86.1 181.4 Q 86.5 180.8, 86.5 180.2 Q 86.5 179.6, 86.2 179.3 Q 85.9 178.9, 85.3 178.9 Q 84.8 178.9, 84.4 179.1 Q 84.1 179.3, 83.8 179.8 L 83.1 179.5 \" fill=\"#000000\"/>\n",
       "<path class=\"note\" d=\"M 91.7 181.3 Q 92.3 181.5, 92.6 181.9 Q 92.9 182.3, 92.9 183.0 Q 92.9 183.5, 92.6 184.0 Q 92.4 184.4, 91.8 184.6 Q 91.3 184.9, 90.7 184.9 Q 90.0 184.9, 89.4 184.6 Q 88.9 184.4, 88.5 183.9 L 89.0 183.3 Q 89.4 183.8, 89.8 184.0 Q 90.1 184.1, 90.7 184.1 Q 91.3 184.1, 91.6 183.8 Q 92.0 183.5, 92.0 183.0 Q 92.0 182.3, 91.6 182.0 Q 91.2 181.7, 90.4 181.7 L 90.0 181.7 L 90.0 181.0 L 90.4 181.0 Q 91.1 181.0, 91.5 180.7 Q 91.8 180.4, 91.8 179.8 Q 91.8 179.4, 91.5 179.2 Q 91.2 178.9, 90.7 178.9 Q 90.1 178.9, 89.8 179.1 Q 89.5 179.3, 89.2 179.8 L 88.6 179.4 Q 88.8 178.9, 89.4 178.5 Q 89.9 178.2, 90.7 178.2 Q 91.6 178.2, 92.2 178.6 Q 92.8 179.1, 92.8 179.8 Q 92.8 180.4, 92.5 180.7 Q 92.2 181.1, 91.7 181.3 \" fill=\"#000000\"/>\n",
       "<path class=\"note\" d=\"M 91.1 221.5 Q 91.3 220.9, 91.9 220.5 Q 92.5 220.2, 93.3 220.2 Q 94.3 220.2, 94.8 220.7 Q 95.4 221.3, 95.4 222.2 Q 95.4 223.2, 94.6 224.1 Q 93.9 225.0, 92.5 226.1 L 95.5 226.1 L 95.5 226.8 L 91.1 226.8 L 91.1 226.2 Q 92.3 225.3, 93.0 224.7 Q 93.7 224.0, 94.1 223.4 Q 94.4 222.9, 94.4 222.3 Q 94.4 221.6, 94.1 221.3 Q 93.8 220.9, 93.3 220.9 Q 92.7 220.9, 92.4 221.1 Q 92.0 221.3, 91.8 221.8 L 91.1 221.5 \" fill=\"#000000\"/>\n",
       "<path class=\"note\" d=\"M 100.7 224.6 L 101.5 224.6 L 101.5 225.3 L 100.7 225.3 L 100.7 226.8 L 99.9 226.8 L 99.9 225.3 L 96.5 225.3 L 96.5 224.7 L 99.4 220.3 L 100.7 220.3 L 100.7 224.6 M 97.6 224.6 L 99.9 224.6 L 99.9 220.9 L 97.6 224.6 \" fill=\"#000000\"/>\n",
       "<path class=\"note\" d=\"M 154.7 239.3 Q 154.9 238.7, 155.5 238.3 Q 156.1 238.0, 156.9 238.0 Q 157.8 238.0, 158.4 238.5 Q 159.0 239.1, 159.0 240.0 Q 159.0 241.0, 158.2 241.9 Q 157.5 242.8, 156.0 243.9 L 159.1 243.9 L 159.1 244.6 L 154.7 244.6 L 154.7 244.0 Q 155.9 243.1, 156.6 242.5 Q 157.3 241.8, 157.7 241.2 Q 158.0 240.6, 158.0 240.0 Q 158.0 239.4, 157.7 239.1 Q 157.4 238.7, 156.9 238.7 Q 156.3 238.7, 156.0 238.9 Q 155.6 239.1, 155.4 239.6 L 154.7 239.3 \" fill=\"#000000\"/>\n",
       "<path class=\"note\" d=\"M 162.4 240.5 Q 163.0 240.5, 163.5 240.8 Q 163.9 241.0, 164.2 241.5 Q 164.5 241.9, 164.5 242.5 Q 164.5 243.2, 164.2 243.7 Q 163.8 244.2, 163.3 244.4 Q 162.8 244.7, 162.1 244.7 Q 161.5 244.7, 161.0 244.4 Q 160.4 244.2, 160.1 243.8 L 160.6 243.2 Q 160.9 243.6, 161.3 243.7 Q 161.7 243.9, 162.2 243.9 Q 162.8 243.9, 163.2 243.6 Q 163.6 243.2, 163.6 242.5 Q 163.6 241.8, 163.2 241.5 Q 162.8 241.2, 162.1 241.2 Q 161.5 241.2, 160.9 241.4 L 160.4 241.2 L 160.7 238.1 L 164.1 238.1 L 164.0 238.8 L 161.5 238.8 L 161.3 240.7 Q 161.9 240.5, 162.4 240.5 \" fill=\"#000000\"/>\n",
       "<path class=\"note\" d=\"M 248.0 123.2 Q 248.2 122.6, 248.8 122.2 Q 249.4 121.9, 250.2 121.9 Q 251.2 121.9, 251.7 122.4 Q 252.3 122.9, 252.3 123.9 Q 252.3 124.9, 251.6 125.8 Q 250.8 126.7, 249.4 127.7 L 252.4 127.7 L 252.4 128.5 L 248.0 128.5 L 248.0 127.9 Q 249.2 127.0, 249.9 126.4 Q 250.7 125.7, 251.0 125.1 Q 251.4 124.5, 251.4 123.9 Q 251.4 123.3, 251.0 123.0 Q 250.7 122.6, 250.2 122.6 Q 249.7 122.6, 249.3 122.8 Q 249.0 123.0, 248.7 123.5 L 248.0 123.2 \" fill=\"#000000\"/>\n",
       "<path class=\"note\" d=\"M 255.9 124.4 Q 256.5 124.4, 257.0 124.7 Q 257.4 124.9, 257.7 125.4 Q 257.9 125.8, 257.9 126.4 Q 257.9 127.0, 257.6 127.5 Q 257.4 128.0, 256.9 128.3 Q 256.4 128.6, 255.7 128.6 Q 254.6 128.6, 254.0 127.8 Q 253.4 127.0, 253.4 125.4 Q 253.4 123.7, 254.1 122.8 Q 254.8 121.9, 256.2 121.9 Q 256.6 121.9, 257.0 122.0 Q 257.3 122.1, 257.7 122.3 L 257.3 122.9 Q 256.8 122.6, 256.2 122.6 Q 255.3 122.6, 254.8 123.2 Q 254.4 123.8, 254.3 125.0 Q 254.7 124.7, 255.1 124.6 Q 255.5 124.4, 255.9 124.4 M 255.7 127.8 Q 256.1 127.8, 256.4 127.6 Q 256.7 127.4, 256.8 127.1 Q 257.0 126.8, 257.0 126.4 Q 257.0 125.8, 256.7 125.5 Q 256.4 125.1, 255.8 125.1 Q 255.4 125.1, 255.0 125.3 Q 254.6 125.5, 254.3 125.7 Q 254.4 126.8, 254.7 127.3 Q 255.0 127.8, 255.7 127.8 \" fill=\"#000000\"/>\n",
       "<path class=\"note\" d=\"M 323.2 95.7 Q 323.4 95.1, 324.0 94.7 Q 324.6 94.4, 325.4 94.4 Q 326.3 94.4, 326.9 94.9 Q 327.4 95.5, 327.4 96.4 Q 327.4 97.4, 326.7 98.3 Q 326.0 99.2, 324.5 100.3 L 327.6 100.3 L 327.6 101.0 L 323.2 101.0 L 323.2 100.4 Q 324.4 99.5, 325.1 98.9 Q 325.8 98.2, 326.2 97.6 Q 326.5 97.1, 326.5 96.5 Q 326.5 95.8, 326.2 95.5 Q 325.9 95.1, 325.4 95.1 Q 324.8 95.1, 324.5 95.3 Q 324.1 95.6, 323.9 96.0 L 323.2 95.7 \" fill=\"#000000\"/>\n",
       "<path class=\"note\" d=\"M 332.0 95.2 L 328.5 95.2 L 328.5 94.5 L 332.9 94.5 L 332.9 95.1 L 330.2 101.0 L 329.4 101.0 L 332.0 95.2 \" fill=\"#000000\"/>\n",
       "<path class=\"note\" d=\"M 392.3 152.3 Q 392.5 151.6, 393.1 151.3 Q 393.7 150.9, 394.5 150.9 Q 395.5 150.9, 396.0 151.5 Q 396.6 152.0, 396.6 153.0 Q 396.6 153.9, 395.9 154.8 Q 395.1 155.7, 393.7 156.8 L 396.7 156.8 L 396.7 157.6 L 392.3 157.6 L 392.3 156.9 Q 393.5 156.1, 394.2 155.4 Q 394.9 154.8, 395.3 154.2 Q 395.6 153.6, 395.6 153.0 Q 395.6 152.4, 395.3 152.0 Q 395.0 151.7, 394.5 151.7 Q 393.9 151.7, 393.6 151.9 Q 393.2 152.1, 393.0 152.6 L 392.3 152.3 \" fill=\"#000000\"/>\n",
       "<path class=\"note\" d=\"M 401.0 154.1 Q 401.6 154.4, 402.0 154.7 Q 402.3 155.1, 402.3 155.8 Q 402.3 156.3, 402.0 156.8 Q 401.7 157.2, 401.2 157.4 Q 400.7 157.7, 400.0 157.7 Q 398.9 157.7, 398.3 157.2 Q 397.7 156.6, 397.7 155.8 Q 397.7 155.2, 398.0 154.8 Q 398.2 154.4, 398.8 154.1 Q 398.4 153.9, 398.2 153.5 Q 397.9 153.2, 397.9 152.6 Q 397.9 151.9, 398.5 151.4 Q 399.0 150.9, 400.0 150.9 Q 400.9 150.9, 401.5 151.4 Q 402.1 151.9, 402.1 152.6 Q 402.1 153.1, 401.8 153.5 Q 401.5 153.8, 401.0 154.1 M 400.0 151.6 Q 399.4 151.6, 399.1 151.9 Q 398.8 152.2, 398.8 152.6 Q 398.8 153.0, 399.1 153.2 Q 399.3 153.4, 399.5 153.5 Q 399.8 153.7, 400.4 153.9 Q 400.8 153.6, 401.0 153.3 Q 401.1 153.0, 401.1 152.6 Q 401.1 152.2, 400.8 151.9 Q 400.5 151.6, 400.0 151.6 M 400.0 157.0 Q 400.6 157.0, 401.0 156.6 Q 401.4 156.3, 401.4 155.8 Q 401.4 155.4, 401.2 155.2 Q 401.0 155.0, 400.7 154.8 Q 400.4 154.7, 399.9 154.5 L 399.5 154.4 Q 399.0 154.7, 398.8 155.0 Q 398.6 155.3, 398.6 155.8 Q 398.6 156.3, 399.0 156.6 Q 399.4 157.0, 400.0 157.0 \" fill=\"#000000\"/>\n",
       "</svg></div></div>"
      ],
      "text/plain": [
       "<IPython.core.display.HTML object>"
      ]
     },
     "execution_count": 15,
     "metadata": {},
     "output_type": "execute_result"
    }
   ],
   "source": [
    "m1 = read_sdf(\"HNE_Ref.sdf\")\n",
    "m2 = read_sdf(\"HNE_2.sdf\")\n",
    "draw_mols([m1, m2], width=600)"
   ]
  },
  {
   "cell_type": "markdown",
   "id": "04a76dfb",
   "metadata": {},
   "source": [
    "## Transfer .MOL file to .SDF File"
   ]
  },
  {
   "cell_type": "code",
   "execution_count": 22,
   "id": "fb9aa170",
   "metadata": {},
   "outputs": [
    {
     "data": {
      "text/plain": [
       "'/home/lccdp/Projects/clion/Uni-Dock2/unidock/unidock_engine/examples/align_Bace/test_all_rings.sdf'"
      ]
     },
     "execution_count": 22,
     "metadata": {},
     "output_type": "execute_result"
    }
   ],
   "source": [
    "def transfer_mol_to_sdf(mol_file_path):\n",
    "    fp_sdf = mol_file_path.replace(\".mol\", \".sdf\")\n",
    "    mol = Chem.MolFromMolFile(mol_file_path)\n",
    "    Chem.MolToMolFile(mol, fp_sdf)\n",
    "    return fp_sdf\n",
    "\n",
    "transfer_mol_to_sdf(\"/home/lccdp/Projects/clion/Uni-Dock2/unidock/unidock_engine/examples/align_Bace/test_all_rings.mol\")"
   ]
  },
  {
   "cell_type": "code",
   "execution_count": null,
   "id": "eef31cf2",
   "metadata": {},
   "outputs": [],
   "source": []
  },
  {
   "cell_type": "code",
   "execution_count": null,
   "id": "4a14b8d8",
   "metadata": {},
   "outputs": [],
   "source": []
  },
  {
   "cell_type": "markdown",
   "id": "1a35e0d3",
   "metadata": {},
   "source": [
    "# 自动流程筛选测试cases"
   ]
  },
  {
   "cell_type": "markdown",
   "id": "c51824d1",
   "metadata": {},
   "source": [
    "## Get Cases from Rongfeng HuoShan"
   ]
  },
  {
   "cell_type": "code",
   "execution_count": null,
   "id": "550219fe",
   "metadata": {},
   "outputs": [],
   "source": [
    "import json\n",
    "import os\n",
    "import shutil\n",
    "\n",
    "dp_res = os.path.abspath(\"vina_bad_zalign\")\n",
    "fp = \"vina_bad.dat\"\n",
    "with open(fp, \"r\") as f:\n",
    "    data = f.readlines()\n",
    "    dict_chembl_id_count = dict()\n",
    "\n",
    "for d in data:\n",
    "    try:\n",
    "        line = d.strip()\n",
    "        dp = os.path.dirname(line)\n",
    "        fn = os.path.basename(line)\n",
    "        chembl_id = os.path.basename(dp)\n",
    "\n",
    "        fp_json = os.path.join(dp, \"1/docking_tree.json\")\n",
    "        with open(fp_json, \"r\") as f:\n",
    "            data_tree = json.load(f)\n",
    "        \n",
    "        target = fn.split(\"_3d_dock\")[0].strip()\n",
    "        source = [d[\"source\"] for d in data_tree[\"edges\"] if d[\"target\"] == target][0].strip()\n",
    "        \n",
    "        fp_target = os.path.join(dp, f\"{target}.sdf\")\n",
    "        fp_target_dock = os.path.join(dp, f\"{target}_3d_dock.sdf\")\n",
    "        fp_source = os.path.join(dp, f\"{source}.sdf\")\n",
    "        fp_source_dock = os.path.join(dp, f\"{source}_3d_dock.sdf\")\n",
    "        fp_pdb = os.path.join(dp, [a for a in os.listdir(dp) if a.endswith(\".pdb\")][0])\n",
    "        \n",
    "        if dict_chembl_id_count.get(chembl_id, 0) == 0:\n",
    "            dict_chembl_id_count[chembl_id] = 1\n",
    "        else:\n",
    "            dict_chembl_id_count[chembl_id] += 1\n",
    "\n",
    "    \n",
    "        dp_pair = os.path.join(dp_res, f\"{chembl_id}_{dict_chembl_id_count[chembl_id]}\")\n",
    "        os.makedirs(dp_pair, exist_ok=True)\n",
    "\n",
    "        shutil.copy(fp_target, os.path.join(dp_pair, f\"q_{target}.sdf\"))\n",
    "        shutil.copy(fp_target_dock, os.path.join(dp_pair, f\"q_{target}_3d_dock.sdf\"))\n",
    "        shutil.copy(fp_source, os.path.join(dp_pair, f\"t_{source}.sdf\"))\n",
    "        shutil.copy(fp_source_dock, os.path.join(dp_pair, f\"t_{source}_3d_dock.sdf\"))\n",
    "        shutil.copy(fp_pdb, os.path.join(dp_pair, f\"{chembl_id}.pdb\"))\n",
    "\n",
    "    except:\n",
    "        continue"
   ]
  },
  {
   "cell_type": "code",
   "execution_count": null,
   "id": "5fe92c98",
   "metadata": {},
   "outputs": [],
   "source": []
  },
  {
   "cell_type": "code",
   "execution_count": null,
   "id": "ddee3233",
   "metadata": {},
   "outputs": [],
   "source": []
  },
  {
   "cell_type": "code",
   "execution_count": null,
   "id": "61c92b97",
   "metadata": {},
   "outputs": [],
   "source": []
  },
  {
   "cell_type": "code",
   "execution_count": null,
   "id": "13f41db6",
   "metadata": {},
   "outputs": [],
   "source": []
  },
  {
   "cell_type": "code",
   "execution_count": null,
   "id": "59302145",
   "metadata": {},
   "outputs": [],
   "source": []
  },
  {
   "cell_type": "code",
   "execution_count": null,
   "id": "3144e862",
   "metadata": {},
   "outputs": [],
   "source": []
  },
  {
   "cell_type": "code",
   "execution_count": null,
   "id": "60f79309",
   "metadata": {},
   "outputs": [],
   "source": []
  },
  {
   "cell_type": "code",
   "execution_count": null,
   "id": "ca1017b0",
   "metadata": {},
   "outputs": [],
   "source": []
  },
  {
   "cell_type": "code",
   "execution_count": null,
   "id": "752a291e",
   "metadata": {},
   "outputs": [],
   "source": []
  },
  {
   "cell_type": "code",
   "execution_count": null,
   "id": "d55d777d",
   "metadata": {},
   "outputs": [],
   "source": []
  }
 ],
 "metadata": {
  "kernelspec": {
   "display_name": "ud2pub",
   "language": "python",
   "name": "python3"
  },
  "language_info": {
   "codemirror_mode": {
    "name": "ipython",
    "version": 3
   },
   "file_extension": ".py",
   "mimetype": "text/x-python",
   "name": "python",
   "nbconvert_exporter": "python",
   "pygments_lexer": "ipython3",
   "version": "3.10.18"
  }
 },
 "nbformat": 4,
 "nbformat_minor": 5
}
