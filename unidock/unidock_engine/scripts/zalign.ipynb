{
 "cells": [
  {
   "cell_type": "markdown",
   "id": "bac35fcf",
   "metadata": {},
   "source": [
    "# Similarity Score"
   ]
  },
  {
   "cell_type": "code",
   "execution_count": null,
   "id": "716552f3",
   "metadata": {},
   "outputs": [],
   "source": [
    "from rdkit import Chem\n",
    "from rdkit.Chem import AllChem\n",
    "\n",
    "\n",
    "class ZAtomType:\n",
    "    \"\"\"获取特征\"\"\"\n",
    "    \n",
    "    def __init__(self, mol):\n",
    "        self.mol = mol\n",
    "\n",
    "    def read_sdf(file_path):\n",
    "        # Readtwo SDF files with rdkit\n",
    "        self.mol = Chem.SDMolSupplier(file_path)[0]\n",
    "\n",
    "    def get_atom_ring_types(self):\n",
    "        # 获取每个原子的环类型，包括8种类型：\n",
    "        # {0: 非环, 1: 3元环, 2: 4元环, 3: 5元环, 4: 6元环, 5: 5&6元环, 6: 6&6元环, 7: 其他环}\n",
    "        ring_info = self.mol.GetRingInfo()\n",
    "        atom_rings = ring_info.AtomRings()\n",
    "\n",
    "        # get all atoms in ring\n",
    "        dict_atom_ringsize = dict()\n",
    "        for r in atom_rings:\n",
    "            for i in r:\n",
    "                if i in dict_atom_ringsize:\n",
    "                    dict_atom_ringsize[i].append(len(r))\n",
    "                else:\n",
    "                    dict_atom_ringsize[i] = [len(r)]\n",
    "\n",
    "        atom_ring_types = []\n",
    "        # 获取所有环，按原子索引\n",
    "        for i in range(self.mol.GetNumAtoms()):\n",
    "            at = 7\n",
    "\n",
    "            if i not in dict_atom_ringsize:\n",
    "                at = 0\n",
    "            \n",
    "            elif len(dict_atom_ringsize[i]) == 1:\n",
    "                if ring_info.IsAtomInRingOfSize(i, 3):\n",
    "                    at = 1\n",
    "                elif ring_info.IsAtomInRingOfSize(i, 4):\n",
    "                    at = 2\n",
    "                elif ring_info.IsAtomInRingOfSize(i, 5):\n",
    "                    at = 3\n",
    "                elif ring_info.IsAtomInRingOfSize(i, 6):\n",
    "                    at = 4\n",
    "            \n",
    "            elif len(dict_atom_ringsize[i]) == 2:\n",
    "                if set(dict_atom_ringsize[i]) == {5, 6}:\n",
    "                    at = 5\n",
    "                elif set(dict_atom_ringsize[i]) == {6}:\n",
    "                    at = 6\n",
    "\n",
    "        \n",
    "            atom_ring_types.append(at)\n",
    "\n",
    "        return atom_ring_types\n",
    "\n",
    "\n",
    "    def get_atom_charge_types(self, ff=False):\n",
    "        # 补氢\n",
    "        self.mol = Chem.AddHs(self.mol)  \n",
    "        \n",
    "        atom_charges = []\n",
    "\n",
    "        if ff: # MMFF94\n",
    "            # 生成初始构象\n",
    "            AllChem.EmbedMolecule(self.mol)  \n",
    "\n",
    "            # 优化分子构象\n",
    "            AllChem.MMFFOptimizeMolecule(self.mol)\n",
    "\n",
    "            # 计算 MMFF94 电荷\n",
    "            mp = AllChem.MMFFGetMoleculeProperties(self.mol)\n",
    "            for atom in self.mol.GetAtoms():\n",
    "                charge = mp.GetMMFFPartialCharge(atom.GetIdx())\n",
    "                atom_charges.append(charge)\n",
    "\n",
    "        else: # Gasteiger 电荷\n",
    "            AllChem.ComputeGasteigerCharges(self.mol)\n",
    "\n",
    "            for atom in self.mol.GetAtoms():\n",
    "                charge = atom.GetProp('_GasteigerCharge')\n",
    "                atom_charges.append(charge)\n",
    "\n",
    "        return atom_charges\n",
    "\n",
    "\n",
    "    def get_atom_bond_number(self):\n",
    "        atom_bond_number = [len(atom.GetBonds()) for atom in self.mol.GetAtoms()]\n",
    "        return atom_bond_number\n",
    "\n",
    "\n",
    "    def get_atom_element_types(self):\n",
    "        atom_element_types = [atom.GetSymbol() for atom in self.mol.GetAtoms()]\n",
    "        return atom_element_types\n",
    "    \n",
    "\n"
   ]
  },
  {
   "cell_type": "code",
   "execution_count": null,
   "id": "250a7953",
   "metadata": {},
   "outputs": [
    {
     "name": "stderr",
     "output_type": "stream",
     "text": [
      "<>:18: SyntaxWarning: invalid escape sequence '\\l'\n",
      "<>:46: SyntaxWarning: invalid escape sequence '\\m'\n",
      "<>:18: SyntaxWarning: invalid escape sequence '\\l'\n",
      "<>:46: SyntaxWarning: invalid escape sequence '\\m'\n",
      "/tmp/ipykernel_2355225/1614240382.py:18: SyntaxWarning: invalid escape sequence '\\l'\n",
      "  $$a_{\\text{charge}} =\\left\\{\n",
      "/tmp/ipykernel_2355225/1614240382.py:46: SyntaxWarning: invalid escape sequence '\\m'\n",
      "  a_{qt} = a_{\\text{type}} + a_{\\text{charge}} + \\min(2, a_{\\text{bond}} + 2\\times a_{\\text{ring}})\n"
     ]
    },
    {
     "ename": "SyntaxError",
     "evalue": "incomplete input (1614240382.py, line 59)",
     "output_type": "error",
     "traceback": [
      "  \u001b[36mCell\u001b[39m\u001b[36m \u001b[39m\u001b[32mIn[95]\u001b[39m\u001b[32m, line 59\u001b[39m\n\u001b[31m    \u001b[39m\u001b[31mdef score_matrix(self, mol_q, mol_t):\u001b[39m\n                                         ^\n\u001b[31mSyntaxError\u001b[39m\u001b[31m:\u001b[39m incomplete input\n"
     ]
    }
   ],
   "source": [
    "import numpy as np\n",
    "\n",
    "class ZScore:\n",
    "    def __init__(self, mol_q, mol_t):\n",
    "        self.at_q = ZAtomType(mol_q)\n",
    "        self.at_t = ZAtomType(mol_t)\n",
    "\n",
    "    def score_element(self):\n",
    "        # 1 if at_q == at_t, 0 otherwise\n",
    "        # size=m list and size=n list to create a m*n matrix\n",
    "        # 扩展两个矩阵，生成 m*n 的比较矩阵\n",
    "        q_types = np.array(self.at_q.get_atom_element_types())\n",
    "        t_types = np.array(self.at_t.get_atom_element_types())\n",
    "\n",
    "        return (q_types[:, np.newaxis] == t_types[np.newaxis, :])\n",
    "\n",
    "    def score_charge(self):\n",
    "        \"\"\"其中电荷项打分\n",
    "        $$a_{\\text{charge}} =\\left\\{\n",
    "                \\begin{array}{lr}\n",
    "                0.25 \\times (y+2)(y - 1)^2,          &-1 < y < 1 \\\\\n",
    "                0,  &y \\ge 1\n",
    "                \\end{array}\n",
    "            \\right.\n",
    "        $$\n",
    "        \"\"\"\n",
    "        q_charges = np.array(self.at_q.get_atom_charge_types())\n",
    "        t_charges = np.array(self.at_t.get_atom_charge_types())\n",
    "\n",
    "        return 0.25 * (q_charges[:, np.newaxis] + 2) * (q_charges[:, np.newaxis] - 1) ** 2 + \\\n",
    "        (t_charges[np.newaxis, :] + 2) * (t_charges[np.newaxis, :] - 1) ** 2\n",
    "\n",
    "    def score_bond(self):\n",
    "        q_bonds = np.array(self.at_q.get_atom_bond_number())\n",
    "        t_bonds = np.array(self.at_t.get_atom_bond_number())\n",
    "\n",
    "        return (q_bonds[:, np.newaxis] == t_bonds[np.newaxis, :])\n",
    "\n",
    "    def score_ring(self):\n",
    "        q_rings = np.array(self.at_q.get_atom_ring_types())\n",
    "        t_rings = np.array(self.at_t.get_atom_ring_types())\n",
    "\n",
    "        return (q_rings[:, np.newaxis] == t_rings[np.newaxis, :])\n",
    "\n",
    "    def score(self, mol_q, mol_t):\n",
    "        \"\"\"\n",
    "        $$\n",
    "        a_{qt} = a_{\\text{type}} + a_{\\text{charge}} + \\min(2, a_{\\text{bond}} + 2\\times a_{\\text{ring}})\n",
    "        $$\n",
    "        \"\"\"\n",
    "        a_element = self.score_element()\n",
    "        a_charge = self.score_charge()\n",
    "        a_bond = self.score_bond()\n",
    "        a_ring = self.score_ring()\n",
    "\n",
    "        return a_element + a_charge + min(2, a_bond + 2 * a_ring)\n",
    "\n"
   ]
  },
  {
   "cell_type": "markdown",
   "id": "d53a4490",
   "metadata": {},
   "source": [
    "# Utils"
   ]
  },
  {
   "cell_type": "markdown",
   "id": "04a76dfb",
   "metadata": {},
   "source": [
    "## Transfer .MOL file to .SDF File"
   ]
  },
  {
   "cell_type": "code",
   "execution_count": 22,
   "id": "fb9aa170",
   "metadata": {},
   "outputs": [
    {
     "data": {
      "text/plain": [
       "'/home/lccdp/Projects/clion/Uni-Dock2/unidock/unidock_engine/examples/align_Bace/test_all_rings.sdf'"
      ]
     },
     "execution_count": 22,
     "metadata": {},
     "output_type": "execute_result"
    }
   ],
   "source": [
    "def transfer_mol_to_sdf(mol_file_path):\n",
    "    fp_sdf = mol_file_path.replace(\".mol\", \".sdf\")\n",
    "    mol = Chem.MolFromMolFile(mol_file_path)\n",
    "    Chem.MolToMolFile(mol, fp_sdf)\n",
    "    return fp_sdf\n",
    "\n",
    "transfer_mol_to_sdf(\"/home/lccdp/Projects/clion/Uni-Dock2/unidock/unidock_engine/examples/align_Bace/test_all_rings.mol\")"
   ]
  },
  {
   "cell_type": "code",
   "execution_count": null,
   "id": "df44aea8",
   "metadata": {},
   "outputs": [],
   "source": [
    "$$a_{\\text{charge}} =\\left\\{\n",
    "\t\t\\begin{array}{lr}\n",
    "\t\t0.25 \\times (y+2)(y - 1)^2,          &-1 < y < 1 \\\\\n",
    "\t\t0,  &y \\ge 1\n",
    "\t\t\\end{array}\n",
    "\t\\right.\n",
    "$$"
   ]
  },
  {
   "cell_type": "code",
   "execution_count": null,
   "id": "eef31cf2",
   "metadata": {},
   "outputs": [],
   "source": []
  },
  {
   "cell_type": "markdown",
   "id": "1b552ada",
   "metadata": {},
   "source": [
    "# Attractive Energy"
   ]
  },
  {
   "cell_type": "code",
   "execution_count": null,
   "id": "4a14b8d8",
   "metadata": {},
   "outputs": [],
   "source": []
  },
  {
   "cell_type": "markdown",
   "id": "1a35e0d3",
   "metadata": {},
   "source": [
    "# Repulsive Energy"
   ]
  },
  {
   "cell_type": "code",
   "execution_count": null,
   "id": "74d4032d",
   "metadata": {},
   "outputs": [],
   "source": []
  }
 ],
 "metadata": {
  "kernelspec": {
   "display_name": "new",
   "language": "python",
   "name": "python3"
  },
  "language_info": {
   "codemirror_mode": {
    "name": "ipython",
    "version": 3
   },
   "file_extension": ".py",
   "mimetype": "text/x-python",
   "name": "python",
   "nbconvert_exporter": "python",
   "pygments_lexer": "ipython3",
   "version": "3.12.11"
  }
 },
 "nbformat": 4,
 "nbformat_minor": 5
}
